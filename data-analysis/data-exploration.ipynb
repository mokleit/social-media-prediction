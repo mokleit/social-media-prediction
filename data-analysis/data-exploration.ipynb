{
 "cells": [
  {
   "cell_type": "code",
   "execution_count": 1,
   "metadata": {
    "pycharm": {
     "is_executing": true,
     "name": "#%%\n"
    }
   },
   "outputs": [],
   "source": [
    "# Imports\n",
    "import os\n",
    "import numpy as np\n",
    "import random\n",
    "import pandas as pd\n",
    "import matplotlib.pyplot as plt\n",
    "import seaborn as sns\n",
    "from sklearn.impute import SimpleImputer\n",
    "%matplotlib inline"
   ]
  },
  {
   "cell_type": "code",
   "execution_count": 2,
   "metadata": {
    "pycharm": {
     "name": "#%%\n"
    }
   },
   "outputs": [],
   "source": [
    "# Set random seeds (for reproducibility requirement)\n",
    "os.environ['PYTHONHASHSEED']=str(1)\n",
    "np.random.seed(1)\n",
    "random.seed(1)"
   ]
  },
  {
   "cell_type": "code",
   "execution_count": 3,
   "metadata": {
    "execution": {
     "iopub.execute_input": "2020-12-14T16:29:12.952200Z",
     "iopub.status.busy": "2020-12-14T16:29:12.951421Z",
     "iopub.status.idle": "2020-12-14T16:29:13.134196Z",
     "shell.execute_reply": "2020-12-14T16:29:13.133565Z"
    },
    "papermill": {
     "duration": 0.265875,
     "end_time": "2020-12-14T16:29:13.134322",
     "exception": false,
     "start_time": "2020-12-14T16:29:12.868447",
     "status": "completed"
    },
    "tags": []
   },
   "outputs": [
    {
     "data": {
      "text/html": [
       "<div>\n",
       "<style scoped>\n",
       "    .dataframe tbody tr th:only-of-type {\n",
       "        vertical-align: middle;\n",
       "    }\n",
       "\n",
       "    .dataframe tbody tr th {\n",
       "        vertical-align: top;\n",
       "    }\n",
       "\n",
       "    .dataframe thead th {\n",
       "        text-align: right;\n",
       "    }\n",
       "</style>\n",
       "<table border=\"1\" class=\"dataframe\">\n",
       "  <thead>\n",
       "    <tr style=\"text-align: right;\">\n",
       "      <th></th>\n",
       "      <th>Id</th>\n",
       "      <th>User Name</th>\n",
       "      <th>Personal URL</th>\n",
       "      <th>Profile Cover Image Status</th>\n",
       "      <th>Profile Verification Status</th>\n",
       "      <th>Profile Text Color</th>\n",
       "      <th>Profile Page Color</th>\n",
       "      <th>Profile Theme Color</th>\n",
       "      <th>Is Profile View Size Customized?</th>\n",
       "      <th>UTC Offset</th>\n",
       "      <th>...</th>\n",
       "      <th>User Time Zone</th>\n",
       "      <th>Num of Followers</th>\n",
       "      <th>Num of People Following</th>\n",
       "      <th>Num of Status Updates</th>\n",
       "      <th>Num of Direct Messages</th>\n",
       "      <th>Profile Category</th>\n",
       "      <th>Avg Daily Profile Visit Duration in seconds</th>\n",
       "      <th>Avg Daily Profile Clicks</th>\n",
       "      <th>Profile Image</th>\n",
       "      <th>Num of Profile Likes</th>\n",
       "    </tr>\n",
       "  </thead>\n",
       "  <tbody>\n",
       "    <tr>\n",
       "      <th>0</th>\n",
       "      <td>AL85S14OMDPF01I9</td>\n",
       "      <td>Mf9vfld4Vfe</td>\n",
       "      <td>NaN</td>\n",
       "      <td>Set</td>\n",
       "      <td>Verified</td>\n",
       "      <td>db1a2c</td>\n",
       "      <td>eaf0f2</td>\n",
       "      <td>e70409</td>\n",
       "      <td>False</td>\n",
       "      <td>39600.0</td>\n",
       "      <td>...</td>\n",
       "      <td>Sydney</td>\n",
       "      <td>95763</td>\n",
       "      <td>4289</td>\n",
       "      <td>30809</td>\n",
       "      <td>873</td>\n",
       "      <td>business</td>\n",
       "      <td>14.792</td>\n",
       "      <td>1.5761</td>\n",
       "      <td>AL85S14OMDPF01I9.png</td>\n",
       "      <td>2815</td>\n",
       "    </tr>\n",
       "    <tr>\n",
       "      <th>1</th>\n",
       "      <td>HI11QOPD7BLJTO7Q</td>\n",
       "      <td>xl9gaGN0hxM_</td>\n",
       "      <td>NaN</td>\n",
       "      <td>Set</td>\n",
       "      <td>Verified</td>\n",
       "      <td>0099cc</td>\n",
       "      <td>f6ffd1</td>\n",
       "      <td>fff04d</td>\n",
       "      <td>False</td>\n",
       "      <td>NaN</td>\n",
       "      <td>...</td>\n",
       "      <td>NaN</td>\n",
       "      <td>1018746</td>\n",
       "      <td>289</td>\n",
       "      <td>8150</td>\n",
       "      <td>290</td>\n",
       "      <td>unknown</td>\n",
       "      <td>8.183</td>\n",
       "      <td>11.2782</td>\n",
       "      <td>HI11QOPD7BLJTO7Q.png</td>\n",
       "      <td>1242</td>\n",
       "    </tr>\n",
       "    <tr>\n",
       "      <th>2</th>\n",
       "      <td>JS49LP5P72RI1OQB</td>\n",
       "      <td>d_uiMm</td>\n",
       "      <td>NaN</td>\n",
       "      <td>Set</td>\n",
       "      <td>Not verified</td>\n",
       "      <td>1fc2de</td>\n",
       "      <td>efefef</td>\n",
       "      <td>1fc2de</td>\n",
       "      <td>False</td>\n",
       "      <td>-18000.0</td>\n",
       "      <td>...</td>\n",
       "      <td>Central Time (US &amp; Canada)</td>\n",
       "      <td>13444</td>\n",
       "      <td>1876</td>\n",
       "      <td>4698</td>\n",
       "      <td>227</td>\n",
       "      <td>unknown</td>\n",
       "      <td>31.823</td>\n",
       "      <td>0.5725</td>\n",
       "      <td>JS49LP5P72RI1OQB.png</td>\n",
       "      <td>1559</td>\n",
       "    </tr>\n",
       "    <tr>\n",
       "      <th>3</th>\n",
       "      <td>S0GDSC09MACCLBJP</td>\n",
       "      <td>hfylaRr</td>\n",
       "      <td>https://blob/e/g9pex_vS.com</td>\n",
       "      <td>Not set</td>\n",
       "      <td>Verified</td>\n",
       "      <td>050000</td>\n",
       "      <td>616161</td>\n",
       "      <td>00090a</td>\n",
       "      <td>False</td>\n",
       "      <td>-14400.0</td>\n",
       "      <td>...</td>\n",
       "      <td>Eastern Time (US &amp; Canada)</td>\n",
       "      <td>339168</td>\n",
       "      <td>1148</td>\n",
       "      <td>53216</td>\n",
       "      <td>4035</td>\n",
       "      <td>business</td>\n",
       "      <td>23.052</td>\n",
       "      <td>4.0265</td>\n",
       "      <td>S0GDSC09MACCLBJP.png</td>\n",
       "      <td>6342</td>\n",
       "    </tr>\n",
       "    <tr>\n",
       "      <th>4</th>\n",
       "      <td>CRSEMK4QER6LDJSA</td>\n",
       "      <td>hRR1sDGlz5</td>\n",
       "      <td>https://blob/v/Szeo.h4/.com</td>\n",
       "      <td>Set</td>\n",
       "      <td>Not verified</td>\n",
       "      <td>58424d</td>\n",
       "      <td>f7f7f7</td>\n",
       "      <td>000000</td>\n",
       "      <td>False</td>\n",
       "      <td>-18000.0</td>\n",
       "      <td>...</td>\n",
       "      <td>Central Time (US &amp; Canada)</td>\n",
       "      <td>9215</td>\n",
       "      <td>93</td>\n",
       "      <td>3271</td>\n",
       "      <td>130</td>\n",
       "      <td>unknown</td>\n",
       "      <td>8.418</td>\n",
       "      <td>3.9229</td>\n",
       "      <td>CRSEMK4QER6LDJSA.png</td>\n",
       "      <td>1078</td>\n",
       "    </tr>\n",
       "  </tbody>\n",
       "</table>\n",
       "<p>5 rows × 24 columns</p>\n",
       "</div>"
      ],
      "text/plain": [
       "                 Id     User Name                 Personal URL  \\\n",
       "0  AL85S14OMDPF01I9   Mf9vfld4Vfe                          NaN   \n",
       "1  HI11QOPD7BLJTO7Q  xl9gaGN0hxM_                          NaN   \n",
       "2  JS49LP5P72RI1OQB        d_uiMm                          NaN   \n",
       "3  S0GDSC09MACCLBJP       hfylaRr  https://blob/e/g9pex_vS.com   \n",
       "4  CRSEMK4QER6LDJSA    hRR1sDGlz5  https://blob/v/Szeo.h4/.com   \n",
       "\n",
       "  Profile Cover Image Status Profile Verification Status Profile Text Color  \\\n",
       "0                        Set                    Verified             db1a2c   \n",
       "1                        Set                    Verified             0099cc   \n",
       "2                        Set                Not verified             1fc2de   \n",
       "3                    Not set                    Verified             050000   \n",
       "4                        Set                Not verified             58424d   \n",
       "\n",
       "  Profile Page Color Profile Theme Color  Is Profile View Size Customized?  \\\n",
       "0             eaf0f2              e70409                             False   \n",
       "1             f6ffd1              fff04d                             False   \n",
       "2             efefef              1fc2de                             False   \n",
       "3             616161              00090a                             False   \n",
       "4             f7f7f7              000000                             False   \n",
       "\n",
       "   UTC Offset  ...              User Time Zone Num of Followers  \\\n",
       "0     39600.0  ...                      Sydney            95763   \n",
       "1         NaN  ...                         NaN          1018746   \n",
       "2    -18000.0  ...  Central Time (US & Canada)            13444   \n",
       "3    -14400.0  ...  Eastern Time (US & Canada)           339168   \n",
       "4    -18000.0  ...  Central Time (US & Canada)             9215   \n",
       "\n",
       "  Num of People Following Num of Status Updates Num of Direct Messages  \\\n",
       "0                    4289                 30809                    873   \n",
       "1                     289                  8150                    290   \n",
       "2                    1876                  4698                    227   \n",
       "3                    1148                 53216                   4035   \n",
       "4                      93                  3271                    130   \n",
       "\n",
       "   Profile Category  Avg Daily Profile Visit Duration in seconds  \\\n",
       "0          business                                       14.792   \n",
       "1           unknown                                        8.183   \n",
       "2           unknown                                       31.823   \n",
       "3          business                                       23.052   \n",
       "4           unknown                                        8.418   \n",
       "\n",
       "   Avg Daily Profile Clicks         Profile Image Num of Profile Likes  \n",
       "0                    1.5761  AL85S14OMDPF01I9.png                 2815  \n",
       "1                   11.2782  HI11QOPD7BLJTO7Q.png                 1242  \n",
       "2                    0.5725  JS49LP5P72RI1OQB.png                 1559  \n",
       "3                    4.0265  S0GDSC09MACCLBJP.png                 6342  \n",
       "4                    3.9229  CRSEMK4QER6LDJSA.png                 1078  \n",
       "\n",
       "[5 rows x 24 columns]"
      ]
     },
     "execution_count": 3,
     "metadata": {},
     "output_type": "execute_result"
    }
   ],
   "source": [
    "df_train = pd.read_csv('../data/train.csv')\n",
    "df_test = pd.read_csv('../data/test.csv')\n",
    "df_train.head()"
   ]
  },
  {
   "cell_type": "markdown",
   "metadata": {
    "papermill": {
     "duration": 0.078725,
     "end_time": "2020-12-14T16:29:13.290503",
     "exception": false,
     "start_time": "2020-12-14T16:29:13.211778",
     "status": "completed"
    },
    "tags": []
   },
   "source": [
    "As seen in the matrix below, we see that all numerical features are only slightly correlated with our target variable, we can therefore keep them all for now."
   ]
  },
  {
   "cell_type": "code",
   "execution_count": 4,
   "metadata": {
    "execution": {
     "iopub.execute_input": "2020-12-14T16:29:13.448865Z",
     "iopub.status.busy": "2020-12-14T16:29:13.448030Z",
     "iopub.status.idle": "2020-12-14T16:29:13.467217Z",
     "shell.execute_reply": "2020-12-14T16:29:13.467783Z"
    },
    "papermill": {
     "duration": 0.101394,
     "end_time": "2020-12-14T16:29:13.467944",
     "exception": false,
     "start_time": "2020-12-14T16:29:13.366550",
     "status": "completed"
    },
    "tags": []
   },
   "outputs": [
    {
     "data": {
      "text/html": [
       "<div>\n",
       "<style scoped>\n",
       "    .dataframe tbody tr th:only-of-type {\n",
       "        vertical-align: middle;\n",
       "    }\n",
       "\n",
       "    .dataframe tbody tr th {\n",
       "        vertical-align: top;\n",
       "    }\n",
       "\n",
       "    .dataframe thead th {\n",
       "        text-align: right;\n",
       "    }\n",
       "</style>\n",
       "<table border=\"1\" class=\"dataframe\">\n",
       "  <thead>\n",
       "    <tr style=\"text-align: right;\">\n",
       "      <th></th>\n",
       "      <th>Num of Profile Likes</th>\n",
       "    </tr>\n",
       "  </thead>\n",
       "  <tbody>\n",
       "    <tr>\n",
       "      <th>Is Profile View Size Customized?</th>\n",
       "      <td>-0.049112</td>\n",
       "    </tr>\n",
       "    <tr>\n",
       "      <th>UTC Offset</th>\n",
       "      <td>-0.045727</td>\n",
       "    </tr>\n",
       "    <tr>\n",
       "      <th>Avg Daily Profile Visit Duration in seconds</th>\n",
       "      <td>-0.012952</td>\n",
       "    </tr>\n",
       "    <tr>\n",
       "      <th>Num of Followers</th>\n",
       "      <td>-0.009628</td>\n",
       "    </tr>\n",
       "    <tr>\n",
       "      <th>Num of Direct Messages</th>\n",
       "      <td>-0.000513</td>\n",
       "    </tr>\n",
       "    <tr>\n",
       "      <th>Num of Status Updates</th>\n",
       "      <td>0.043182</td>\n",
       "    </tr>\n",
       "    <tr>\n",
       "      <th>Num of People Following</th>\n",
       "      <td>0.123276</td>\n",
       "    </tr>\n",
       "    <tr>\n",
       "      <th>Avg Daily Profile Clicks</th>\n",
       "      <td>0.145863</td>\n",
       "    </tr>\n",
       "    <tr>\n",
       "      <th>Num of Profile Likes</th>\n",
       "      <td>1.000000</td>\n",
       "    </tr>\n",
       "  </tbody>\n",
       "</table>\n",
       "</div>"
      ],
      "text/plain": [
       "                                             Num of Profile Likes\n",
       "Is Profile View Size Customized?                        -0.049112\n",
       "UTC Offset                                              -0.045727\n",
       "Avg Daily Profile Visit Duration in seconds             -0.012952\n",
       "Num of Followers                                        -0.009628\n",
       "Num of Direct Messages                                  -0.000513\n",
       "Num of Status Updates                                    0.043182\n",
       "Num of People Following                                  0.123276\n",
       "Avg Daily Profile Clicks                                 0.145863\n",
       "Num of Profile Likes                                     1.000000"
      ]
     },
     "execution_count": 4,
     "metadata": {},
     "output_type": "execute_result"
    }
   ],
   "source": [
    "#Check which features are highly correlated with the target variable\n",
    "correlation_matrix = df_train.corr()[['Num of Profile Likes']].sort_values('Num of Profile Likes')\n",
    "correlation_matrix"
   ]
  },
  {
   "cell_type": "markdown",
   "metadata": {
    "papermill": {
     "duration": 0.076298,
     "end_time": "2020-12-14T16:29:13.621794",
     "exception": false,
     "start_time": "2020-12-14T16:29:13.545496",
     "status": "completed"
    },
    "tags": []
   },
   "source": [
    "Let's see the distribution of our target variable: Number of Profile Likes. Before that, let's make sure that there are no NaN values."
   ]
  },
  {
   "cell_type": "code",
   "execution_count": 5,
   "metadata": {
    "execution": {
     "iopub.execute_input": "2020-12-14T16:29:13.782165Z",
     "iopub.status.busy": "2020-12-14T16:29:13.781310Z",
     "iopub.status.idle": "2020-12-14T16:29:13.785989Z",
     "shell.execute_reply": "2020-12-14T16:29:13.785235Z"
    },
    "papermill": {
     "duration": 0.08785,
     "end_time": "2020-12-14T16:29:13.786114",
     "exception": false,
     "start_time": "2020-12-14T16:29:13.698264",
     "status": "completed"
    },
    "tags": []
   },
   "outputs": [
    {
     "data": {
      "text/plain": [
       "0"
      ]
     },
     "execution_count": 5,
     "metadata": {},
     "output_type": "execute_result"
    }
   ],
   "source": [
    "df_train['Num of Profile Likes'].isnull().sum()"
   ]
  },
  {
   "cell_type": "markdown",
   "metadata": {
    "papermill": {
     "duration": 0.077345,
     "end_time": "2020-12-14T16:29:13.941083",
     "exception": false,
     "start_time": "2020-12-14T16:29:13.863738",
     "status": "completed"
    },
    "tags": []
   },
   "source": [
    "There are no missing values for our target variables. Let's keep going."
   ]
  },
  {
   "cell_type": "code",
   "execution_count": 6,
   "metadata": {
    "execution": {
     "iopub.execute_input": "2020-12-14T16:29:14.105315Z",
     "iopub.status.busy": "2020-12-14T16:29:14.104536Z",
     "iopub.status.idle": "2020-12-14T16:29:14.359123Z",
     "shell.execute_reply": "2020-12-14T16:29:14.358280Z"
    },
    "papermill": {
     "duration": 0.339214,
     "end_time": "2020-12-14T16:29:14.359267",
     "exception": false,
     "start_time": "2020-12-14T16:29:14.020053",
     "status": "completed"
    },
    "tags": []
   },
   "outputs": [
    {
     "name": "stderr",
     "output_type": "stream",
     "text": [
      "/Users/mohamedkleit/Projects/social-media-prediction-ift6758/venv/lib/python3.9/site-packages/seaborn/distributions.py:2557: FutureWarning: `distplot` is a deprecated function and will be removed in a future version. Please adapt your code to use either `displot` (a figure-level function with similar flexibility) or `histplot` (an axes-level function for histograms).\n",
      "  warnings.warn(msg, FutureWarning)\n"
     ]
    },
    {
     "data": {
      "image/png": "[encoded data removed]",
      "text/plain": [
       "<Figure size 432x288 with 1 Axes>"
      ]
     },
     "metadata": {
      "needs_background": "light"
     },
     "output_type": "display_data"
    }
   ],
   "source": [
    "sns.distplot(df_train['Num of Profile Likes'], bins=10, kde=True)\n",
    "plt.ylabel('Count')\n",
    "plt.title('Profile Likes Distribution')\n",
    "plt.show()"
   ]
  },
  {
   "cell_type": "markdown",
   "metadata": {
    "papermill": {
     "duration": 0.0787,
     "end_time": "2020-12-14T16:29:14.518716",
     "exception": false,
     "start_time": "2020-12-14T16:29:14.440016",
     "status": "completed"
    },
    "tags": []
   },
   "source": [
    "We can see that our target variable is heavily right skewed. This usually indicates that there are some outliers. Let's detect those outliers."
   ]
  },
  {
   "cell_type": "code",
   "execution_count": 7,
   "metadata": {
    "execution": {
     "iopub.execute_input": "2020-12-14T16:29:14.694448Z",
     "iopub.status.busy": "2020-12-14T16:29:14.690701Z",
     "iopub.status.idle": "2020-12-14T16:29:14.815218Z",
     "shell.execute_reply": "2020-12-14T16:29:14.814632Z"
    },
    "papermill": {
     "duration": 0.217903,
     "end_time": "2020-12-14T16:29:14.815369",
     "exception": false,
     "start_time": "2020-12-14T16:29:14.597466",
     "status": "completed"
    },
    "tags": []
   },
   "outputs": [
    {
     "data": {
      "image/png": "[encoded data removed]",
      "text/plain": [
       "<Figure size 720x360 with 1 Axes>"
      ]
     },
     "metadata": {
      "needs_background": "light"
     },
     "output_type": "display_data"
    }
   ],
   "source": [
    "#Print a boxplot for our target variable\n",
    "plt.figure(figsize=(10,5))\n",
    "sns.boxplot(x=df_train['Num of Profile Likes'])\n",
    "plt.show()"
   ]
  },
  {
   "cell_type": "markdown",
   "metadata": {
    "papermill": {
     "duration": 0.078834,
     "end_time": "2020-12-14T16:29:14.973560",
     "exception": false,
     "start_time": "2020-12-14T16:29:14.894726",
     "status": "completed"
    },
    "tags": []
   },
   "source": [
    "Let's understand our features a bit more with respect to the target variable"
   ]
  },
  {
   "cell_type": "code",
   "execution_count": 8,
   "metadata": {
    "execution": {
     "iopub.execute_input": "2020-12-14T16:29:15.150134Z",
     "iopub.status.busy": "2020-12-14T16:29:15.142896Z",
     "iopub.status.idle": "2020-12-14T16:29:15.913980Z",
     "shell.execute_reply": "2020-12-14T16:29:15.913214Z"
    },
    "papermill": {
     "duration": 0.860173,
     "end_time": "2020-12-14T16:29:15.914114",
     "exception": false,
     "start_time": "2020-12-14T16:29:15.053941",
     "status": "completed"
    },
    "tags": []
   },
   "outputs": [
    {
     "data": {
      "image/png": "[encoded data removed]",
      "text/plain": [
       "<Figure size 2160x360 with 4 Axes>"
      ]
     },
     "metadata": {
      "needs_background": "light"
     },
     "output_type": "display_data"
    }
   ],
   "source": [
    "fig, (ax1,ax2,ax3,ax4) = plt.subplots(1,4, figsize=(30,5))\n",
    "sns.scatterplot(x='Num of Followers', y='Num of Profile Likes', data=df_train, ax=ax1)\n",
    "sns.scatterplot(x='Num of Direct Messages', y='Num of Profile Likes', data=df_train, ax=ax2)\n",
    "sns.scatterplot(x='Avg Daily Profile Visit Duration in seconds', y='Num of Profile Likes', data=df_train, ax=ax3)\n",
    "sns.scatterplot(x='Avg Daily Profile Clicks', y='Num of Profile Likes', data=df_train, ax=ax4)\n",
    "plt.show()"
   ]
  },
  {
   "cell_type": "code",
   "execution_count": 9,
   "metadata": {
    "execution": {
     "iopub.execute_input": "2020-12-14T16:29:16.093308Z",
     "iopub.status.busy": "2020-12-14T16:29:16.087223Z",
     "iopub.status.idle": "2020-12-14T16:29:16.649809Z",
     "shell.execute_reply": "2020-12-14T16:29:16.650447Z"
    },
    "papermill": {
     "duration": 0.654879,
     "end_time": "2020-12-14T16:29:16.650608",
     "exception": false,
     "start_time": "2020-12-14T16:29:15.995729",
     "status": "completed"
    },
    "tags": []
   },
   "outputs": [
    {
     "data": {
      "image/png": "[encoded data removed]",
      "text/plain": [
       "<Figure size 2160x360 with 3 Axes>"
      ]
     },
     "metadata": {
      "needs_background": "light"
     },
     "output_type": "display_data"
    }
   ],
   "source": [
    "_, (ax1,ax2,ax3) = plt.subplots(1,3, figsize=(30,5))\n",
    "sns.scatterplot(x='Num of People Following', y='Num of Profile Likes', data=df_train, ax=ax1)\n",
    "sns.scatterplot(x='UTC Offset', y='Num of Profile Likes', data=df_train, ax=ax2)\n",
    "sns.scatterplot(x='Num of Status Updates', y='Num of Profile Likes', data=df_train, ax=ax3)\n",
    "plt.show()"
   ]
  },
  {
   "cell_type": "markdown",
   "metadata": {
    "papermill": {
     "duration": 0.08259,
     "end_time": "2020-12-14T16:29:16.822412",
     "exception": false,
     "start_time": "2020-12-14T16:29:16.739822",
     "status": "completed"
    },
    "tags": []
   },
   "source": [
    "Looking at the scatter plot above, it seems like there is no obvious relationship between the features and the target variables. However, we notice that the values of our target variables are condensed below 200000 likes. We can thus use that as a threshold for the outliers. We also notice that we can remove some outliers regarding the other features."
   ]
  },
  {
   "cell_type": "code",
   "execution_count": 10,
   "metadata": {
    "execution": {
     "iopub.execute_input": "2020-12-14T16:29:16.996599Z",
     "iopub.status.busy": "2020-12-14T16:29:16.995769Z",
     "iopub.status.idle": "2020-12-14T16:29:17.007008Z",
     "shell.execute_reply": "2020-12-14T16:29:17.006238Z"
    },
    "papermill": {
     "duration": 0.101606,
     "end_time": "2020-12-14T16:29:17.007140",
     "exception": false,
     "start_time": "2020-12-14T16:29:16.905534",
     "status": "completed"
    },
    "tags": []
   },
   "outputs": [],
   "source": [
    "df_train = df_train.drop(df_train[df_train['Num of Profile Likes']>200000].index)\n",
    "df_train = df_train.drop(df_train[df_train['Num of Profile Likes']<1].index)"
   ]
  },
  {
   "cell_type": "markdown",
   "metadata": {
    "papermill": {
     "duration": 0.083859,
     "end_time": "2020-12-14T16:29:17.176914",
     "exception": false,
     "start_time": "2020-12-14T16:29:17.093055",
     "status": "completed"
    },
    "tags": []
   },
   "source": [
    "Let's see how many observations we have left."
   ]
  },
  {
   "cell_type": "code",
   "execution_count": 11,
   "metadata": {
    "execution": {
     "iopub.execute_input": "2020-12-14T16:29:17.350758Z",
     "iopub.status.busy": "2020-12-14T16:29:17.349883Z",
     "iopub.status.idle": "2020-12-14T16:29:17.354503Z",
     "shell.execute_reply": "2020-12-14T16:29:17.355062Z"
    },
    "papermill": {
     "duration": 0.093924,
     "end_time": "2020-12-14T16:29:17.355219",
     "exception": false,
     "start_time": "2020-12-14T16:29:17.261295",
     "status": "completed"
    },
    "tags": []
   },
   "outputs": [
    {
     "data": {
      "text/plain": [
       "7203"
      ]
     },
     "execution_count": 11,
     "metadata": {},
     "output_type": "execute_result"
    }
   ],
   "source": [
    "df_train.shape[0]"
   ]
  },
  {
   "cell_type": "code",
   "execution_count": 12,
   "metadata": {
    "execution": {
     "iopub.execute_input": "2020-12-14T16:29:17.534984Z",
     "iopub.status.busy": "2020-12-14T16:29:17.529209Z",
     "iopub.status.idle": "2020-12-14T16:29:17.671939Z",
     "shell.execute_reply": "2020-12-14T16:29:17.671196Z"
    },
    "papermill": {
     "duration": 0.23293,
     "end_time": "2020-12-14T16:29:17.672080",
     "exception": false,
     "start_time": "2020-12-14T16:29:17.439150",
     "status": "completed"
    },
    "tags": []
   },
   "outputs": [
    {
     "data": {
      "image/png": "[encoded data removed]",
      "text/plain": [
       "<Figure size 720x360 with 1 Axes>"
      ]
     },
     "metadata": {
      "needs_background": "light"
     },
     "output_type": "display_data"
    }
   ],
   "source": [
    "#Print a boxplot for our target variable\n",
    "plt.figure(figsize=(10,5))\n",
    "sns.boxplot(x=df_train['Num of Profile Likes'])\n",
    "plt.show()"
   ]
  },
  {
   "cell_type": "code",
   "execution_count": 13,
   "metadata": {
    "execution": {
     "iopub.execute_input": "2020-12-14T16:29:17.850486Z",
     "iopub.status.busy": "2020-12-14T16:29:17.849705Z",
     "iopub.status.idle": "2020-12-14T16:29:18.060051Z",
     "shell.execute_reply": "2020-12-14T16:29:18.059351Z"
    },
    "papermill": {
     "duration": 0.302662,
     "end_time": "2020-12-14T16:29:18.060180",
     "exception": false,
     "start_time": "2020-12-14T16:29:17.757518",
     "status": "completed"
    },
    "tags": []
   },
   "outputs": [
    {
     "data": {
      "image/png": "[encoded data removed]",
      "text/plain": [
       "<Figure size 360x360 with 1 Axes>"
      ]
     },
     "metadata": {
      "needs_background": "light"
     },
     "output_type": "display_data"
    }
   ],
   "source": [
    "sns.displot(df_train['Num of Profile Likes'], bins=10, kde=True)\n",
    "plt.ylabel('Count')\n",
    "plt.title('Profile Likes Distribution')\n",
    "plt.show()"
   ]
  },
  {
   "cell_type": "markdown",
   "metadata": {
    "papermill": {
     "duration": 0.086005,
     "end_time": "2020-12-14T16:29:18.233958",
     "exception": false,
     "start_time": "2020-12-14T16:29:18.147953",
     "status": "completed"
    },
    "tags": []
   },
   "source": [
    "Our distribution already looks better. However, it is still heavily skewed to the right. Let's apply log transformation to reduce skewness of the data. "
   ]
  },
  {
   "cell_type": "code",
   "execution_count": 14,
   "metadata": {
    "execution": {
     "iopub.execute_input": "2020-12-14T16:29:18.413672Z",
     "iopub.status.busy": "2020-12-14T16:29:18.412837Z",
     "iopub.status.idle": "2020-12-14T16:29:18.417060Z",
     "shell.execute_reply": "2020-12-14T16:29:18.417637Z"
    },
    "papermill": {
     "duration": 0.095751,
     "end_time": "2020-12-14T16:29:18.417802",
     "exception": false,
     "start_time": "2020-12-14T16:29:18.322051",
     "status": "completed"
    },
    "tags": []
   },
   "outputs": [],
   "source": [
    "#Log transform the target variable\n",
    "df_train['Num of Profile Likes'] = np.log1p(df_train['Num of Profile Likes'])"
   ]
  },
  {
   "cell_type": "code",
   "execution_count": 15,
   "metadata": {
    "execution": {
     "iopub.execute_input": "2020-12-14T16:29:18.642878Z",
     "iopub.status.busy": "2020-12-14T16:29:18.636973Z",
     "iopub.status.idle": "2020-12-14T16:29:18.889430Z",
     "shell.execute_reply": "2020-12-14T16:29:18.888590Z"
    },
    "papermill": {
     "duration": 0.350391,
     "end_time": "2020-12-14T16:29:18.889565",
     "exception": false,
     "start_time": "2020-12-14T16:29:18.539174",
     "status": "completed"
    },
    "tags": []
   },
   "outputs": [
    {
     "data": {
      "image/png": "[encoded data removed]",
      "text/plain": [
       "<Figure size 360x360 with 1 Axes>"
      ]
     },
     "metadata": {
      "needs_background": "light"
     },
     "output_type": "display_data"
    }
   ],
   "source": [
    "sns.displot(df_train['Num of Profile Likes'], bins=30, kde=True)\n",
    "plt.ylabel('Count')\n",
    "plt.title('Profile Likes Distribution')\n",
    "plt.show()"
   ]
  },
  {
   "cell_type": "code",
   "execution_count": 16,
   "metadata": {
    "execution": {
     "iopub.execute_input": "2020-12-14T16:29:19.081562Z",
     "iopub.status.busy": "2020-12-14T16:29:19.078739Z",
     "iopub.status.idle": "2020-12-14T16:29:19.201151Z",
     "shell.execute_reply": "2020-12-14T16:29:19.201733Z"
    },
    "papermill": {
     "duration": 0.224582,
     "end_time": "2020-12-14T16:29:19.201897",
     "exception": false,
     "start_time": "2020-12-14T16:29:18.977315",
     "status": "completed"
    },
    "tags": []
   },
   "outputs": [
    {
     "data": {
      "image/png": "[encoded data removed]",
      "text/plain": [
       "<Figure size 720x360 with 1 Axes>"
      ]
     },
     "metadata": {
      "needs_background": "light"
     },
     "output_type": "display_data"
    }
   ],
   "source": [
    "#Print a boxplot for our target variable after log transforming\n",
    "plt.figure(figsize=(10,5))\n",
    "sns.boxplot(x=df_train['Num of Profile Likes'])\n",
    "plt.show()"
   ]
  },
  {
   "cell_type": "markdown",
   "metadata": {
    "papermill": {
     "duration": 0.088301,
     "end_time": "2020-12-14T16:29:19.379491",
     "exception": false,
     "start_time": "2020-12-14T16:29:19.291190",
     "status": "completed"
    },
    "tags": []
   },
   "source": [
    "Let's now look at our independent variables (features)."
   ]
  },
  {
   "cell_type": "code",
   "execution_count": 17,
   "metadata": {
    "execution": {
     "iopub.execute_input": "2020-12-14T16:29:19.581565Z",
     "iopub.status.busy": "2020-12-14T16:29:19.580492Z",
     "iopub.status.idle": "2020-12-14T16:29:19.588384Z",
     "shell.execute_reply": "2020-12-14T16:29:19.587777Z"
    },
    "papermill": {
     "duration": 0.120509,
     "end_time": "2020-12-14T16:29:19.588524",
     "exception": false,
     "start_time": "2020-12-14T16:29:19.468015",
     "status": "completed"
    },
    "tags": []
   },
   "outputs": [
    {
     "data": {
      "text/plain": [
       "Id                                                0\n",
       "User Name                                         0\n",
       "Personal URL                                   4176\n",
       "Profile Cover Image Status                       86\n",
       "Profile Verification Status                       0\n",
       "Profile Text Color                               64\n",
       "Profile Page Color                               77\n",
       "Profile Theme Color                              68\n",
       "Is Profile View Size Customized?                  0\n",
       "UTC Offset                                      442\n",
       "Location                                       1366\n",
       "Location Public Visibility                        0\n",
       "User Language                                     0\n",
       "Profile Creation Timestamp                        0\n",
       "User Time Zone                                  442\n",
       "Num of Followers                                  0\n",
       "Num of People Following                           0\n",
       "Num of Status Updates                             0\n",
       "Num of Direct Messages                            0\n",
       "Profile Category                                  0\n",
       "Avg Daily Profile Visit Duration in seconds      74\n",
       "Avg Daily Profile Clicks                         74\n",
       "Profile Image                                     0\n",
       "Num of Profile Likes                              0\n",
       "dtype: int64"
      ]
     },
     "execution_count": 17,
     "metadata": {},
     "output_type": "execute_result"
    }
   ],
   "source": [
    "df_train.isnull().sum()"
   ]
  },
  {
   "cell_type": "markdown",
   "metadata": {
    "papermill": {
     "duration": 0.088311,
     "end_time": "2020-12-14T16:29:19.765803",
     "exception": false,
     "start_time": "2020-12-14T16:29:19.677492",
     "status": "completed"
    },
    "tags": []
   },
   "source": [
    "For columns that contain a lot of NaN values, we will replace their values by 1 when present and 0 otherwise."
   ]
  },
  {
   "cell_type": "code",
   "execution_count": 18,
   "metadata": {
    "execution": {
     "iopub.execute_input": "2020-12-14T16:29:19.959307Z",
     "iopub.status.busy": "2020-12-14T16:29:19.957465Z",
     "iopub.status.idle": "2020-12-14T16:29:19.963600Z",
     "shell.execute_reply": "2020-12-14T16:29:19.962987Z"
    },
    "papermill": {
     "duration": 0.109345,
     "end_time": "2020-12-14T16:29:19.963735",
     "exception": false,
     "start_time": "2020-12-14T16:29:19.854390",
     "status": "completed"
    },
    "tags": []
   },
   "outputs": [],
   "source": [
    "df_train['Personal URL'] = df_train['Personal URL'].notnull().astype(int)\n",
    "df_train['Location'] = df_train['Location'].notnull().astype(int)\n",
    "df_test['Personal URL'] = df_test['Personal URL'].notnull().astype(int)\n",
    "df_test['Location'] = df_test['Location'].notnull().astype(int)"
   ]
  },
  {
   "cell_type": "code",
   "execution_count": 19,
   "metadata": {
    "execution": {
     "iopub.execute_input": "2020-12-14T16:29:20.162731Z",
     "iopub.status.busy": "2020-12-14T16:29:20.161890Z",
     "iopub.status.idle": "2020-12-14T16:29:20.170429Z",
     "shell.execute_reply": "2020-12-14T16:29:20.169690Z"
    },
    "papermill": {
     "duration": 0.116665,
     "end_time": "2020-12-14T16:29:20.170594",
     "exception": false,
     "start_time": "2020-12-14T16:29:20.053929",
     "status": "completed"
    },
    "tags": []
   },
   "outputs": [
    {
     "data": {
      "text/plain": [
       "Id                                               0\n",
       "User Name                                        0\n",
       "Personal URL                                     0\n",
       "Profile Cover Image Status                      86\n",
       "Profile Verification Status                      0\n",
       "Profile Text Color                              64\n",
       "Profile Page Color                              77\n",
       "Profile Theme Color                             68\n",
       "Is Profile View Size Customized?                 0\n",
       "UTC Offset                                     442\n",
       "Location                                         0\n",
       "Location Public Visibility                       0\n",
       "User Language                                    0\n",
       "Profile Creation Timestamp                       0\n",
       "User Time Zone                                 442\n",
       "Num of Followers                                 0\n",
       "Num of People Following                          0\n",
       "Num of Status Updates                            0\n",
       "Num of Direct Messages                           0\n",
       "Profile Category                                 0\n",
       "Avg Daily Profile Visit Duration in seconds     74\n",
       "Avg Daily Profile Clicks                        74\n",
       "Profile Image                                    0\n",
       "Num of Profile Likes                             0\n",
       "dtype: int64"
      ]
     },
     "execution_count": 19,
     "metadata": {},
     "output_type": "execute_result"
    }
   ],
   "source": [
    "df_train.isnull().sum()"
   ]
  },
  {
   "cell_type": "code",
   "execution_count": 20,
   "metadata": {
    "execution": {
     "iopub.execute_input": "2020-12-14T16:29:20.362111Z",
     "iopub.status.busy": "2020-12-14T16:29:20.361301Z",
     "iopub.status.idle": "2020-12-14T16:29:20.380630Z",
     "shell.execute_reply": "2020-12-14T16:29:20.379981Z"
    },
    "papermill": {
     "duration": 0.119277,
     "end_time": "2020-12-14T16:29:20.380770",
     "exception": false,
     "start_time": "2020-12-14T16:29:20.261493",
     "status": "completed"
    },
    "tags": []
   },
   "outputs": [],
   "source": [
    "#Turn column Profile Cover Image Status into binary variable.\n",
    "def update_profile_image_status(x):\n",
    "    x.loc[x['Profile Cover Image Status'] == \"Set\", 'Profile Cover Image Status'] = 1\n",
    "    x.loc[x['Profile Cover Image Status'] == \"Not set\", 'Profile Cover Image Status'] = 0\n",
    "    x['Profile Cover Image Status'] = x['Profile Cover Image Status'].fillna(0)\n",
    "    return x\n",
    "\n",
    "df_train = update_profile_image_status(df_train)\n",
    "df_test = update_profile_image_status(df_test)"
   ]
  },
  {
   "cell_type": "markdown",
   "metadata": {
    "papermill": {
     "duration": 0.111361,
     "end_time": "2020-12-14T16:29:20.582428",
     "exception": false,
     "start_time": "2020-12-14T16:29:20.471067",
     "status": "completed"
    },
    "tags": []
   },
   "source": [
    "For non numerical features, let's see how many unique values they each contain."
   ]
  },
  {
   "cell_type": "code",
   "execution_count": 21,
   "metadata": {
    "execution": {
     "iopub.execute_input": "2020-12-14T16:29:20.782352Z",
     "iopub.status.busy": "2020-12-14T16:29:20.781262Z",
     "iopub.status.idle": "2020-12-14T16:29:20.800471Z",
     "shell.execute_reply": "2020-12-14T16:29:20.801050Z"
    },
    "papermill": {
     "duration": 0.122279,
     "end_time": "2020-12-14T16:29:20.801214",
     "exception": false,
     "start_time": "2020-12-14T16:29:20.678935",
     "status": "completed"
    },
    "tags": []
   },
   "outputs": [
    {
     "name": "stdout",
     "output_type": "stream",
     "text": [
      "Number of unique values for Profile Text Color 39\n",
      "Number of unique values for Profile Page Color 40\n",
      "Number of unique values for Profile Theme Color 39\n",
      "Number of unique values for UTC Offset 24\n",
      "Number of unique values for User Time Zone 61\n"
     ]
    }
   ],
   "source": [
    "print(\"Number of unique values for Profile Text Color\", df_train['Profile Text Color'].value_counts().nunique())\n",
    "print(\"Number of unique values for Profile Page Color\", df_train['Profile Page Color'].value_counts().nunique())\n",
    "print(\"Number of unique values for Profile Theme Color\", df_train['Profile Theme Color'].value_counts().nunique())\n",
    "print(\"Number of unique values for UTC Offset\", df_train['UTC Offset'].value_counts().nunique())\n",
    "print(\"Number of unique values for User Time Zone\", df_train['User Time Zone'].value_counts().nunique())"
   ]
  },
  {
   "cell_type": "markdown",
   "metadata": {
    "papermill": {
     "duration": 0.090167,
     "end_time": "2020-12-14T16:29:20.981799",
     "exception": false,
     "start_time": "2020-12-14T16:29:20.891632",
     "status": "completed"
    },
    "tags": []
   },
   "source": [
    "Considering we have a lot of different unique values in each of the features above, we can use frequency encoding for these variables. However, they also contain some NaN values that we will need to fill the missing values. We will fill in the missing values with the most frequent elements. "
   ]
  },
  {
   "cell_type": "code",
   "execution_count": 22,
   "metadata": {
    "execution": {
     "iopub.execute_input": "2020-12-14T16:29:21.180366Z",
     "iopub.status.busy": "2020-12-14T16:29:21.179574Z",
     "iopub.status.idle": "2020-12-14T16:29:21.215621Z",
     "shell.execute_reply": "2020-12-14T16:29:21.214799Z"
    },
    "papermill": {
     "duration": 0.135144,
     "end_time": "2020-12-14T16:29:21.215750",
     "exception": false,
     "start_time": "2020-12-14T16:29:21.080606",
     "status": "completed"
    },
    "tags": []
   },
   "outputs": [],
   "source": [
    "categorical_features_to_impute = ['Profile Text Color', 'Profile Page Color', 'Profile Theme Color', 'UTC Offset', 'User Time Zone']\n",
    "df_train[categorical_features_to_impute] = df_train[categorical_features_to_impute].fillna(df_train[categorical_features_to_impute].mode().iloc[0])\n",
    "df_test[categorical_features_to_impute] = df_test[categorical_features_to_impute].fillna(df_test[categorical_features_to_impute].mode().iloc[0])"
   ]
  },
  {
   "cell_type": "code",
   "execution_count": 23,
   "metadata": {
    "execution": {
     "iopub.execute_input": "2020-12-14T16:29:21.413236Z",
     "iopub.status.busy": "2020-12-14T16:29:21.402748Z",
     "iopub.status.idle": "2020-12-14T16:29:21.420962Z",
     "shell.execute_reply": "2020-12-14T16:29:21.420251Z"
    },
    "papermill": {
     "duration": 0.113837,
     "end_time": "2020-12-14T16:29:21.421095",
     "exception": false,
     "start_time": "2020-12-14T16:29:21.307258",
     "status": "completed"
    },
    "tags": []
   },
   "outputs": [
    {
     "data": {
      "text/plain": [
       "Id                                              0\n",
       "User Name                                       0\n",
       "Personal URL                                    0\n",
       "Profile Cover Image Status                      0\n",
       "Profile Verification Status                     0\n",
       "Profile Text Color                              0\n",
       "Profile Page Color                              0\n",
       "Profile Theme Color                             0\n",
       "Is Profile View Size Customized?                0\n",
       "UTC Offset                                      0\n",
       "Location                                        0\n",
       "Location Public Visibility                      0\n",
       "User Language                                   0\n",
       "Profile Creation Timestamp                      0\n",
       "User Time Zone                                  0\n",
       "Num of Followers                                0\n",
       "Num of People Following                         0\n",
       "Num of Status Updates                           0\n",
       "Num of Direct Messages                          0\n",
       "Profile Category                                0\n",
       "Avg Daily Profile Visit Duration in seconds    74\n",
       "Avg Daily Profile Clicks                       74\n",
       "Profile Image                                   0\n",
       "Num of Profile Likes                            0\n",
       "dtype: int64"
      ]
     },
     "execution_count": 23,
     "metadata": {},
     "output_type": "execute_result"
    }
   ],
   "source": [
    "df_train.isnull().sum()"
   ]
  },
  {
   "cell_type": "markdown",
   "metadata": {
    "papermill": {
     "duration": 0.092786,
     "end_time": "2020-12-14T16:29:21.615808",
     "exception": false,
     "start_time": "2020-12-14T16:29:21.523022",
     "status": "completed"
    },
    "tags": []
   },
   "source": [
    "Now that we have replaced NaNs with the most frequent element in each column. We will encode those categorical variables with their frequencies."
   ]
  },
  {
   "cell_type": "code",
   "execution_count": 24,
   "metadata": {
    "execution": {
     "iopub.execute_input": "2020-12-14T16:29:21.807301Z",
     "iopub.status.busy": "2020-12-14T16:29:21.806166Z",
     "iopub.status.idle": "2020-12-14T16:29:21.809687Z",
     "shell.execute_reply": "2020-12-14T16:29:21.809078Z"
    },
    "papermill": {
     "duration": 0.102272,
     "end_time": "2020-12-14T16:29:21.809822",
     "exception": false,
     "start_time": "2020-12-14T16:29:21.707550",
     "status": "completed"
    },
    "tags": []
   },
   "outputs": [],
   "source": [
    "#Define function for frequency encoding\n",
    "def encode_frequency_feature(x, feature_name):\n",
    "    encode = x.groupby(feature_name).size() / len(x)\n",
    "    x[feature_name] = x[feature_name].apply(lambda y: encode[y])\n",
    "    return x"
   ]
  },
  {
   "cell_type": "code",
   "execution_count": 25,
   "metadata": {
    "execution": {
     "iopub.execute_input": "2020-12-14T16:29:21.999495Z",
     "iopub.status.busy": "2020-12-14T16:29:21.998718Z",
     "iopub.status.idle": "2020-12-14T16:29:22.441153Z",
     "shell.execute_reply": "2020-12-14T16:29:22.440390Z"
    },
    "papermill": {
     "duration": 0.540178,
     "end_time": "2020-12-14T16:29:22.441286",
     "exception": false,
     "start_time": "2020-12-14T16:29:21.901108",
     "status": "completed"
    },
    "tags": []
   },
   "outputs": [],
   "source": [
    "categorical_features_to_encode = categorical_features_to_impute\n",
    "for idx,feature in enumerate(categorical_features_to_encode):\n",
    "    df_train = encode_frequency_feature(df_train, feature)\n",
    "    df_test = encode_frequency_feature(df_test, feature)"
   ]
  },
  {
   "cell_type": "markdown",
   "metadata": {
    "papermill": {
     "duration": 0.091981,
     "end_time": "2020-12-14T16:29:22.627378",
     "exception": false,
     "start_time": "2020-12-14T16:29:22.535397",
     "status": "completed"
    },
    "tags": []
   },
   "source": [
    "We have encoded our categorical features using their frequency."
   ]
  },
  {
   "cell_type": "code",
   "execution_count": 26,
   "metadata": {
    "execution": {
     "iopub.execute_input": "2020-12-14T16:29:22.818919Z",
     "iopub.status.busy": "2020-12-14T16:29:22.818027Z",
     "iopub.status.idle": "2020-12-14T16:29:22.838267Z",
     "shell.execute_reply": "2020-12-14T16:29:22.837617Z"
    },
    "papermill": {
     "duration": 0.119479,
     "end_time": "2020-12-14T16:29:22.838427",
     "exception": false,
     "start_time": "2020-12-14T16:29:22.718948",
     "status": "completed"
    },
    "tags": []
   },
   "outputs": [
    {
     "data": {
      "text/html": [
       "<div>\n",
       "<style scoped>\n",
       "    .dataframe tbody tr th:only-of-type {\n",
       "        vertical-align: middle;\n",
       "    }\n",
       "\n",
       "    .dataframe tbody tr th {\n",
       "        vertical-align: top;\n",
       "    }\n",
       "\n",
       "    .dataframe thead th {\n",
       "        text-align: right;\n",
       "    }\n",
       "</style>\n",
       "<table border=\"1\" class=\"dataframe\">\n",
       "  <thead>\n",
       "    <tr style=\"text-align: right;\">\n",
       "      <th></th>\n",
       "      <th>Profile Text Color</th>\n",
       "      <th>Profile Page Color</th>\n",
       "      <th>Profile Theme Color</th>\n",
       "      <th>UTC Offset</th>\n",
       "      <th>User Time Zone</th>\n",
       "    </tr>\n",
       "  </thead>\n",
       "  <tbody>\n",
       "    <tr>\n",
       "      <th>0</th>\n",
       "      <td>0.000139</td>\n",
       "      <td>0.000139</td>\n",
       "      <td>0.000139</td>\n",
       "      <td>0.008191</td>\n",
       "      <td>0.005276</td>\n",
       "    </tr>\n",
       "    <tr>\n",
       "      <th>1</th>\n",
       "      <td>0.006109</td>\n",
       "      <td>0.006386</td>\n",
       "      <td>0.004443</td>\n",
       "      <td>0.239761</td>\n",
       "      <td>0.225045</td>\n",
       "    </tr>\n",
       "    <tr>\n",
       "      <th>2</th>\n",
       "      <td>0.000139</td>\n",
       "      <td>0.096071</td>\n",
       "      <td>0.000139</td>\n",
       "      <td>0.105512</td>\n",
       "      <td>0.069971</td>\n",
       "    </tr>\n",
       "    <tr>\n",
       "      <th>3</th>\n",
       "      <td>0.000139</td>\n",
       "      <td>0.000416</td>\n",
       "      <td>0.000139</td>\n",
       "      <td>0.239761</td>\n",
       "      <td>0.225045</td>\n",
       "    </tr>\n",
       "    <tr>\n",
       "      <th>4</th>\n",
       "      <td>0.000139</td>\n",
       "      <td>0.001666</td>\n",
       "      <td>0.140081</td>\n",
       "      <td>0.105512</td>\n",
       "      <td>0.069971</td>\n",
       "    </tr>\n",
       "    <tr>\n",
       "      <th>...</th>\n",
       "      <td>...</td>\n",
       "      <td>...</td>\n",
       "      <td>...</td>\n",
       "      <td>...</td>\n",
       "      <td>...</td>\n",
       "    </tr>\n",
       "    <tr>\n",
       "      <th>7495</th>\n",
       "      <td>0.000139</td>\n",
       "      <td>0.333611</td>\n",
       "      <td>0.140081</td>\n",
       "      <td>0.145634</td>\n",
       "      <td>0.136887</td>\n",
       "    </tr>\n",
       "    <tr>\n",
       "      <th>7496</th>\n",
       "      <td>0.021241</td>\n",
       "      <td>0.054561</td>\n",
       "      <td>0.107872</td>\n",
       "      <td>0.068027</td>\n",
       "      <td>0.000278</td>\n",
       "    </tr>\n",
       "    <tr>\n",
       "      <th>7497</th>\n",
       "      <td>0.176454</td>\n",
       "      <td>0.040955</td>\n",
       "      <td>0.000139</td>\n",
       "      <td>0.120228</td>\n",
       "      <td>0.002221</td>\n",
       "    </tr>\n",
       "    <tr>\n",
       "      <th>7498</th>\n",
       "      <td>0.002915</td>\n",
       "      <td>0.040955</td>\n",
       "      <td>0.001666</td>\n",
       "      <td>0.068027</td>\n",
       "      <td>0.033875</td>\n",
       "    </tr>\n",
       "    <tr>\n",
       "      <th>7499</th>\n",
       "      <td>0.176454</td>\n",
       "      <td>0.333611</td>\n",
       "      <td>0.202693</td>\n",
       "      <td>0.015827</td>\n",
       "      <td>0.010135</td>\n",
       "    </tr>\n",
       "  </tbody>\n",
       "</table>\n",
       "<p>7203 rows × 5 columns</p>\n",
       "</div>"
      ],
      "text/plain": [
       "      Profile Text Color  Profile Page Color  Profile Theme Color  UTC Offset  \\\n",
       "0               0.000139            0.000139             0.000139    0.008191   \n",
       "1               0.006109            0.006386             0.004443    0.239761   \n",
       "2               0.000139            0.096071             0.000139    0.105512   \n",
       "3               0.000139            0.000416             0.000139    0.239761   \n",
       "4               0.000139            0.001666             0.140081    0.105512   \n",
       "...                  ...                 ...                  ...         ...   \n",
       "7495            0.000139            0.333611             0.140081    0.145634   \n",
       "7496            0.021241            0.054561             0.107872    0.068027   \n",
       "7497            0.176454            0.040955             0.000139    0.120228   \n",
       "7498            0.002915            0.040955             0.001666    0.068027   \n",
       "7499            0.176454            0.333611             0.202693    0.015827   \n",
       "\n",
       "      User Time Zone  \n",
       "0           0.005276  \n",
       "1           0.225045  \n",
       "2           0.069971  \n",
       "3           0.225045  \n",
       "4           0.069971  \n",
       "...              ...  \n",
       "7495        0.136887  \n",
       "7496        0.000278  \n",
       "7497        0.002221  \n",
       "7498        0.033875  \n",
       "7499        0.010135  \n",
       "\n",
       "[7203 rows x 5 columns]"
      ]
     },
     "execution_count": 26,
     "metadata": {},
     "output_type": "execute_result"
    }
   ],
   "source": [
    "df_train[categorical_features_to_encode]"
   ]
  },
  {
   "cell_type": "markdown",
   "metadata": {
    "papermill": {
     "duration": 0.094274,
     "end_time": "2020-12-14T16:29:23.026365",
     "exception": false,
     "start_time": "2020-12-14T16:29:22.932091",
     "status": "completed"
    },
    "tags": []
   },
   "source": [
    "Let's see what is left for us to do."
   ]
  },
  {
   "cell_type": "code",
   "execution_count": 27,
   "metadata": {
    "execution": {
     "iopub.execute_input": "2020-12-14T16:29:23.230728Z",
     "iopub.status.busy": "2020-12-14T16:29:23.229827Z",
     "iopub.status.idle": "2020-12-14T16:29:23.237309Z",
     "shell.execute_reply": "2020-12-14T16:29:23.236679Z"
    },
    "papermill": {
     "duration": 0.112563,
     "end_time": "2020-12-14T16:29:23.237461",
     "exception": false,
     "start_time": "2020-12-14T16:29:23.124898",
     "status": "completed"
    },
    "tags": []
   },
   "outputs": [
    {
     "data": {
      "text/plain": [
       "Id                                              0\n",
       "User Name                                       0\n",
       "Personal URL                                    0\n",
       "Profile Cover Image Status                      0\n",
       "Profile Verification Status                     0\n",
       "Profile Text Color                              0\n",
       "Profile Page Color                              0\n",
       "Profile Theme Color                             0\n",
       "Is Profile View Size Customized?                0\n",
       "UTC Offset                                      0\n",
       "Location                                        0\n",
       "Location Public Visibility                      0\n",
       "User Language                                   0\n",
       "Profile Creation Timestamp                      0\n",
       "User Time Zone                                  0\n",
       "Num of Followers                                0\n",
       "Num of People Following                         0\n",
       "Num of Status Updates                           0\n",
       "Num of Direct Messages                          0\n",
       "Profile Category                                0\n",
       "Avg Daily Profile Visit Duration in seconds    74\n",
       "Avg Daily Profile Clicks                       74\n",
       "Profile Image                                   0\n",
       "Num of Profile Likes                            0\n",
       "dtype: int64"
      ]
     },
     "execution_count": 27,
     "metadata": {},
     "output_type": "execute_result"
    }
   ],
   "source": [
    "df_train.isnull().sum()"
   ]
  },
  {
   "cell_type": "markdown",
   "metadata": {
    "papermill": {
     "duration": 0.093268,
     "end_time": "2020-12-14T16:29:23.424443",
     "exception": false,
     "start_time": "2020-12-14T16:29:23.331175",
     "status": "completed"
    },
    "tags": []
   },
   "source": [
    "We have some numerical features that contain NaNs. We could either fill those NaNs with the mean of the column or the median. In order to determine which is more appropriate, let's see if there are outliers for each column using box plots."
   ]
  },
  {
   "cell_type": "code",
   "execution_count": 28,
   "metadata": {
    "execution": {
     "iopub.execute_input": "2020-12-14T16:29:23.634798Z",
     "iopub.status.busy": "2020-12-14T16:29:23.633989Z",
     "iopub.status.idle": "2020-12-14T16:29:23.782381Z",
     "shell.execute_reply": "2020-12-14T16:29:23.781655Z"
    },
    "papermill": {
     "duration": 0.257226,
     "end_time": "2020-12-14T16:29:23.782508",
     "exception": false,
     "start_time": "2020-12-14T16:29:23.525282",
     "status": "completed"
    },
    "tags": []
   },
   "outputs": [
    {
     "data": {
      "image/png": "[encoded data removed]",
      "text/plain": [
       "<Figure size 432x288 with 1 Axes>"
      ]
     },
     "metadata": {
      "needs_background": "light"
     },
     "output_type": "display_data"
    }
   ],
   "source": [
    "sns.boxplot(x='variable', y='value', data=pd.melt(df_train[['Avg Daily Profile Visit Duration in seconds', 'Avg Daily Profile Clicks']]))\n",
    "plt.show()"
   ]
  },
  {
   "cell_type": "markdown",
   "metadata": {
    "papermill": {
     "duration": 0.095362,
     "end_time": "2020-12-14T16:29:23.976491",
     "exception": false,
     "start_time": "2020-12-14T16:29:23.881129",
     "status": "completed"
    },
    "tags": []
   },
   "source": [
    "We notice that the 'Avg Daily Profile Visit Duration in seconds' variable does not present any outliers. We can thus replace the missing values with the mean of the column."
   ]
  },
  {
   "cell_type": "code",
   "execution_count": 29,
   "metadata": {
    "execution": {
     "iopub.execute_input": "2020-12-14T16:29:24.176107Z",
     "iopub.status.busy": "2020-12-14T16:29:24.175247Z",
     "iopub.status.idle": "2020-12-14T16:29:24.180363Z",
     "shell.execute_reply": "2020-12-14T16:29:24.181025Z"
    },
    "papermill": {
     "duration": 0.108734,
     "end_time": "2020-12-14T16:29:24.181238",
     "exception": false,
     "start_time": "2020-12-14T16:29:24.072504",
     "status": "completed"
    },
    "tags": []
   },
   "outputs": [],
   "source": [
    "mean_imputer = SimpleImputer(missing_values=np.nan, strategy='mean')\n",
    "column_to_impute = np.array(df_train['Avg Daily Profile Visit Duration in seconds']).reshape(-1,1)\n",
    "mean_imputer.fit(column_to_impute)\n",
    "df_train['Avg Daily Profile Visit Duration in seconds'] = mean_imputer.transform(column_to_impute)"
   ]
  },
  {
   "cell_type": "code",
   "execution_count": 30,
   "metadata": {
    "execution": {
     "iopub.execute_input": "2020-12-14T16:29:24.378948Z",
     "iopub.status.busy": "2020-12-14T16:29:24.377934Z",
     "iopub.status.idle": "2020-12-14T16:29:24.382710Z",
     "shell.execute_reply": "2020-12-14T16:29:24.381939Z"
    },
    "papermill": {
     "duration": 0.106277,
     "end_time": "2020-12-14T16:29:24.382843",
     "exception": false,
     "start_time": "2020-12-14T16:29:24.276566",
     "status": "completed"
    },
    "tags": []
   },
   "outputs": [],
   "source": [
    "test_column_to_impute = np.array(df_test['Avg Daily Profile Visit Duration in seconds']).reshape(-1,1)\n",
    "mean_imputer.fit(test_column_to_impute)\n",
    "df_test['Avg Daily Profile Visit Duration in seconds'] = mean_imputer.transform(test_column_to_impute)"
   ]
  },
  {
   "cell_type": "markdown",
   "metadata": {
    "papermill": {
     "duration": 0.096808,
     "end_time": "2020-12-14T16:29:24.575063",
     "exception": false,
     "start_time": "2020-12-14T16:29:24.478255",
     "status": "completed"
    },
    "tags": []
   },
   "source": [
    "We don't have any missing values anymore for'Avg Daily Profile Visit Duration in seconds' feature."
   ]
  },
  {
   "cell_type": "code",
   "execution_count": 31,
   "metadata": {
    "execution": {
     "iopub.execute_input": "2020-12-14T16:29:24.770919Z",
     "iopub.status.busy": "2020-12-14T16:29:24.769837Z",
     "iopub.status.idle": "2020-12-14T16:29:24.774309Z",
     "shell.execute_reply": "2020-12-14T16:29:24.773742Z"
    },
    "papermill": {
     "duration": 0.105044,
     "end_time": "2020-12-14T16:29:24.774496",
     "exception": false,
     "start_time": "2020-12-14T16:29:24.669452",
     "status": "completed"
    },
    "tags": []
   },
   "outputs": [
    {
     "data": {
      "text/plain": [
       "0"
      ]
     },
     "execution_count": 31,
     "metadata": {},
     "output_type": "execute_result"
    }
   ],
   "source": [
    "df_train['Avg Daily Profile Visit Duration in seconds'].isnull().sum()"
   ]
  },
  {
   "cell_type": "markdown",
   "metadata": {
    "papermill": {
     "duration": 0.09551,
     "end_time": "2020-12-14T16:29:24.967451",
     "exception": false,
     "start_time": "2020-12-14T16:29:24.871941",
     "status": "completed"
    },
    "tags": []
   },
   "source": [
    "Now, what to do with feature 'Avg Daily Profile Clicks' which has many outliers? Since there are many of them, we can impute missing values with the median since the mean is very sensitive to outliers."
   ]
  },
  {
   "cell_type": "code",
   "execution_count": 32,
   "metadata": {
    "execution": {
     "iopub.execute_input": "2020-12-14T16:29:25.169536Z",
     "iopub.status.busy": "2020-12-14T16:29:25.168375Z",
     "iopub.status.idle": "2020-12-14T16:29:25.174044Z",
     "shell.execute_reply": "2020-12-14T16:29:25.173290Z"
    },
    "papermill": {
     "duration": 0.111501,
     "end_time": "2020-12-14T16:29:25.174167",
     "exception": false,
     "start_time": "2020-12-14T16:29:25.062666",
     "status": "completed"
    },
    "tags": []
   },
   "outputs": [],
   "source": [
    "median_imputer = SimpleImputer(missing_values=np.nan, strategy='median')\n",
    "column_to_impute = np.array(df_train['Avg Daily Profile Clicks']).reshape(-1,1)\n",
    "median_imputer = median_imputer.fit(column_to_impute)\n",
    "df_train['Avg Daily Profile Clicks'] = median_imputer.transform(column_to_impute)"
   ]
  },
  {
   "cell_type": "code",
   "execution_count": 33,
   "metadata": {
    "execution": {
     "iopub.execute_input": "2020-12-14T16:29:25.373508Z",
     "iopub.status.busy": "2020-12-14T16:29:25.372756Z",
     "iopub.status.idle": "2020-12-14T16:29:25.377120Z",
     "shell.execute_reply": "2020-12-14T16:29:25.377679Z"
    },
    "papermill": {
     "duration": 0.107119,
     "end_time": "2020-12-14T16:29:25.377841",
     "exception": false,
     "start_time": "2020-12-14T16:29:25.270722",
     "status": "completed"
    },
    "tags": []
   },
   "outputs": [],
   "source": [
    "test_column_to_impute = np.array(df_test['Avg Daily Profile Clicks']).reshape(-1,1)\n",
    "median_imputer = median_imputer.fit(test_column_to_impute)\n",
    "df_test['Avg Daily Profile Clicks'] = median_imputer.transform(test_column_to_impute)"
   ]
  },
  {
   "cell_type": "code",
   "execution_count": 34,
   "metadata": {
    "execution": {
     "iopub.execute_input": "2020-12-14T16:29:25.590697Z",
     "iopub.status.busy": "2020-12-14T16:29:25.589752Z",
     "iopub.status.idle": "2020-12-14T16:29:25.594644Z",
     "shell.execute_reply": "2020-12-14T16:29:25.593875Z"
    },
    "papermill": {
     "duration": 0.12039,
     "end_time": "2020-12-14T16:29:25.594773",
     "exception": false,
     "start_time": "2020-12-14T16:29:25.474383",
     "status": "completed"
    },
    "tags": []
   },
   "outputs": [
    {
     "data": {
      "text/plain": [
       "0"
      ]
     },
     "execution_count": 34,
     "metadata": {},
     "output_type": "execute_result"
    }
   ],
   "source": [
    "df_train['Avg Daily Profile Clicks'].isnull().sum()"
   ]
  },
  {
   "cell_type": "code",
   "execution_count": 35,
   "metadata": {
    "execution": {
     "iopub.execute_input": "2020-12-14T16:29:25.800692Z",
     "iopub.status.busy": "2020-12-14T16:29:25.799919Z",
     "iopub.status.idle": "2020-12-14T16:29:25.816170Z",
     "shell.execute_reply": "2020-12-14T16:29:25.815270Z"
    },
    "papermill": {
     "duration": 0.125446,
     "end_time": "2020-12-14T16:29:25.816321",
     "exception": false,
     "start_time": "2020-12-14T16:29:25.690875",
     "status": "completed"
    },
    "tags": []
   },
   "outputs": [
    {
     "name": "stdout",
     "output_type": "stream",
     "text": [
      "<class 'pandas.core.frame.DataFrame'>\n",
      "Int64Index: 7203 entries, 0 to 7499\n",
      "Data columns (total 24 columns):\n",
      " #   Column                                       Non-Null Count  Dtype  \n",
      "---  ------                                       --------------  -----  \n",
      " 0   Id                                           7203 non-null   object \n",
      " 1   User Name                                    7203 non-null   object \n",
      " 2   Personal URL                                 7203 non-null   int64  \n",
      " 3   Profile Cover Image Status                   7203 non-null   int64  \n",
      " 4   Profile Verification Status                  7203 non-null   object \n",
      " 5   Profile Text Color                           7203 non-null   float64\n",
      " 6   Profile Page Color                           7203 non-null   float64\n",
      " 7   Profile Theme Color                          7203 non-null   float64\n",
      " 8   Is Profile View Size Customized?             7203 non-null   bool   \n",
      " 9   UTC Offset                                   7203 non-null   float64\n",
      " 10  Location                                     7203 non-null   int64  \n",
      " 11  Location Public Visibility                   7203 non-null   object \n",
      " 12  User Language                                7203 non-null   object \n",
      " 13  Profile Creation Timestamp                   7203 non-null   object \n",
      " 14  User Time Zone                               7203 non-null   float64\n",
      " 15  Num of Followers                             7203 non-null   int64  \n",
      " 16  Num of People Following                      7203 non-null   int64  \n",
      " 17  Num of Status Updates                        7203 non-null   int64  \n",
      " 18  Num of Direct Messages                       7203 non-null   int64  \n",
      " 19  Profile Category                             7203 non-null   object \n",
      " 20  Avg Daily Profile Visit Duration in seconds  7203 non-null   float64\n",
      " 21  Avg Daily Profile Clicks                     7203 non-null   float64\n",
      " 22  Profile Image                                7203 non-null   object \n",
      " 23  Num of Profile Likes                         7203 non-null   float64\n",
      "dtypes: bool(1), float64(8), int64(7), object(8)\n",
      "memory usage: 1.3+ MB\n"
     ]
    }
   ],
   "source": [
    "df_train.info()"
   ]
  },
  {
   "cell_type": "markdown",
   "metadata": {
    "papermill": {
     "duration": 0.099542,
     "end_time": "2020-12-14T16:29:26.013579",
     "exception": false,
     "start_time": "2020-12-14T16:29:25.914037",
     "status": "completed"
    },
    "tags": []
   },
   "source": [
    "We still have a few objects features. Let's see what to do with them."
   ]
  },
  {
   "cell_type": "code",
   "execution_count": 36,
   "metadata": {
    "execution": {
     "iopub.execute_input": "2020-12-14T16:29:26.233653Z",
     "iopub.status.busy": "2020-12-14T16:29:26.232669Z",
     "iopub.status.idle": "2020-12-14T16:29:26.237626Z",
     "shell.execute_reply": "2020-12-14T16:29:26.236977Z"
    },
    "papermill": {
     "duration": 0.120512,
     "end_time": "2020-12-14T16:29:26.237756",
     "exception": false,
     "start_time": "2020-12-14T16:29:26.117244",
     "status": "completed"
    },
    "tags": []
   },
   "outputs": [
    {
     "data": {
      "text/html": [
       "<div>\n",
       "<style scoped>\n",
       "    .dataframe tbody tr th:only-of-type {\n",
       "        vertical-align: middle;\n",
       "    }\n",
       "\n",
       "    .dataframe tbody tr th {\n",
       "        vertical-align: top;\n",
       "    }\n",
       "\n",
       "    .dataframe thead th {\n",
       "        text-align: right;\n",
       "    }\n",
       "</style>\n",
       "<table border=\"1\" class=\"dataframe\">\n",
       "  <thead>\n",
       "    <tr style=\"text-align: right;\">\n",
       "      <th></th>\n",
       "      <th>Id</th>\n",
       "      <th>User Name</th>\n",
       "      <th>Profile Verification Status</th>\n",
       "      <th>User Language</th>\n",
       "      <th>Location Public Visibility</th>\n",
       "      <th>Profile Creation Timestamp</th>\n",
       "      <th>Profile Category</th>\n",
       "      <th>Profile Image</th>\n",
       "    </tr>\n",
       "  </thead>\n",
       "  <tbody>\n",
       "    <tr>\n",
       "      <th>0</th>\n",
       "      <td>AL85S14OMDPF01I9</td>\n",
       "      <td>Mf9vfld4Vfe</td>\n",
       "      <td>Verified</td>\n",
       "      <td>en</td>\n",
       "      <td>Enabled</td>\n",
       "      <td>Thu Nov 27 05:24:59 +0000 2008</td>\n",
       "      <td>business</td>\n",
       "      <td>AL85S14OMDPF01I9.png</td>\n",
       "    </tr>\n",
       "    <tr>\n",
       "      <th>1</th>\n",
       "      <td>HI11QOPD7BLJTO7Q</td>\n",
       "      <td>xl9gaGN0hxM_</td>\n",
       "      <td>Verified</td>\n",
       "      <td>en</td>\n",
       "      <td>Enabled</td>\n",
       "      <td>Fri Jan 15 18:00:46 +0000 2010</td>\n",
       "      <td>unknown</td>\n",
       "      <td>HI11QOPD7BLJTO7Q.png</td>\n",
       "    </tr>\n",
       "    <tr>\n",
       "      <th>2</th>\n",
       "      <td>JS49LP5P72RI1OQB</td>\n",
       "      <td>d_uiMm</td>\n",
       "      <td>Not verified</td>\n",
       "      <td>en</td>\n",
       "      <td>Enabled</td>\n",
       "      <td>Fri Oct 02 20:15:06 +0000 2009</td>\n",
       "      <td>unknown</td>\n",
       "      <td>JS49LP5P72RI1OQB.png</td>\n",
       "    </tr>\n",
       "    <tr>\n",
       "      <th>3</th>\n",
       "      <td>S0GDSC09MACCLBJP</td>\n",
       "      <td>hfylaRr</td>\n",
       "      <td>Verified</td>\n",
       "      <td>en</td>\n",
       "      <td>Enabled</td>\n",
       "      <td>Thu Feb 19 14:37:22 +0000 2009</td>\n",
       "      <td>business</td>\n",
       "      <td>S0GDSC09MACCLBJP.png</td>\n",
       "    </tr>\n",
       "    <tr>\n",
       "      <th>4</th>\n",
       "      <td>CRSEMK4QER6LDJSA</td>\n",
       "      <td>hRR1sDGlz5</td>\n",
       "      <td>Not verified</td>\n",
       "      <td>en</td>\n",
       "      <td>Enabled</td>\n",
       "      <td>Tue Mar 31 13:27:52 +0000 2009</td>\n",
       "      <td>unknown</td>\n",
       "      <td>CRSEMK4QER6LDJSA.png</td>\n",
       "    </tr>\n",
       "  </tbody>\n",
       "</table>\n",
       "</div>"
      ],
      "text/plain": [
       "                 Id     User Name Profile Verification Status User Language  \\\n",
       "0  AL85S14OMDPF01I9   Mf9vfld4Vfe                    Verified            en   \n",
       "1  HI11QOPD7BLJTO7Q  xl9gaGN0hxM_                    Verified            en   \n",
       "2  JS49LP5P72RI1OQB        d_uiMm                Not verified            en   \n",
       "3  S0GDSC09MACCLBJP       hfylaRr                    Verified            en   \n",
       "4  CRSEMK4QER6LDJSA    hRR1sDGlz5                Not verified            en   \n",
       "\n",
       "  Location Public Visibility      Profile Creation Timestamp Profile Category  \\\n",
       "0                    Enabled  Thu Nov 27 05:24:59 +0000 2008         business   \n",
       "1                    Enabled  Fri Jan 15 18:00:46 +0000 2010          unknown   \n",
       "2                    Enabled  Fri Oct 02 20:15:06 +0000 2009          unknown   \n",
       "3                    Enabled  Thu Feb 19 14:37:22 +0000 2009         business   \n",
       "4                    Enabled  Tue Mar 31 13:27:52 +0000 2009          unknown   \n",
       "\n",
       "          Profile Image  \n",
       "0  AL85S14OMDPF01I9.png  \n",
       "1  HI11QOPD7BLJTO7Q.png  \n",
       "2  JS49LP5P72RI1OQB.png  \n",
       "3  S0GDSC09MACCLBJP.png  \n",
       "4  CRSEMK4QER6LDJSA.png  "
      ]
     },
     "execution_count": 36,
     "metadata": {},
     "output_type": "execute_result"
    }
   ],
   "source": [
    "df_train[['Id', 'User Name', 'Profile Verification Status', 'User Language', 'Location Public Visibility', 'Profile Creation Timestamp', 'Profile Category', 'Profile Image']].head()"
   ]
  },
  {
   "cell_type": "code",
   "execution_count": 37,
   "metadata": {
    "execution": {
     "iopub.execute_input": "2020-12-14T16:29:26.444322Z",
     "iopub.status.busy": "2020-12-14T16:29:26.441897Z",
     "iopub.status.idle": "2020-12-14T16:29:26.477657Z",
     "shell.execute_reply": "2020-12-14T16:29:26.476886Z"
    },
    "papermill": {
     "duration": 0.141411,
     "end_time": "2020-12-14T16:29:26.477784",
     "exception": false,
     "start_time": "2020-12-14T16:29:26.336373",
     "status": "completed"
    },
    "tags": []
   },
   "outputs": [
    {
     "data": {
      "text/html": [
       "<div>\n",
       "<style scoped>\n",
       "    .dataframe tbody tr th:only-of-type {\n",
       "        vertical-align: middle;\n",
       "    }\n",
       "\n",
       "    .dataframe tbody tr th {\n",
       "        vertical-align: top;\n",
       "    }\n",
       "\n",
       "    .dataframe thead th {\n",
       "        text-align: right;\n",
       "    }\n",
       "</style>\n",
       "<table border=\"1\" class=\"dataframe\">\n",
       "  <thead>\n",
       "    <tr style=\"text-align: right;\">\n",
       "      <th></th>\n",
       "      <th>Personal URL</th>\n",
       "      <th>Profile Cover Image Status</th>\n",
       "      <th>Profile Verification Status</th>\n",
       "      <th>Profile Text Color</th>\n",
       "      <th>Profile Page Color</th>\n",
       "      <th>Profile Theme Color</th>\n",
       "      <th>Is Profile View Size Customized?</th>\n",
       "      <th>UTC Offset</th>\n",
       "      <th>Location</th>\n",
       "      <th>Location Public Visibility</th>\n",
       "      <th>...</th>\n",
       "      <th>User Time Zone</th>\n",
       "      <th>Num of Followers</th>\n",
       "      <th>Num of People Following</th>\n",
       "      <th>Num of Status Updates</th>\n",
       "      <th>Num of Direct Messages</th>\n",
       "      <th>Profile Category</th>\n",
       "      <th>Avg Daily Profile Visit Duration in seconds</th>\n",
       "      <th>Avg Daily Profile Clicks</th>\n",
       "      <th>Profile Image</th>\n",
       "      <th>Num of Profile Likes</th>\n",
       "    </tr>\n",
       "  </thead>\n",
       "  <tbody>\n",
       "    <tr>\n",
       "      <th>0</th>\n",
       "      <td>0</td>\n",
       "      <td>1</td>\n",
       "      <td>Verified</td>\n",
       "      <td>0.000139</td>\n",
       "      <td>0.000139</td>\n",
       "      <td>0.000139</td>\n",
       "      <td>False</td>\n",
       "      <td>0.008191</td>\n",
       "      <td>0</td>\n",
       "      <td>Enabled</td>\n",
       "      <td>...</td>\n",
       "      <td>0.005276</td>\n",
       "      <td>95763</td>\n",
       "      <td>4289</td>\n",
       "      <td>30809</td>\n",
       "      <td>873</td>\n",
       "      <td>business</td>\n",
       "      <td>14.792</td>\n",
       "      <td>1.5761</td>\n",
       "      <td>AL85S14OMDPF01I9.png</td>\n",
       "      <td>7.943073</td>\n",
       "    </tr>\n",
       "    <tr>\n",
       "      <th>1</th>\n",
       "      <td>0</td>\n",
       "      <td>1</td>\n",
       "      <td>Verified</td>\n",
       "      <td>0.006109</td>\n",
       "      <td>0.006386</td>\n",
       "      <td>0.004443</td>\n",
       "      <td>False</td>\n",
       "      <td>0.239761</td>\n",
       "      <td>1</td>\n",
       "      <td>Enabled</td>\n",
       "      <td>...</td>\n",
       "      <td>0.225045</td>\n",
       "      <td>1018746</td>\n",
       "      <td>289</td>\n",
       "      <td>8150</td>\n",
       "      <td>290</td>\n",
       "      <td>unknown</td>\n",
       "      <td>8.183</td>\n",
       "      <td>11.2782</td>\n",
       "      <td>HI11QOPD7BLJTO7Q.png</td>\n",
       "      <td>7.125283</td>\n",
       "    </tr>\n",
       "    <tr>\n",
       "      <th>2</th>\n",
       "      <td>0</td>\n",
       "      <td>1</td>\n",
       "      <td>Not verified</td>\n",
       "      <td>0.000139</td>\n",
       "      <td>0.096071</td>\n",
       "      <td>0.000139</td>\n",
       "      <td>False</td>\n",
       "      <td>0.105512</td>\n",
       "      <td>1</td>\n",
       "      <td>Enabled</td>\n",
       "      <td>...</td>\n",
       "      <td>0.069971</td>\n",
       "      <td>13444</td>\n",
       "      <td>1876</td>\n",
       "      <td>4698</td>\n",
       "      <td>227</td>\n",
       "      <td>unknown</td>\n",
       "      <td>31.823</td>\n",
       "      <td>0.5725</td>\n",
       "      <td>JS49LP5P72RI1OQB.png</td>\n",
       "      <td>7.352441</td>\n",
       "    </tr>\n",
       "    <tr>\n",
       "      <th>3</th>\n",
       "      <td>1</td>\n",
       "      <td>0</td>\n",
       "      <td>Verified</td>\n",
       "      <td>0.000139</td>\n",
       "      <td>0.000416</td>\n",
       "      <td>0.000139</td>\n",
       "      <td>False</td>\n",
       "      <td>0.239761</td>\n",
       "      <td>1</td>\n",
       "      <td>Enabled</td>\n",
       "      <td>...</td>\n",
       "      <td>0.225045</td>\n",
       "      <td>339168</td>\n",
       "      <td>1148</td>\n",
       "      <td>53216</td>\n",
       "      <td>4035</td>\n",
       "      <td>business</td>\n",
       "      <td>23.052</td>\n",
       "      <td>4.0265</td>\n",
       "      <td>S0GDSC09MACCLBJP.png</td>\n",
       "      <td>8.755107</td>\n",
       "    </tr>\n",
       "    <tr>\n",
       "      <th>4</th>\n",
       "      <td>1</td>\n",
       "      <td>1</td>\n",
       "      <td>Not verified</td>\n",
       "      <td>0.000139</td>\n",
       "      <td>0.001666</td>\n",
       "      <td>0.140081</td>\n",
       "      <td>False</td>\n",
       "      <td>0.105512</td>\n",
       "      <td>1</td>\n",
       "      <td>Enabled</td>\n",
       "      <td>...</td>\n",
       "      <td>0.069971</td>\n",
       "      <td>9215</td>\n",
       "      <td>93</td>\n",
       "      <td>3271</td>\n",
       "      <td>130</td>\n",
       "      <td>unknown</td>\n",
       "      <td>8.418</td>\n",
       "      <td>3.9229</td>\n",
       "      <td>CRSEMK4QER6LDJSA.png</td>\n",
       "      <td>6.983790</td>\n",
       "    </tr>\n",
       "  </tbody>\n",
       "</table>\n",
       "<p>5 rows × 22 columns</p>\n",
       "</div>"
      ],
      "text/plain": [
       "   Personal URL  Profile Cover Image Status Profile Verification Status  \\\n",
       "0             0                           1                    Verified   \n",
       "1             0                           1                    Verified   \n",
       "2             0                           1                Not verified   \n",
       "3             1                           0                    Verified   \n",
       "4             1                           1                Not verified   \n",
       "\n",
       "   Profile Text Color  Profile Page Color  Profile Theme Color  \\\n",
       "0            0.000139            0.000139             0.000139   \n",
       "1            0.006109            0.006386             0.004443   \n",
       "2            0.000139            0.096071             0.000139   \n",
       "3            0.000139            0.000416             0.000139   \n",
       "4            0.000139            0.001666             0.140081   \n",
       "\n",
       "   Is Profile View Size Customized?  UTC Offset  Location  \\\n",
       "0                             False    0.008191         0   \n",
       "1                             False    0.239761         1   \n",
       "2                             False    0.105512         1   \n",
       "3                             False    0.239761         1   \n",
       "4                             False    0.105512         1   \n",
       "\n",
       "  Location Public Visibility  ... User Time Zone Num of Followers  \\\n",
       "0                    Enabled  ...       0.005276            95763   \n",
       "1                    Enabled  ...       0.225045          1018746   \n",
       "2                    Enabled  ...       0.069971            13444   \n",
       "3                    Enabled  ...       0.225045           339168   \n",
       "4                    Enabled  ...       0.069971             9215   \n",
       "\n",
       "   Num of People Following  Num of Status Updates  Num of Direct Messages  \\\n",
       "0                     4289                  30809                     873   \n",
       "1                      289                   8150                     290   \n",
       "2                     1876                   4698                     227   \n",
       "3                     1148                  53216                    4035   \n",
       "4                       93                   3271                     130   \n",
       "\n",
       "   Profile Category  Avg Daily Profile Visit Duration in seconds  \\\n",
       "0          business                                       14.792   \n",
       "1           unknown                                        8.183   \n",
       "2           unknown                                       31.823   \n",
       "3          business                                       23.052   \n",
       "4           unknown                                        8.418   \n",
       "\n",
       "  Avg Daily Profile Clicks         Profile Image  Num of Profile Likes  \n",
       "0                   1.5761  AL85S14OMDPF01I9.png              7.943073  \n",
       "1                  11.2782  HI11QOPD7BLJTO7Q.png              7.125283  \n",
       "2                   0.5725  JS49LP5P72RI1OQB.png              7.352441  \n",
       "3                   4.0265  S0GDSC09MACCLBJP.png              8.755107  \n",
       "4                   3.9229  CRSEMK4QER6LDJSA.png              6.983790  \n",
       "\n",
       "[5 rows x 22 columns]"
      ]
     },
     "execution_count": 37,
     "metadata": {},
     "output_type": "execute_result"
    }
   ],
   "source": [
    "df_train = df_train.drop(columns=['Id', 'User Name'])\n",
    "df_test = df_test.drop(columns=['User Name'])\n",
    "\n",
    "df_train.head()"
   ]
  },
  {
   "cell_type": "markdown",
   "metadata": {
    "papermill": {
     "duration": 0.102902,
     "end_time": "2020-12-14T16:29:26.681257",
     "exception": false,
     "start_time": "2020-12-14T16:29:26.578355",
     "status": "completed"
    },
    "tags": []
   },
   "source": [
    "Let's continue exploring our categorical features."
   ]
  },
  {
   "cell_type": "code",
   "execution_count": 38,
   "metadata": {
    "execution": {
     "iopub.execute_input": "2020-12-14T16:29:26.890726Z",
     "iopub.status.busy": "2020-12-14T16:29:26.889656Z",
     "iopub.status.idle": "2020-12-14T16:29:26.894571Z",
     "shell.execute_reply": "2020-12-14T16:29:26.893958Z"
    },
    "papermill": {
     "duration": 0.113293,
     "end_time": "2020-12-14T16:29:26.894704",
     "exception": false,
     "start_time": "2020-12-14T16:29:26.781411",
     "status": "completed"
    },
    "tags": []
   },
   "outputs": [
    {
     "data": {
      "text/plain": [
       "Verified        4634\n",
       "Not verified    2017\n",
       "Pending          552\n",
       "Name: Profile Verification Status, dtype: int64"
      ]
     },
     "execution_count": 38,
     "metadata": {},
     "output_type": "execute_result"
    }
   ],
   "source": [
    "df_train['Profile Verification Status'].value_counts()"
   ]
  },
  {
   "cell_type": "markdown",
   "metadata": {
    "papermill": {
     "duration": 0.101014,
     "end_time": "2020-12-14T16:29:27.095865",
     "exception": false,
     "start_time": "2020-12-14T16:29:26.994851",
     "status": "completed"
    },
    "tags": []
   },
   "source": [
    "Considering 'Pending' status is not yet verified, we can merge pending and not verified together and turn our feature into a binary feature."
   ]
  },
  {
   "cell_type": "code",
   "execution_count": 39,
   "metadata": {
    "execution": {
     "iopub.execute_input": "2020-12-14T16:29:27.311225Z",
     "iopub.status.busy": "2020-12-14T16:29:27.310303Z",
     "iopub.status.idle": "2020-12-14T16:29:27.315607Z",
     "shell.execute_reply": "2020-12-14T16:29:27.314973Z"
    },
    "papermill": {
     "duration": 0.117292,
     "end_time": "2020-12-14T16:29:27.315740",
     "exception": false,
     "start_time": "2020-12-14T16:29:27.198448",
     "status": "completed"
    },
    "tags": []
   },
   "outputs": [
    {
     "data": {
      "text/plain": [
       "array(['Verified', 'Not verified', 'Pending'], dtype=object)"
      ]
     },
     "execution_count": 39,
     "metadata": {},
     "output_type": "execute_result"
    }
   ],
   "source": [
    "df_train['Profile Verification Status'].unique()"
   ]
  },
  {
   "cell_type": "code",
   "execution_count": 40,
   "metadata": {
    "execution": {
     "iopub.execute_input": "2020-12-14T16:29:27.531250Z",
     "iopub.status.busy": "2020-12-14T16:29:27.528897Z",
     "iopub.status.idle": "2020-12-14T16:29:27.534110Z",
     "shell.execute_reply": "2020-12-14T16:29:27.534953Z"
    },
    "papermill": {
     "duration": 0.11742,
     "end_time": "2020-12-14T16:29:27.535182",
     "exception": false,
     "start_time": "2020-12-14T16:29:27.417762",
     "status": "completed"
    },
    "tags": []
   },
   "outputs": [],
   "source": [
    "df_train['Profile Verification Status'] = np.where(df_train['Profile Verification Status'] == 'Verified', 1, 0)\n",
    "df_test['Profile Verification Status'] = np.where(df_test['Profile Verification Status'] == 'Verified', 1, 0)"
   ]
  },
  {
   "cell_type": "code",
   "execution_count": 41,
   "metadata": {
    "execution": {
     "iopub.execute_input": "2020-12-14T16:29:27.748527Z",
     "iopub.status.busy": "2020-12-14T16:29:27.747684Z",
     "iopub.status.idle": "2020-12-14T16:29:27.752065Z",
     "shell.execute_reply": "2020-12-14T16:29:27.751368Z"
    },
    "papermill": {
     "duration": 0.110428,
     "end_time": "2020-12-14T16:29:27.752188",
     "exception": false,
     "start_time": "2020-12-14T16:29:27.641760",
     "status": "completed"
    },
    "tags": []
   },
   "outputs": [
    {
     "data": {
      "text/plain": [
       "array([1, 0])"
      ]
     },
     "execution_count": 41,
     "metadata": {},
     "output_type": "execute_result"
    }
   ],
   "source": [
    "df_train['Profile Verification Status'].unique()"
   ]
  },
  {
   "cell_type": "code",
   "execution_count": 42,
   "metadata": {
    "execution": {
     "iopub.execute_input": "2020-12-14T16:29:27.985274Z",
     "iopub.status.busy": "2020-12-14T16:29:27.976464Z",
     "iopub.status.idle": "2020-12-14T16:29:27.990645Z",
     "shell.execute_reply": "2020-12-14T16:29:27.989995Z"
    },
    "papermill": {
     "duration": 0.137924,
     "end_time": "2020-12-14T16:29:27.990787",
     "exception": false,
     "start_time": "2020-12-14T16:29:27.852863",
     "status": "completed"
    },
    "tags": []
   },
   "outputs": [
    {
     "data": {
      "text/html": [
       "<div>\n",
       "<style scoped>\n",
       "    .dataframe tbody tr th:only-of-type {\n",
       "        vertical-align: middle;\n",
       "    }\n",
       "\n",
       "    .dataframe tbody tr th {\n",
       "        vertical-align: top;\n",
       "    }\n",
       "\n",
       "    .dataframe thead th {\n",
       "        text-align: right;\n",
       "    }\n",
       "</style>\n",
       "<table border=\"1\" class=\"dataframe\">\n",
       "  <thead>\n",
       "    <tr style=\"text-align: right;\">\n",
       "      <th></th>\n",
       "      <th>Personal URL</th>\n",
       "      <th>Profile Cover Image Status</th>\n",
       "      <th>Profile Verification Status</th>\n",
       "      <th>Profile Text Color</th>\n",
       "      <th>Profile Page Color</th>\n",
       "      <th>Profile Theme Color</th>\n",
       "      <th>Is Profile View Size Customized?</th>\n",
       "      <th>UTC Offset</th>\n",
       "      <th>Location</th>\n",
       "      <th>Location Public Visibility</th>\n",
       "      <th>...</th>\n",
       "      <th>User Time Zone</th>\n",
       "      <th>Num of Followers</th>\n",
       "      <th>Num of People Following</th>\n",
       "      <th>Num of Status Updates</th>\n",
       "      <th>Num of Direct Messages</th>\n",
       "      <th>Profile Category</th>\n",
       "      <th>Avg Daily Profile Visit Duration in seconds</th>\n",
       "      <th>Avg Daily Profile Clicks</th>\n",
       "      <th>Profile Image</th>\n",
       "      <th>Num of Profile Likes</th>\n",
       "    </tr>\n",
       "  </thead>\n",
       "  <tbody>\n",
       "    <tr>\n",
       "      <th>0</th>\n",
       "      <td>0</td>\n",
       "      <td>1</td>\n",
       "      <td>1</td>\n",
       "      <td>0.000139</td>\n",
       "      <td>0.000139</td>\n",
       "      <td>0.000139</td>\n",
       "      <td>False</td>\n",
       "      <td>0.008191</td>\n",
       "      <td>0</td>\n",
       "      <td>Enabled</td>\n",
       "      <td>...</td>\n",
       "      <td>0.005276</td>\n",
       "      <td>95763</td>\n",
       "      <td>4289</td>\n",
       "      <td>30809</td>\n",
       "      <td>873</td>\n",
       "      <td>business</td>\n",
       "      <td>14.792</td>\n",
       "      <td>1.5761</td>\n",
       "      <td>AL85S14OMDPF01I9.png</td>\n",
       "      <td>7.943073</td>\n",
       "    </tr>\n",
       "    <tr>\n",
       "      <th>1</th>\n",
       "      <td>0</td>\n",
       "      <td>1</td>\n",
       "      <td>1</td>\n",
       "      <td>0.006109</td>\n",
       "      <td>0.006386</td>\n",
       "      <td>0.004443</td>\n",
       "      <td>False</td>\n",
       "      <td>0.239761</td>\n",
       "      <td>1</td>\n",
       "      <td>Enabled</td>\n",
       "      <td>...</td>\n",
       "      <td>0.225045</td>\n",
       "      <td>1018746</td>\n",
       "      <td>289</td>\n",
       "      <td>8150</td>\n",
       "      <td>290</td>\n",
       "      <td>unknown</td>\n",
       "      <td>8.183</td>\n",
       "      <td>11.2782</td>\n",
       "      <td>HI11QOPD7BLJTO7Q.png</td>\n",
       "      <td>7.125283</td>\n",
       "    </tr>\n",
       "    <tr>\n",
       "      <th>2</th>\n",
       "      <td>0</td>\n",
       "      <td>1</td>\n",
       "      <td>0</td>\n",
       "      <td>0.000139</td>\n",
       "      <td>0.096071</td>\n",
       "      <td>0.000139</td>\n",
       "      <td>False</td>\n",
       "      <td>0.105512</td>\n",
       "      <td>1</td>\n",
       "      <td>Enabled</td>\n",
       "      <td>...</td>\n",
       "      <td>0.069971</td>\n",
       "      <td>13444</td>\n",
       "      <td>1876</td>\n",
       "      <td>4698</td>\n",
       "      <td>227</td>\n",
       "      <td>unknown</td>\n",
       "      <td>31.823</td>\n",
       "      <td>0.5725</td>\n",
       "      <td>JS49LP5P72RI1OQB.png</td>\n",
       "      <td>7.352441</td>\n",
       "    </tr>\n",
       "    <tr>\n",
       "      <th>3</th>\n",
       "      <td>1</td>\n",
       "      <td>0</td>\n",
       "      <td>1</td>\n",
       "      <td>0.000139</td>\n",
       "      <td>0.000416</td>\n",
       "      <td>0.000139</td>\n",
       "      <td>False</td>\n",
       "      <td>0.239761</td>\n",
       "      <td>1</td>\n",
       "      <td>Enabled</td>\n",
       "      <td>...</td>\n",
       "      <td>0.225045</td>\n",
       "      <td>339168</td>\n",
       "      <td>1148</td>\n",
       "      <td>53216</td>\n",
       "      <td>4035</td>\n",
       "      <td>business</td>\n",
       "      <td>23.052</td>\n",
       "      <td>4.0265</td>\n",
       "      <td>S0GDSC09MACCLBJP.png</td>\n",
       "      <td>8.755107</td>\n",
       "    </tr>\n",
       "    <tr>\n",
       "      <th>4</th>\n",
       "      <td>1</td>\n",
       "      <td>1</td>\n",
       "      <td>0</td>\n",
       "      <td>0.000139</td>\n",
       "      <td>0.001666</td>\n",
       "      <td>0.140081</td>\n",
       "      <td>False</td>\n",
       "      <td>0.105512</td>\n",
       "      <td>1</td>\n",
       "      <td>Enabled</td>\n",
       "      <td>...</td>\n",
       "      <td>0.069971</td>\n",
       "      <td>9215</td>\n",
       "      <td>93</td>\n",
       "      <td>3271</td>\n",
       "      <td>130</td>\n",
       "      <td>unknown</td>\n",
       "      <td>8.418</td>\n",
       "      <td>3.9229</td>\n",
       "      <td>CRSEMK4QER6LDJSA.png</td>\n",
       "      <td>6.983790</td>\n",
       "    </tr>\n",
       "  </tbody>\n",
       "</table>\n",
       "<p>5 rows × 22 columns</p>\n",
       "</div>"
      ],
      "text/plain": [
       "   Personal URL  Profile Cover Image Status  Profile Verification Status  \\\n",
       "0             0                           1                            1   \n",
       "1             0                           1                            1   \n",
       "2             0                           1                            0   \n",
       "3             1                           0                            1   \n",
       "4             1                           1                            0   \n",
       "\n",
       "   Profile Text Color  Profile Page Color  Profile Theme Color  \\\n",
       "0            0.000139            0.000139             0.000139   \n",
       "1            0.006109            0.006386             0.004443   \n",
       "2            0.000139            0.096071             0.000139   \n",
       "3            0.000139            0.000416             0.000139   \n",
       "4            0.000139            0.001666             0.140081   \n",
       "\n",
       "   Is Profile View Size Customized?  UTC Offset  Location  \\\n",
       "0                             False    0.008191         0   \n",
       "1                             False    0.239761         1   \n",
       "2                             False    0.105512         1   \n",
       "3                             False    0.239761         1   \n",
       "4                             False    0.105512         1   \n",
       "\n",
       "  Location Public Visibility  ... User Time Zone Num of Followers  \\\n",
       "0                    Enabled  ...       0.005276            95763   \n",
       "1                    Enabled  ...       0.225045          1018746   \n",
       "2                    Enabled  ...       0.069971            13444   \n",
       "3                    Enabled  ...       0.225045           339168   \n",
       "4                    Enabled  ...       0.069971             9215   \n",
       "\n",
       "   Num of People Following  Num of Status Updates  Num of Direct Messages  \\\n",
       "0                     4289                  30809                     873   \n",
       "1                      289                   8150                     290   \n",
       "2                     1876                   4698                     227   \n",
       "3                     1148                  53216                    4035   \n",
       "4                       93                   3271                     130   \n",
       "\n",
       "   Profile Category  Avg Daily Profile Visit Duration in seconds  \\\n",
       "0          business                                       14.792   \n",
       "1           unknown                                        8.183   \n",
       "2           unknown                                       31.823   \n",
       "3          business                                       23.052   \n",
       "4           unknown                                        8.418   \n",
       "\n",
       "  Avg Daily Profile Clicks         Profile Image  Num of Profile Likes  \n",
       "0                   1.5761  AL85S14OMDPF01I9.png              7.943073  \n",
       "1                  11.2782  HI11QOPD7BLJTO7Q.png              7.125283  \n",
       "2                   0.5725  JS49LP5P72RI1OQB.png              7.352441  \n",
       "3                   4.0265  S0GDSC09MACCLBJP.png              8.755107  \n",
       "4                   3.9229  CRSEMK4QER6LDJSA.png              6.983790  \n",
       "\n",
       "[5 rows x 22 columns]"
      ]
     },
     "execution_count": 42,
     "metadata": {},
     "output_type": "execute_result"
    }
   ],
   "source": [
    "df_train.head()"
   ]
  },
  {
   "cell_type": "markdown",
   "metadata": {
    "papermill": {
     "duration": 0.102603,
     "end_time": "2020-12-14T16:29:28.198210",
     "exception": false,
     "start_time": "2020-12-14T16:29:28.095607",
     "status": "completed"
    },
    "tags": []
   },
   "source": [
    "We convert our boolean feature to int."
   ]
  },
  {
   "cell_type": "code",
   "execution_count": 43,
   "metadata": {
    "execution": {
     "iopub.execute_input": "2020-12-14T16:29:28.417418Z",
     "iopub.status.busy": "2020-12-14T16:29:28.416456Z",
     "iopub.status.idle": "2020-12-14T16:29:28.420173Z",
     "shell.execute_reply": "2020-12-14T16:29:28.419384Z"
    },
    "papermill": {
     "duration": 0.117731,
     "end_time": "2020-12-14T16:29:28.420303",
     "exception": false,
     "start_time": "2020-12-14T16:29:28.302572",
     "status": "completed"
    },
    "tags": []
   },
   "outputs": [],
   "source": [
    "df_train['Is Profile View Size Customized?'] = df_train['Is Profile View Size Customized?'].astype(int)\n",
    "df_test['Is Profile View Size Customized?'] = df_test['Is Profile View Size Customized?'].astype(int)"
   ]
  },
  {
   "cell_type": "code",
   "execution_count": 44,
   "metadata": {
    "execution": {
     "iopub.execute_input": "2020-12-14T16:29:28.637627Z",
     "iopub.status.busy": "2020-12-14T16:29:28.636757Z",
     "iopub.status.idle": "2020-12-14T16:29:28.641354Z",
     "shell.execute_reply": "2020-12-14T16:29:28.640625Z"
    },
    "papermill": {
     "duration": 0.117231,
     "end_time": "2020-12-14T16:29:28.641479",
     "exception": false,
     "start_time": "2020-12-14T16:29:28.524248",
     "status": "completed"
    },
    "tags": []
   },
   "outputs": [
    {
     "data": {
      "text/plain": [
       "Enabled     3428\n",
       "Disabled    2014\n",
       "enabled      865\n",
       "disabled     533\n",
       "??           363\n",
       "Name: Location Public Visibility, dtype: int64"
      ]
     },
     "execution_count": 44,
     "metadata": {},
     "output_type": "execute_result"
    }
   ],
   "source": [
    "df_train['Location Public Visibility'].value_counts()"
   ]
  },
  {
   "cell_type": "markdown",
   "metadata": {
    "papermill": {
     "duration": 0.10162,
     "end_time": "2020-12-14T16:29:28.845554",
     "exception": false,
     "start_time": "2020-12-14T16:29:28.743934",
     "status": "completed"
    },
    "tags": []
   },
   "source": [
    "Let's combine some of the values in this feature."
   ]
  },
  {
   "cell_type": "code",
   "execution_count": 45,
   "metadata": {
    "execution": {
     "iopub.execute_input": "2020-12-14T16:29:29.060321Z",
     "iopub.status.busy": "2020-12-14T16:29:29.059224Z",
     "iopub.status.idle": "2020-12-14T16:29:29.074080Z",
     "shell.execute_reply": "2020-12-14T16:29:29.073397Z"
    },
    "papermill": {
     "duration": 0.126675,
     "end_time": "2020-12-14T16:29:29.074212",
     "exception": false,
     "start_time": "2020-12-14T16:29:28.947537",
     "status": "completed"
    },
    "tags": []
   },
   "outputs": [],
   "source": [
    "df_train.loc[df_train['Location Public Visibility'] == '??', 'Location Public Visibility'] = 'unknown'\n",
    "df_train['Location Public Visibility'] = df_train['Location Public Visibility'].str.lower()\n",
    "df_test.loc[df_test['Location Public Visibility'] == '??', 'Location Public Visibility'] = 'unknown'\n",
    "df_test['Location Public Visibility'] = df_test['Location Public Visibility'].str.lower()"
   ]
  },
  {
   "cell_type": "code",
   "execution_count": 46,
   "metadata": {
    "execution": {
     "iopub.execute_input": "2020-12-14T16:29:29.289394Z",
     "iopub.status.busy": "2020-12-14T16:29:29.288044Z",
     "iopub.status.idle": "2020-12-14T16:29:29.294217Z",
     "shell.execute_reply": "2020-12-14T16:29:29.293585Z"
    },
    "papermill": {
     "duration": 0.116531,
     "end_time": "2020-12-14T16:29:29.294371",
     "exception": false,
     "start_time": "2020-12-14T16:29:29.177840",
     "status": "completed"
    },
    "tags": []
   },
   "outputs": [
    {
     "data": {
      "text/plain": [
       "array(['enabled', 'disabled', 'unknown'], dtype=object)"
      ]
     },
     "execution_count": 46,
     "metadata": {},
     "output_type": "execute_result"
    }
   ],
   "source": [
    "df_train['Location Public Visibility'].unique()"
   ]
  },
  {
   "cell_type": "code",
   "execution_count": 47,
   "metadata": {
    "execution": {
     "iopub.execute_input": "2020-12-14T16:29:29.508668Z",
     "iopub.status.busy": "2020-12-14T16:29:29.507880Z",
     "iopub.status.idle": "2020-12-14T16:29:29.591717Z",
     "shell.execute_reply": "2020-12-14T16:29:29.592439Z"
    },
    "papermill": {
     "duration": 0.194822,
     "end_time": "2020-12-14T16:29:29.592601",
     "exception": false,
     "start_time": "2020-12-14T16:29:29.397779",
     "status": "completed"
    },
    "tags": []
   },
   "outputs": [],
   "source": [
    "df_train = encode_frequency_feature(df_train, 'Location Public Visibility')\n",
    "df_test = encode_frequency_feature(df_test, 'Location Public Visibility')"
   ]
  },
  {
   "cell_type": "code",
   "execution_count": 48,
   "metadata": {
    "execution": {
     "iopub.execute_input": "2020-12-14T16:29:29.809174Z",
     "iopub.status.busy": "2020-12-14T16:29:29.808021Z",
     "iopub.status.idle": "2020-12-14T16:29:29.812865Z",
     "shell.execute_reply": "2020-12-14T16:29:29.812278Z"
    },
    "papermill": {
     "duration": 0.115749,
     "end_time": "2020-12-14T16:29:29.812999",
     "exception": false,
     "start_time": "2020-12-14T16:29:29.697250",
     "status": "completed"
    },
    "tags": []
   },
   "outputs": [
    {
     "data": {
      "text/plain": [
       "0.596002    4293\n",
       "0.353603    2547\n",
       "0.050396     363\n",
       "Name: Location Public Visibility, dtype: int64"
      ]
     },
     "execution_count": 48,
     "metadata": {},
     "output_type": "execute_result"
    }
   ],
   "source": [
    "df_train['Location Public Visibility'].value_counts()"
   ]
  },
  {
   "cell_type": "code",
   "execution_count": 49,
   "metadata": {
    "execution": {
     "iopub.execute_input": "2020-12-14T16:29:30.027203Z",
     "iopub.status.busy": "2020-12-14T16:29:30.026436Z",
     "iopub.status.idle": "2020-12-14T16:29:30.045554Z",
     "shell.execute_reply": "2020-12-14T16:29:30.044757Z"
    },
    "papermill": {
     "duration": 0.128732,
     "end_time": "2020-12-14T16:29:30.045713",
     "exception": false,
     "start_time": "2020-12-14T16:29:29.916981",
     "status": "completed"
    },
    "tags": []
   },
   "outputs": [
    {
     "name": "stdout",
     "output_type": "stream",
     "text": [
      "<class 'pandas.core.frame.DataFrame'>\n",
      "Int64Index: 7203 entries, 0 to 7499\n",
      "Data columns (total 22 columns):\n",
      " #   Column                                       Non-Null Count  Dtype  \n",
      "---  ------                                       --------------  -----  \n",
      " 0   Personal URL                                 7203 non-null   int64  \n",
      " 1   Profile Cover Image Status                   7203 non-null   int64  \n",
      " 2   Profile Verification Status                  7203 non-null   int64  \n",
      " 3   Profile Text Color                           7203 non-null   float64\n",
      " 4   Profile Page Color                           7203 non-null   float64\n",
      " 5   Profile Theme Color                          7203 non-null   float64\n",
      " 6   Is Profile View Size Customized?             7203 non-null   int64  \n",
      " 7   UTC Offset                                   7203 non-null   float64\n",
      " 8   Location                                     7203 non-null   int64  \n",
      " 9   Location Public Visibility                   7203 non-null   float64\n",
      " 10  User Language                                7203 non-null   object \n",
      " 11  Profile Creation Timestamp                   7203 non-null   object \n",
      " 12  User Time Zone                               7203 non-null   float64\n",
      " 13  Num of Followers                             7203 non-null   int64  \n",
      " 14  Num of People Following                      7203 non-null   int64  \n",
      " 15  Num of Status Updates                        7203 non-null   int64  \n",
      " 16  Num of Direct Messages                       7203 non-null   int64  \n",
      " 17  Profile Category                             7203 non-null   object \n",
      " 18  Avg Daily Profile Visit Duration in seconds  7203 non-null   float64\n",
      " 19  Avg Daily Profile Clicks                     7203 non-null   float64\n",
      " 20  Profile Image                                7203 non-null   object \n",
      " 21  Num of Profile Likes                         7203 non-null   float64\n",
      "dtypes: float64(9), int64(9), object(4)\n",
      "memory usage: 1.3+ MB\n"
     ]
    }
   ],
   "source": [
    "df_train.info()"
   ]
  },
  {
   "cell_type": "markdown",
   "metadata": {
    "papermill": {
     "duration": 0.104751,
     "end_time": "2020-12-14T16:29:30.257172",
     "exception": false,
     "start_time": "2020-12-14T16:29:30.152421",
     "status": "completed"
    },
    "tags": []
   },
   "source": [
    "Let's study User Language."
   ]
  },
  {
   "cell_type": "code",
   "execution_count": 50,
   "metadata": {
    "execution": {
     "iopub.execute_input": "2020-12-14T16:29:30.478998Z",
     "iopub.status.busy": "2020-12-14T16:29:30.478117Z",
     "iopub.status.idle": "2020-12-14T16:29:30.482709Z",
     "shell.execute_reply": "2020-12-14T16:29:30.482107Z"
    },
    "papermill": {
     "duration": 0.119124,
     "end_time": "2020-12-14T16:29:30.482845",
     "exception": false,
     "start_time": "2020-12-14T16:29:30.363721",
     "status": "completed"
    },
    "tags": []
   },
   "outputs": [
    {
     "data": {
      "text/plain": [
       "en       5147\n",
       "es        849\n",
       "pt        249\n",
       "fr        215\n",
       "tr        135\n",
       "it        113\n",
       "ja         94\n",
       "de         82\n",
       "en-gb      57\n",
       "ar         53\n",
       "nl         47\n",
       "ko         46\n",
       "ru         44\n",
       "id         17\n",
       "pl         15\n",
       "cs          7\n",
       "sv          6\n",
       "ca          5\n",
       "fi          5\n",
       "el          4\n",
       "zh-cn       3\n",
       "th          2\n",
       "da          2\n",
       "sk          2\n",
       "hu          1\n",
       "zh-TW       1\n",
       "uk          1\n",
       "sr          1\n",
       "Name: User Language, dtype: int64"
      ]
     },
     "execution_count": 50,
     "metadata": {},
     "output_type": "execute_result"
    }
   ],
   "source": [
    "df_train['User Language'].value_counts()"
   ]
  },
  {
   "cell_type": "code",
   "execution_count": 51,
   "metadata": {
    "execution": {
     "iopub.execute_input": "2020-12-14T16:29:30.726769Z",
     "iopub.status.busy": "2020-12-14T16:29:30.725933Z",
     "iopub.status.idle": "2020-12-14T16:29:30.868461Z",
     "shell.execute_reply": "2020-12-14T16:29:30.867711Z"
    },
    "papermill": {
     "duration": 0.279699,
     "end_time": "2020-12-14T16:29:30.868589",
     "exception": false,
     "start_time": "2020-12-14T16:29:30.588890",
     "status": "completed"
    },
    "tags": []
   },
   "outputs": [
    {
     "data": {
      "image/png": "[encoded data removed]",
      "text/plain": [
       "<Figure size 432x288 with 1 Axes>"
      ]
     },
     "metadata": {
      "needs_background": "light"
     },
     "output_type": "display_data"
    }
   ],
   "source": [
    "sns.boxplot(x=df_train['User Language'].value_counts())\n",
    "plt.show()"
   ]
  },
  {
   "cell_type": "markdown",
   "metadata": {
    "papermill": {
     "duration": 0.108362,
     "end_time": "2020-12-14T16:29:31.084082",
     "exception": false,
     "start_time": "2020-12-14T16:29:30.975720",
     "status": "completed"
    },
    "tags": []
   },
   "source": [
    "Merge english and british english."
   ]
  },
  {
   "cell_type": "code",
   "execution_count": 52,
   "metadata": {
    "execution": {
     "iopub.execute_input": "2020-12-14T16:29:31.318352Z",
     "iopub.status.busy": "2020-12-14T16:29:31.317289Z",
     "iopub.status.idle": "2020-12-14T16:29:31.320731Z",
     "shell.execute_reply": "2020-12-14T16:29:31.320067Z"
    },
    "papermill": {
     "duration": 0.129198,
     "end_time": "2020-12-14T16:29:31.320857",
     "exception": false,
     "start_time": "2020-12-14T16:29:31.191659",
     "status": "completed"
    },
    "tags": []
   },
   "outputs": [],
   "source": [
    "df_train.loc[df_train['User Language'] == 'en-gb', 'User Language'] = 'en'\n",
    "df_train.loc[df_train['User Language'] == 'zh-cn', 'User Language'] = 'zh'\n",
    "df_train.loc[df_train['User Language'] == 'zh-TW', 'User Language'] = 'zh'\n",
    "df_test.loc[df_test['User Language'] == 'en-gb', 'User Language'] = 'en'\n",
    "df_test.loc[df_test['User Language'] == 'zh-cn', 'User Language'] = 'zh'\n",
    "df_test.loc[df_test['User Language'] == 'zh-TW', 'User Language'] = 'zh'"
   ]
  },
  {
   "cell_type": "code",
   "execution_count": 53,
   "metadata": {
    "execution": {
     "iopub.execute_input": "2020-12-14T16:29:31.545052Z",
     "iopub.status.busy": "2020-12-14T16:29:31.543973Z",
     "iopub.status.idle": "2020-12-14T16:29:31.547737Z",
     "shell.execute_reply": "2020-12-14T16:29:31.548505Z"
    },
    "papermill": {
     "duration": 0.121259,
     "end_time": "2020-12-14T16:29:31.548663",
     "exception": false,
     "start_time": "2020-12-14T16:29:31.427404",
     "status": "completed"
    },
    "tags": []
   },
   "outputs": [
    {
     "data": {
      "text/plain": [
       "en    5204\n",
       "es     849\n",
       "pt     249\n",
       "fr     215\n",
       "tr     135\n",
       "it     113\n",
       "ja      94\n",
       "de      82\n",
       "ar      53\n",
       "nl      47\n",
       "ko      46\n",
       "ru      44\n",
       "id      17\n",
       "pl      15\n",
       "cs       7\n",
       "sv       6\n",
       "fi       5\n",
       "ca       5\n",
       "zh       4\n",
       "el       4\n",
       "da       2\n",
       "th       2\n",
       "sk       2\n",
       "sr       1\n",
       "hu       1\n",
       "uk       1\n",
       "Name: User Language, dtype: int64"
      ]
     },
     "execution_count": 53,
     "metadata": {},
     "output_type": "execute_result"
    }
   ],
   "source": [
    "df_train['User Language'].value_counts()"
   ]
  },
  {
   "cell_type": "markdown",
   "metadata": {
    "papermill": {
     "duration": 0.107339,
     "end_time": "2020-12-14T16:29:31.763264",
     "exception": false,
     "start_time": "2020-12-14T16:29:31.655925",
     "status": "completed"
    },
    "tags": []
   },
   "source": [
    "We now use frequency encoding to encode our feature."
   ]
  },
  {
   "cell_type": "code",
   "execution_count": 54,
   "metadata": {
    "execution": {
     "iopub.execute_input": "2020-12-14T16:29:31.983464Z",
     "iopub.status.busy": "2020-12-14T16:29:31.982669Z",
     "iopub.status.idle": "2020-12-14T16:29:32.064298Z",
     "shell.execute_reply": "2020-12-14T16:29:32.063504Z"
    },
    "papermill": {
     "duration": 0.194518,
     "end_time": "2020-12-14T16:29:32.064449",
     "exception": false,
     "start_time": "2020-12-14T16:29:31.869931",
     "status": "completed"
    },
    "tags": []
   },
   "outputs": [],
   "source": [
    "df_train = encode_frequency_feature(df_train, 'User Language')\n",
    "df_test = encode_frequency_feature(df_test, 'User Language')"
   ]
  },
  {
   "cell_type": "code",
   "execution_count": 55,
   "metadata": {
    "execution": {
     "iopub.execute_input": "2020-12-14T16:29:32.332803Z",
     "iopub.status.busy": "2020-12-14T16:29:32.331781Z",
     "iopub.status.idle": "2020-12-14T16:29:32.353372Z",
     "shell.execute_reply": "2020-12-14T16:29:32.352721Z"
    },
    "papermill": {
     "duration": 0.180685,
     "end_time": "2020-12-14T16:29:32.353511",
     "exception": false,
     "start_time": "2020-12-14T16:29:32.172826",
     "status": "completed"
    },
    "tags": []
   },
   "outputs": [
    {
     "name": "stdout",
     "output_type": "stream",
     "text": [
      "<class 'pandas.core.frame.DataFrame'>\n",
      "Int64Index: 7203 entries, 0 to 7499\n",
      "Data columns (total 22 columns):\n",
      " #   Column                                       Non-Null Count  Dtype  \n",
      "---  ------                                       --------------  -----  \n",
      " 0   Personal URL                                 7203 non-null   int64  \n",
      " 1   Profile Cover Image Status                   7203 non-null   int64  \n",
      " 2   Profile Verification Status                  7203 non-null   int64  \n",
      " 3   Profile Text Color                           7203 non-null   float64\n",
      " 4   Profile Page Color                           7203 non-null   float64\n",
      " 5   Profile Theme Color                          7203 non-null   float64\n",
      " 6   Is Profile View Size Customized?             7203 non-null   int64  \n",
      " 7   UTC Offset                                   7203 non-null   float64\n",
      " 8   Location                                     7203 non-null   int64  \n",
      " 9   Location Public Visibility                   7203 non-null   float64\n",
      " 10  User Language                                7203 non-null   float64\n",
      " 11  Profile Creation Timestamp                   7203 non-null   object \n",
      " 12  User Time Zone                               7203 non-null   float64\n",
      " 13  Num of Followers                             7203 non-null   int64  \n",
      " 14  Num of People Following                      7203 non-null   int64  \n",
      " 15  Num of Status Updates                        7203 non-null   int64  \n",
      " 16  Num of Direct Messages                       7203 non-null   int64  \n",
      " 17  Profile Category                             7203 non-null   object \n",
      " 18  Avg Daily Profile Visit Duration in seconds  7203 non-null   float64\n",
      " 19  Avg Daily Profile Clicks                     7203 non-null   float64\n",
      " 20  Profile Image                                7203 non-null   object \n",
      " 21  Num of Profile Likes                         7203 non-null   float64\n",
      "dtypes: float64(10), int64(9), object(3)\n",
      "memory usage: 1.3+ MB\n"
     ]
    }
   ],
   "source": [
    "df_train.info()"
   ]
  },
  {
   "cell_type": "markdown",
   "metadata": {
    "papermill": {
     "duration": 0.107883,
     "end_time": "2020-12-14T16:29:32.570798",
     "exception": false,
     "start_time": "2020-12-14T16:29:32.462915",
     "status": "completed"
    },
    "tags": []
   },
   "source": [
    "Let's drop the profile image."
   ]
  },
  {
   "cell_type": "code",
   "execution_count": 56,
   "metadata": {
    "execution": {
     "iopub.execute_input": "2020-12-14T16:29:32.792447Z",
     "iopub.status.busy": "2020-12-14T16:29:32.791573Z",
     "iopub.status.idle": "2020-12-14T16:29:32.796155Z",
     "shell.execute_reply": "2020-12-14T16:29:32.795578Z"
    },
    "papermill": {
     "duration": 0.117919,
     "end_time": "2020-12-14T16:29:32.796281",
     "exception": false,
     "start_time": "2020-12-14T16:29:32.678362",
     "status": "completed"
    },
    "tags": []
   },
   "outputs": [
    {
     "data": {
      "text/plain": [
       "Index(['Id', 'Personal URL', 'Profile Cover Image Status',\n",
       "       'Profile Verification Status', 'Profile Text Color',\n",
       "       'Profile Page Color', 'Profile Theme Color',\n",
       "       'Is Profile View Size Customized?', 'UTC Offset', 'Location',\n",
       "       'Location Public Visibility', 'User Language',\n",
       "       'Profile Creation Timestamp', 'User Time Zone', 'Num of Followers',\n",
       "       'Num of People Following', 'Num of Status Updates',\n",
       "       'Num of Direct Messages', 'Profile Category',\n",
       "       'Avg Daily Profile Visit Duration in seconds',\n",
       "       'Avg Daily Profile Clicks', 'Profile Image'],\n",
       "      dtype='object')"
      ]
     },
     "execution_count": 56,
     "metadata": {},
     "output_type": "execute_result"
    }
   ],
   "source": [
    "df_test.columns"
   ]
  },
  {
   "cell_type": "code",
   "execution_count": 57,
   "metadata": {
    "execution": {
     "iopub.execute_input": "2020-12-14T16:29:33.027170Z",
     "iopub.status.busy": "2020-12-14T16:29:33.025580Z",
     "iopub.status.idle": "2020-12-14T16:29:33.029898Z",
     "shell.execute_reply": "2020-12-14T16:29:33.030472Z"
    },
    "papermill": {
     "duration": 0.123484,
     "end_time": "2020-12-14T16:29:33.030643",
     "exception": false,
     "start_time": "2020-12-14T16:29:32.907159",
     "status": "completed"
    },
    "tags": []
   },
   "outputs": [],
   "source": [
    "df_train = df_train.drop(columns=['Profile Image'])\n",
    "df_test = df_test.drop(columns=['Profile Image'])"
   ]
  },
  {
   "cell_type": "code",
   "execution_count": 58,
   "metadata": {
    "execution": {
     "iopub.execute_input": "2020-12-14T16:29:33.258776Z",
     "iopub.status.busy": "2020-12-14T16:29:33.257796Z",
     "iopub.status.idle": "2020-12-14T16:29:33.263627Z",
     "shell.execute_reply": "2020-12-14T16:29:33.262893Z"
    },
    "papermill": {
     "duration": 0.122768,
     "end_time": "2020-12-14T16:29:33.263755",
     "exception": false,
     "start_time": "2020-12-14T16:29:33.140987",
     "status": "completed"
    },
    "tags": []
   },
   "outputs": [
    {
     "data": {
      "text/plain": [
       "array(['business', 'unknown', 'celebrity', 'government', ' '],\n",
       "      dtype=object)"
      ]
     },
     "execution_count": 58,
     "metadata": {},
     "output_type": "execute_result"
    }
   ],
   "source": [
    "df_train['Profile Category'].unique()"
   ]
  },
  {
   "cell_type": "code",
   "execution_count": 59,
   "metadata": {
    "execution": {
     "iopub.execute_input": "2020-12-14T16:29:33.498831Z",
     "iopub.status.busy": "2020-12-14T16:29:33.497830Z",
     "iopub.status.idle": "2020-12-14T16:29:33.500434Z",
     "shell.execute_reply": "2020-12-14T16:29:33.501105Z"
    },
    "papermill": {
     "duration": 0.128221,
     "end_time": "2020-12-14T16:29:33.501264",
     "exception": false,
     "start_time": "2020-12-14T16:29:33.373043",
     "status": "completed"
    },
    "tags": []
   },
   "outputs": [],
   "source": [
    "df_train.loc[df_train['Profile Category'] == ' ', 'Profile Category'] = 'unknown'\n",
    "df_test.loc[df_test['Profile Category'] == ' ', 'Profile Category'] = 'unknown'"
   ]
  },
  {
   "cell_type": "code",
   "execution_count": 60,
   "metadata": {
    "execution": {
     "iopub.execute_input": "2020-12-14T16:29:33.728942Z",
     "iopub.status.busy": "2020-12-14T16:29:33.728133Z",
     "iopub.status.idle": "2020-12-14T16:29:33.733443Z",
     "shell.execute_reply": "2020-12-14T16:29:33.732812Z"
    },
    "papermill": {
     "duration": 0.121126,
     "end_time": "2020-12-14T16:29:33.733570",
     "exception": false,
     "start_time": "2020-12-14T16:29:33.612444",
     "status": "completed"
    },
    "tags": []
   },
   "outputs": [
    {
     "data": {
      "text/plain": [
       "array(['business', 'unknown', 'celebrity', 'government'], dtype=object)"
      ]
     },
     "execution_count": 60,
     "metadata": {},
     "output_type": "execute_result"
    }
   ],
   "source": [
    "df_train['Profile Category'].unique()"
   ]
  },
  {
   "cell_type": "markdown",
   "metadata": {
    "papermill": {
     "duration": 0.110714,
     "end_time": "2020-12-14T16:29:33.954882",
     "exception": false,
     "start_time": "2020-12-14T16:29:33.844168",
     "status": "completed"
    },
    "tags": []
   },
   "source": [
    "We know encode by frequency the feature 'Profile Category'"
   ]
  },
  {
   "cell_type": "code",
   "execution_count": 61,
   "metadata": {
    "execution": {
     "iopub.execute_input": "2020-12-14T16:29:34.185795Z",
     "iopub.status.busy": "2020-12-14T16:29:34.184998Z",
     "iopub.status.idle": "2020-12-14T16:29:34.266236Z",
     "shell.execute_reply": "2020-12-14T16:29:34.265569Z"
    },
    "papermill": {
     "duration": 0.199527,
     "end_time": "2020-12-14T16:29:34.266376",
     "exception": false,
     "start_time": "2020-12-14T16:29:34.066849",
     "status": "completed"
    },
    "tags": []
   },
   "outputs": [],
   "source": [
    "df_train = encode_frequency_feature(df_train, 'Profile Category')\n",
    "df_test = encode_frequency_feature(df_test, 'Profile Category')"
   ]
  },
  {
   "cell_type": "code",
   "execution_count": 62,
   "metadata": {
    "execution": {
     "iopub.execute_input": "2020-12-14T16:29:34.495167Z",
     "iopub.status.busy": "2020-12-14T16:29:34.494170Z",
     "iopub.status.idle": "2020-12-14T16:29:34.498821Z",
     "shell.execute_reply": "2020-12-14T16:29:34.498093Z"
    },
    "papermill": {
     "duration": 0.121725,
     "end_time": "2020-12-14T16:29:34.498952",
     "exception": false,
     "start_time": "2020-12-14T16:29:34.377227",
     "status": "completed"
    },
    "tags": []
   },
   "outputs": [
    {
     "data": {
      "text/plain": [
       "array([0.24670276, 0.47355269, 0.19047619, 0.08926836])"
      ]
     },
     "execution_count": 62,
     "metadata": {},
     "output_type": "execute_result"
    }
   ],
   "source": [
    "df_train['Profile Category'].unique()"
   ]
  },
  {
   "cell_type": "code",
   "execution_count": 63,
   "metadata": {
    "execution": {
     "iopub.execute_input": "2020-12-14T16:29:34.727214Z",
     "iopub.status.busy": "2020-12-14T16:29:34.726500Z",
     "iopub.status.idle": "2020-12-14T16:29:34.741617Z",
     "shell.execute_reply": "2020-12-14T16:29:34.740611Z"
    },
    "papermill": {
     "duration": 0.131562,
     "end_time": "2020-12-14T16:29:34.741778",
     "exception": false,
     "start_time": "2020-12-14T16:29:34.610216",
     "status": "completed"
    },
    "tags": []
   },
   "outputs": [
    {
     "name": "stdout",
     "output_type": "stream",
     "text": [
      "<class 'pandas.core.frame.DataFrame'>\n",
      "Int64Index: 7203 entries, 0 to 7499\n",
      "Data columns (total 21 columns):\n",
      " #   Column                                       Non-Null Count  Dtype  \n",
      "---  ------                                       --------------  -----  \n",
      " 0   Personal URL                                 7203 non-null   int64  \n",
      " 1   Profile Cover Image Status                   7203 non-null   int64  \n",
      " 2   Profile Verification Status                  7203 non-null   int64  \n",
      " 3   Profile Text Color                           7203 non-null   float64\n",
      " 4   Profile Page Color                           7203 non-null   float64\n",
      " 5   Profile Theme Color                          7203 non-null   float64\n",
      " 6   Is Profile View Size Customized?             7203 non-null   int64  \n",
      " 7   UTC Offset                                   7203 non-null   float64\n",
      " 8   Location                                     7203 non-null   int64  \n",
      " 9   Location Public Visibility                   7203 non-null   float64\n",
      " 10  User Language                                7203 non-null   float64\n",
      " 11  Profile Creation Timestamp                   7203 non-null   object \n",
      " 12  User Time Zone                               7203 non-null   float64\n",
      " 13  Num of Followers                             7203 non-null   int64  \n",
      " 14  Num of People Following                      7203 non-null   int64  \n",
      " 15  Num of Status Updates                        7203 non-null   int64  \n",
      " 16  Num of Direct Messages                       7203 non-null   int64  \n",
      " 17  Profile Category                             7203 non-null   float64\n",
      " 18  Avg Daily Profile Visit Duration in seconds  7203 non-null   float64\n",
      " 19  Avg Daily Profile Clicks                     7203 non-null   float64\n",
      " 20  Num of Profile Likes                         7203 non-null   float64\n",
      "dtypes: float64(11), int64(9), object(1)\n",
      "memory usage: 1.2+ MB\n"
     ]
    }
   ],
   "source": [
    "df_train.info()"
   ]
  },
  {
   "cell_type": "code",
   "execution_count": 64,
   "metadata": {
    "execution": {
     "iopub.execute_input": "2020-12-14T16:29:34.977670Z",
     "iopub.status.busy": "2020-12-14T16:29:34.974289Z",
     "iopub.status.idle": "2020-12-14T16:29:34.980498Z",
     "shell.execute_reply": "2020-12-14T16:29:34.981021Z"
    },
    "papermill": {
     "duration": 0.127358,
     "end_time": "2020-12-14T16:29:34.981176",
     "exception": false,
     "start_time": "2020-12-14T16:29:34.853818",
     "status": "completed"
    },
    "tags": []
   },
   "outputs": [],
   "source": [
    "def transform_timestamp(x):\n",
    "    #Get Year and Month information\n",
    "    df_year = x['Profile Creation Timestamp'].str.split(\" \", expand=True)[5]\n",
    "    df_month = x['Profile Creation Timestamp'].str.split(\" \", expand=True)[1]\n",
    "    #Map month string to numerical value\n",
    "    months = {'Jan': 1, 'Feb': 2, 'Mar': 3, 'Apr': 4, 'May': 5, 'Jun': 6, 'Jul': 7, 'Aug': 8, 'Sep': 9, 'Oct': 10, 'Nov': 11, 'Dec': 12}\n",
    "    df_month = df_month.map(months)\n",
    "    #Subtract months\n",
    "    df_duration = df_year.apply(lambda y: (2020-int(y))*24)\n",
    "    df_duration = df_duration - df_month\n",
    "    #Rename column, add to df_train and drop timestamp\n",
    "    df_duration = df_duration.astype(int)\n",
    "    df_duration.rename('Months Since Profile Creation')\n",
    "    x['Months Since Profile Creation'] = df_duration\n",
    "    x = x.drop(columns='Profile Creation Timestamp', axis=1)\n",
    "    return x"
   ]
  },
  {
   "cell_type": "code",
   "execution_count": 65,
   "metadata": {
    "execution": {
     "iopub.execute_input": "2020-12-14T16:29:35.231983Z",
     "iopub.status.busy": "2020-12-14T16:29:35.211868Z",
     "iopub.status.idle": "2020-12-14T16:29:35.310189Z",
     "shell.execute_reply": "2020-12-14T16:29:35.309358Z"
    },
    "papermill": {
     "duration": 0.216203,
     "end_time": "2020-12-14T16:29:35.310328",
     "exception": false,
     "start_time": "2020-12-14T16:29:35.094125",
     "status": "completed"
    },
    "tags": []
   },
   "outputs": [],
   "source": [
    "df_train = transform_timestamp(df_train)\n",
    "df_test = transform_timestamp(df_test)"
   ]
  },
  {
   "cell_type": "code",
   "execution_count": 66,
   "metadata": {
    "execution": {
     "iopub.execute_input": "2020-12-14T16:29:35.565394Z",
     "iopub.status.busy": "2020-12-14T16:29:35.564357Z",
     "iopub.status.idle": "2020-12-14T16:29:35.568998Z",
     "shell.execute_reply": "2020-12-14T16:29:35.569548Z"
    },
    "papermill": {
     "duration": 0.146541,
     "end_time": "2020-12-14T16:29:35.569713",
     "exception": false,
     "start_time": "2020-12-14T16:29:35.423172",
     "status": "completed"
    },
    "tags": []
   },
   "outputs": [
    {
     "data": {
      "text/html": [
       "<div>\n",
       "<style scoped>\n",
       "    .dataframe tbody tr th:only-of-type {\n",
       "        vertical-align: middle;\n",
       "    }\n",
       "\n",
       "    .dataframe tbody tr th {\n",
       "        vertical-align: top;\n",
       "    }\n",
       "\n",
       "    .dataframe thead th {\n",
       "        text-align: right;\n",
       "    }\n",
       "</style>\n",
       "<table border=\"1\" class=\"dataframe\">\n",
       "  <thead>\n",
       "    <tr style=\"text-align: right;\">\n",
       "      <th></th>\n",
       "      <th>Personal URL</th>\n",
       "      <th>Profile Cover Image Status</th>\n",
       "      <th>Profile Verification Status</th>\n",
       "      <th>Profile Text Color</th>\n",
       "      <th>Profile Page Color</th>\n",
       "      <th>Profile Theme Color</th>\n",
       "      <th>Is Profile View Size Customized?</th>\n",
       "      <th>UTC Offset</th>\n",
       "      <th>Location</th>\n",
       "      <th>Location Public Visibility</th>\n",
       "      <th>...</th>\n",
       "      <th>User Time Zone</th>\n",
       "      <th>Num of Followers</th>\n",
       "      <th>Num of People Following</th>\n",
       "      <th>Num of Status Updates</th>\n",
       "      <th>Num of Direct Messages</th>\n",
       "      <th>Profile Category</th>\n",
       "      <th>Avg Daily Profile Visit Duration in seconds</th>\n",
       "      <th>Avg Daily Profile Clicks</th>\n",
       "      <th>Num of Profile Likes</th>\n",
       "      <th>Months Since Profile Creation</th>\n",
       "    </tr>\n",
       "  </thead>\n",
       "  <tbody>\n",
       "    <tr>\n",
       "      <th>0</th>\n",
       "      <td>0</td>\n",
       "      <td>1</td>\n",
       "      <td>1</td>\n",
       "      <td>0.000139</td>\n",
       "      <td>0.000139</td>\n",
       "      <td>0.000139</td>\n",
       "      <td>0</td>\n",
       "      <td>0.008191</td>\n",
       "      <td>0</td>\n",
       "      <td>0.596002</td>\n",
       "      <td>...</td>\n",
       "      <td>0.005276</td>\n",
       "      <td>95763</td>\n",
       "      <td>4289</td>\n",
       "      <td>30809</td>\n",
       "      <td>873</td>\n",
       "      <td>0.246703</td>\n",
       "      <td>14.792</td>\n",
       "      <td>1.5761</td>\n",
       "      <td>7.943073</td>\n",
       "      <td>277</td>\n",
       "    </tr>\n",
       "    <tr>\n",
       "      <th>1</th>\n",
       "      <td>0</td>\n",
       "      <td>1</td>\n",
       "      <td>1</td>\n",
       "      <td>0.006109</td>\n",
       "      <td>0.006386</td>\n",
       "      <td>0.004443</td>\n",
       "      <td>0</td>\n",
       "      <td>0.239761</td>\n",
       "      <td>1</td>\n",
       "      <td>0.596002</td>\n",
       "      <td>...</td>\n",
       "      <td>0.225045</td>\n",
       "      <td>1018746</td>\n",
       "      <td>289</td>\n",
       "      <td>8150</td>\n",
       "      <td>290</td>\n",
       "      <td>0.473553</td>\n",
       "      <td>8.183</td>\n",
       "      <td>11.2782</td>\n",
       "      <td>7.125283</td>\n",
       "      <td>239</td>\n",
       "    </tr>\n",
       "    <tr>\n",
       "      <th>2</th>\n",
       "      <td>0</td>\n",
       "      <td>1</td>\n",
       "      <td>0</td>\n",
       "      <td>0.000139</td>\n",
       "      <td>0.096071</td>\n",
       "      <td>0.000139</td>\n",
       "      <td>0</td>\n",
       "      <td>0.105512</td>\n",
       "      <td>1</td>\n",
       "      <td>0.596002</td>\n",
       "      <td>...</td>\n",
       "      <td>0.069971</td>\n",
       "      <td>13444</td>\n",
       "      <td>1876</td>\n",
       "      <td>4698</td>\n",
       "      <td>227</td>\n",
       "      <td>0.473553</td>\n",
       "      <td>31.823</td>\n",
       "      <td>0.5725</td>\n",
       "      <td>7.352441</td>\n",
       "      <td>254</td>\n",
       "    </tr>\n",
       "    <tr>\n",
       "      <th>3</th>\n",
       "      <td>1</td>\n",
       "      <td>0</td>\n",
       "      <td>1</td>\n",
       "      <td>0.000139</td>\n",
       "      <td>0.000416</td>\n",
       "      <td>0.000139</td>\n",
       "      <td>0</td>\n",
       "      <td>0.239761</td>\n",
       "      <td>1</td>\n",
       "      <td>0.596002</td>\n",
       "      <td>...</td>\n",
       "      <td>0.225045</td>\n",
       "      <td>339168</td>\n",
       "      <td>1148</td>\n",
       "      <td>53216</td>\n",
       "      <td>4035</td>\n",
       "      <td>0.246703</td>\n",
       "      <td>23.052</td>\n",
       "      <td>4.0265</td>\n",
       "      <td>8.755107</td>\n",
       "      <td>262</td>\n",
       "    </tr>\n",
       "    <tr>\n",
       "      <th>4</th>\n",
       "      <td>1</td>\n",
       "      <td>1</td>\n",
       "      <td>0</td>\n",
       "      <td>0.000139</td>\n",
       "      <td>0.001666</td>\n",
       "      <td>0.140081</td>\n",
       "      <td>0</td>\n",
       "      <td>0.105512</td>\n",
       "      <td>1</td>\n",
       "      <td>0.596002</td>\n",
       "      <td>...</td>\n",
       "      <td>0.069971</td>\n",
       "      <td>9215</td>\n",
       "      <td>93</td>\n",
       "      <td>3271</td>\n",
       "      <td>130</td>\n",
       "      <td>0.473553</td>\n",
       "      <td>8.418</td>\n",
       "      <td>3.9229</td>\n",
       "      <td>6.983790</td>\n",
       "      <td>261</td>\n",
       "    </tr>\n",
       "  </tbody>\n",
       "</table>\n",
       "<p>5 rows × 21 columns</p>\n",
       "</div>"
      ],
      "text/plain": [
       "   Personal URL  Profile Cover Image Status  Profile Verification Status  \\\n",
       "0             0                           1                            1   \n",
       "1             0                           1                            1   \n",
       "2             0                           1                            0   \n",
       "3             1                           0                            1   \n",
       "4             1                           1                            0   \n",
       "\n",
       "   Profile Text Color  Profile Page Color  Profile Theme Color  \\\n",
       "0            0.000139            0.000139             0.000139   \n",
       "1            0.006109            0.006386             0.004443   \n",
       "2            0.000139            0.096071             0.000139   \n",
       "3            0.000139            0.000416             0.000139   \n",
       "4            0.000139            0.001666             0.140081   \n",
       "\n",
       "   Is Profile View Size Customized?  UTC Offset  Location  \\\n",
       "0                                 0    0.008191         0   \n",
       "1                                 0    0.239761         1   \n",
       "2                                 0    0.105512         1   \n",
       "3                                 0    0.239761         1   \n",
       "4                                 0    0.105512         1   \n",
       "\n",
       "   Location Public Visibility  ...  User Time Zone  Num of Followers  \\\n",
       "0                    0.596002  ...        0.005276             95763   \n",
       "1                    0.596002  ...        0.225045           1018746   \n",
       "2                    0.596002  ...        0.069971             13444   \n",
       "3                    0.596002  ...        0.225045            339168   \n",
       "4                    0.596002  ...        0.069971              9215   \n",
       "\n",
       "   Num of People Following  Num of Status Updates  Num of Direct Messages  \\\n",
       "0                     4289                  30809                     873   \n",
       "1                      289                   8150                     290   \n",
       "2                     1876                   4698                     227   \n",
       "3                     1148                  53216                    4035   \n",
       "4                       93                   3271                     130   \n",
       "\n",
       "   Profile Category  Avg Daily Profile Visit Duration in seconds  \\\n",
       "0          0.246703                                       14.792   \n",
       "1          0.473553                                        8.183   \n",
       "2          0.473553                                       31.823   \n",
       "3          0.246703                                       23.052   \n",
       "4          0.473553                                        8.418   \n",
       "\n",
       "   Avg Daily Profile Clicks  Num of Profile Likes  \\\n",
       "0                    1.5761              7.943073   \n",
       "1                   11.2782              7.125283   \n",
       "2                    0.5725              7.352441   \n",
       "3                    4.0265              8.755107   \n",
       "4                    3.9229              6.983790   \n",
       "\n",
       "   Months Since Profile Creation  \n",
       "0                            277  \n",
       "1                            239  \n",
       "2                            254  \n",
       "3                            262  \n",
       "4                            261  \n",
       "\n",
       "[5 rows x 21 columns]"
      ]
     },
     "execution_count": 66,
     "metadata": {},
     "output_type": "execute_result"
    }
   ],
   "source": [
    "df_train.head(5)"
   ]
  },
  {
   "cell_type": "code",
   "execution_count": 67,
   "metadata": {
    "execution": {
     "iopub.execute_input": "2020-12-14T16:29:35.825802Z",
     "iopub.status.busy": "2020-12-14T16:29:35.824916Z",
     "iopub.status.idle": "2020-12-14T16:29:35.828904Z",
     "shell.execute_reply": "2020-12-14T16:29:35.829454Z"
    },
    "papermill": {
     "duration": 0.147001,
     "end_time": "2020-12-14T16:29:35.829617",
     "exception": false,
     "start_time": "2020-12-14T16:29:35.682616",
     "status": "completed"
    },
    "tags": []
   },
   "outputs": [
    {
     "data": {
      "text/html": [
       "<div>\n",
       "<style scoped>\n",
       "    .dataframe tbody tr th:only-of-type {\n",
       "        vertical-align: middle;\n",
       "    }\n",
       "\n",
       "    .dataframe tbody tr th {\n",
       "        vertical-align: top;\n",
       "    }\n",
       "\n",
       "    .dataframe thead th {\n",
       "        text-align: right;\n",
       "    }\n",
       "</style>\n",
       "<table border=\"1\" class=\"dataframe\">\n",
       "  <thead>\n",
       "    <tr style=\"text-align: right;\">\n",
       "      <th></th>\n",
       "      <th>Id</th>\n",
       "      <th>Personal URL</th>\n",
       "      <th>Profile Cover Image Status</th>\n",
       "      <th>Profile Verification Status</th>\n",
       "      <th>Profile Text Color</th>\n",
       "      <th>Profile Page Color</th>\n",
       "      <th>Profile Theme Color</th>\n",
       "      <th>Is Profile View Size Customized?</th>\n",
       "      <th>UTC Offset</th>\n",
       "      <th>Location</th>\n",
       "      <th>...</th>\n",
       "      <th>User Language</th>\n",
       "      <th>User Time Zone</th>\n",
       "      <th>Num of Followers</th>\n",
       "      <th>Num of People Following</th>\n",
       "      <th>Num of Status Updates</th>\n",
       "      <th>Num of Direct Messages</th>\n",
       "      <th>Profile Category</th>\n",
       "      <th>Avg Daily Profile Visit Duration in seconds</th>\n",
       "      <th>Avg Daily Profile Clicks</th>\n",
       "      <th>Months Since Profile Creation</th>\n",
       "    </tr>\n",
       "  </thead>\n",
       "  <tbody>\n",
       "    <tr>\n",
       "      <th>0</th>\n",
       "      <td>49I3SOKLI2CMNGP4</td>\n",
       "      <td>0</td>\n",
       "      <td>1</td>\n",
       "      <td>0</td>\n",
       "      <td>0.0004</td>\n",
       "      <td>0.0004</td>\n",
       "      <td>0.0004</td>\n",
       "      <td>0</td>\n",
       "      <td>0.1084</td>\n",
       "      <td>1</td>\n",
       "      <td>...</td>\n",
       "      <td>0.7228</td>\n",
       "      <td>0.0256</td>\n",
       "      <td>31528</td>\n",
       "      <td>2148</td>\n",
       "      <td>12926</td>\n",
       "      <td>469</td>\n",
       "      <td>0.2416</td>\n",
       "      <td>13.827</td>\n",
       "      <td>3.4062</td>\n",
       "      <td>257</td>\n",
       "    </tr>\n",
       "    <tr>\n",
       "      <th>1</th>\n",
       "      <td>727IRIR59A3P88LK</td>\n",
       "      <td>0</td>\n",
       "      <td>0</td>\n",
       "      <td>0</td>\n",
       "      <td>0.0140</td>\n",
       "      <td>0.0024</td>\n",
       "      <td>0.0004</td>\n",
       "      <td>0</td>\n",
       "      <td>0.0016</td>\n",
       "      <td>1</td>\n",
       "      <td>...</td>\n",
       "      <td>0.7228</td>\n",
       "      <td>0.0016</td>\n",
       "      <td>42857</td>\n",
       "      <td>262</td>\n",
       "      <td>11678</td>\n",
       "      <td>1806</td>\n",
       "      <td>0.0884</td>\n",
       "      <td>24.019</td>\n",
       "      <td>3.2656</td>\n",
       "      <td>256</td>\n",
       "    </tr>\n",
       "    <tr>\n",
       "      <th>2</th>\n",
       "      <td>LN95SD15SRPCEE8F</td>\n",
       "      <td>1</td>\n",
       "      <td>1</td>\n",
       "      <td>1</td>\n",
       "      <td>0.0004</td>\n",
       "      <td>0.0664</td>\n",
       "      <td>0.1412</td>\n",
       "      <td>0</td>\n",
       "      <td>0.1540</td>\n",
       "      <td>1</td>\n",
       "      <td>...</td>\n",
       "      <td>0.7228</td>\n",
       "      <td>0.1468</td>\n",
       "      <td>40237847</td>\n",
       "      <td>392</td>\n",
       "      <td>9395</td>\n",
       "      <td>59247</td>\n",
       "      <td>0.4848</td>\n",
       "      <td>26.011</td>\n",
       "      <td>12.1619</td>\n",
       "      <td>213</td>\n",
       "    </tr>\n",
       "    <tr>\n",
       "      <th>3</th>\n",
       "      <td>TB11I7F0PN033D4T</td>\n",
       "      <td>0</td>\n",
       "      <td>1</td>\n",
       "      <td>1</td>\n",
       "      <td>0.0044</td>\n",
       "      <td>0.0032</td>\n",
       "      <td>0.0252</td>\n",
       "      <td>0</td>\n",
       "      <td>0.1540</td>\n",
       "      <td>1</td>\n",
       "      <td>...</td>\n",
       "      <td>0.7228</td>\n",
       "      <td>0.1468</td>\n",
       "      <td>230166</td>\n",
       "      <td>702</td>\n",
       "      <td>10507</td>\n",
       "      <td>2695</td>\n",
       "      <td>0.1852</td>\n",
       "      <td>26.127</td>\n",
       "      <td>2.1131</td>\n",
       "      <td>308</td>\n",
       "    </tr>\n",
       "    <tr>\n",
       "      <th>4</th>\n",
       "      <td>32PSGCK5PATHMR07</td>\n",
       "      <td>1</td>\n",
       "      <td>1</td>\n",
       "      <td>0</td>\n",
       "      <td>0.0004</td>\n",
       "      <td>0.3328</td>\n",
       "      <td>0.1032</td>\n",
       "      <td>0</td>\n",
       "      <td>0.2368</td>\n",
       "      <td>1</td>\n",
       "      <td>...</td>\n",
       "      <td>0.7228</td>\n",
       "      <td>0.2228</td>\n",
       "      <td>1199</td>\n",
       "      <td>1701</td>\n",
       "      <td>1022</td>\n",
       "      <td>8</td>\n",
       "      <td>0.4848</td>\n",
       "      <td>17.878</td>\n",
       "      <td>3.9660</td>\n",
       "      <td>186</td>\n",
       "    </tr>\n",
       "  </tbody>\n",
       "</table>\n",
       "<p>5 rows × 21 columns</p>\n",
       "</div>"
      ],
      "text/plain": [
       "                 Id  Personal URL  Profile Cover Image Status  \\\n",
       "0  49I3SOKLI2CMNGP4             0                           1   \n",
       "1  727IRIR59A3P88LK             0                           0   \n",
       "2  LN95SD15SRPCEE8F             1                           1   \n",
       "3  TB11I7F0PN033D4T             0                           1   \n",
       "4  32PSGCK5PATHMR07             1                           1   \n",
       "\n",
       "   Profile Verification Status  Profile Text Color  Profile Page Color  \\\n",
       "0                            0              0.0004              0.0004   \n",
       "1                            0              0.0140              0.0024   \n",
       "2                            1              0.0004              0.0664   \n",
       "3                            1              0.0044              0.0032   \n",
       "4                            0              0.0004              0.3328   \n",
       "\n",
       "   Profile Theme Color  Is Profile View Size Customized?  UTC Offset  \\\n",
       "0               0.0004                                 0      0.1084   \n",
       "1               0.0004                                 0      0.0016   \n",
       "2               0.1412                                 0      0.1540   \n",
       "3               0.0252                                 0      0.1540   \n",
       "4               0.1032                                 0      0.2368   \n",
       "\n",
       "   Location  ...  User Language  User Time Zone  Num of Followers  \\\n",
       "0         1  ...         0.7228          0.0256             31528   \n",
       "1         1  ...         0.7228          0.0016             42857   \n",
       "2         1  ...         0.7228          0.1468          40237847   \n",
       "3         1  ...         0.7228          0.1468            230166   \n",
       "4         1  ...         0.7228          0.2228              1199   \n",
       "\n",
       "   Num of People Following  Num of Status Updates  Num of Direct Messages  \\\n",
       "0                     2148                  12926                     469   \n",
       "1                      262                  11678                    1806   \n",
       "2                      392                   9395                   59247   \n",
       "3                      702                  10507                    2695   \n",
       "4                     1701                   1022                       8   \n",
       "\n",
       "   Profile Category  Avg Daily Profile Visit Duration in seconds  \\\n",
       "0            0.2416                                       13.827   \n",
       "1            0.0884                                       24.019   \n",
       "2            0.4848                                       26.011   \n",
       "3            0.1852                                       26.127   \n",
       "4            0.4848                                       17.878   \n",
       "\n",
       "   Avg Daily Profile Clicks  Months Since Profile Creation  \n",
       "0                    3.4062                            257  \n",
       "1                    3.2656                            256  \n",
       "2                   12.1619                            213  \n",
       "3                    2.1131                            308  \n",
       "4                    3.9660                            186  \n",
       "\n",
       "[5 rows x 21 columns]"
      ]
     },
     "execution_count": 67,
     "metadata": {},
     "output_type": "execute_result"
    }
   ],
   "source": [
    "df_test.head(5)"
   ]
  },
  {
   "cell_type": "code",
   "execution_count": 68,
   "metadata": {
    "execution": {
     "iopub.execute_input": "2020-12-14T16:29:36.063707Z",
     "iopub.status.busy": "2020-12-14T16:29:36.062896Z",
     "iopub.status.idle": "2020-12-14T16:29:36.083965Z",
     "shell.execute_reply": "2020-12-14T16:29:36.083204Z"
    },
    "papermill": {
     "duration": 0.140493,
     "end_time": "2020-12-14T16:29:36.084091",
     "exception": false,
     "start_time": "2020-12-14T16:29:35.943598",
     "status": "completed"
    },
    "tags": []
   },
   "outputs": [
    {
     "data": {
      "text/html": [
       "<div>\n",
       "<style scoped>\n",
       "    .dataframe tbody tr th:only-of-type {\n",
       "        vertical-align: middle;\n",
       "    }\n",
       "\n",
       "    .dataframe tbody tr th {\n",
       "        vertical-align: top;\n",
       "    }\n",
       "\n",
       "    .dataframe thead th {\n",
       "        text-align: right;\n",
       "    }\n",
       "</style>\n",
       "<table border=\"1\" class=\"dataframe\">\n",
       "  <thead>\n",
       "    <tr style=\"text-align: right;\">\n",
       "      <th></th>\n",
       "      <th>Num of Profile Likes</th>\n",
       "    </tr>\n",
       "  </thead>\n",
       "  <tbody>\n",
       "    <tr>\n",
       "      <th>Personal URL</th>\n",
       "      <td>-0.534665</td>\n",
       "    </tr>\n",
       "    <tr>\n",
       "      <th>Profile Category</th>\n",
       "      <td>-0.245915</td>\n",
       "    </tr>\n",
       "    <tr>\n",
       "      <th>Profile Page Color</th>\n",
       "      <td>-0.149611</td>\n",
       "    </tr>\n",
       "    <tr>\n",
       "      <th>Is Profile View Size Customized?</th>\n",
       "      <td>-0.147245</td>\n",
       "    </tr>\n",
       "    <tr>\n",
       "      <th>Profile Text Color</th>\n",
       "      <td>-0.126374</td>\n",
       "    </tr>\n",
       "    <tr>\n",
       "      <th>Profile Theme Color</th>\n",
       "      <td>-0.094506</td>\n",
       "    </tr>\n",
       "    <tr>\n",
       "      <th>Profile Cover Image Status</th>\n",
       "      <td>-0.060876</td>\n",
       "    </tr>\n",
       "    <tr>\n",
       "      <th>Num of Followers</th>\n",
       "      <td>-0.048903</td>\n",
       "    </tr>\n",
       "    <tr>\n",
       "      <th>Avg Daily Profile Visit Duration in seconds</th>\n",
       "      <td>-0.001626</td>\n",
       "    </tr>\n",
       "    <tr>\n",
       "      <th>Num of Direct Messages</th>\n",
       "      <td>0.003027</td>\n",
       "    </tr>\n",
       "    <tr>\n",
       "      <th>Num of Status Updates</th>\n",
       "      <td>0.042559</td>\n",
       "    </tr>\n",
       "    <tr>\n",
       "      <th>Num of People Following</th>\n",
       "      <td>0.049381</td>\n",
       "    </tr>\n",
       "    <tr>\n",
       "      <th>User Language</th>\n",
       "      <td>0.079278</td>\n",
       "    </tr>\n",
       "    <tr>\n",
       "      <th>User Time Zone</th>\n",
       "      <td>0.087784</td>\n",
       "    </tr>\n",
       "    <tr>\n",
       "      <th>UTC Offset</th>\n",
       "      <td>0.094673</td>\n",
       "    </tr>\n",
       "    <tr>\n",
       "      <th>Location</th>\n",
       "      <td>0.094954</td>\n",
       "    </tr>\n",
       "    <tr>\n",
       "      <th>Avg Daily Profile Clicks</th>\n",
       "      <td>0.157500</td>\n",
       "    </tr>\n",
       "    <tr>\n",
       "      <th>Months Since Profile Creation</th>\n",
       "      <td>0.171631</td>\n",
       "    </tr>\n",
       "    <tr>\n",
       "      <th>Location Public Visibility</th>\n",
       "      <td>0.181396</td>\n",
       "    </tr>\n",
       "    <tr>\n",
       "      <th>Profile Verification Status</th>\n",
       "      <td>0.194787</td>\n",
       "    </tr>\n",
       "    <tr>\n",
       "      <th>Num of Profile Likes</th>\n",
       "      <td>1.000000</td>\n",
       "    </tr>\n",
       "  </tbody>\n",
       "</table>\n",
       "</div>"
      ],
      "text/plain": [
       "                                             Num of Profile Likes\n",
       "Personal URL                                            -0.534665\n",
       "Profile Category                                        -0.245915\n",
       "Profile Page Color                                      -0.149611\n",
       "Is Profile View Size Customized?                        -0.147245\n",
       "Profile Text Color                                      -0.126374\n",
       "Profile Theme Color                                     -0.094506\n",
       "Profile Cover Image Status                              -0.060876\n",
       "Num of Followers                                        -0.048903\n",
       "Avg Daily Profile Visit Duration in seconds             -0.001626\n",
       "Num of Direct Messages                                   0.003027\n",
       "Num of Status Updates                                    0.042559\n",
       "Num of People Following                                  0.049381\n",
       "User Language                                            0.079278\n",
       "User Time Zone                                           0.087784\n",
       "UTC Offset                                               0.094673\n",
       "Location                                                 0.094954\n",
       "Avg Daily Profile Clicks                                 0.157500\n",
       "Months Since Profile Creation                            0.171631\n",
       "Location Public Visibility                               0.181396\n",
       "Profile Verification Status                              0.194787\n",
       "Num of Profile Likes                                     1.000000"
      ]
     },
     "execution_count": 68,
     "metadata": {},
     "output_type": "execute_result"
    }
   ],
   "source": [
    "#Check which features are highly correlated with the target variable\n",
    "correlation_matrix = df_train.corr()[['Num of Profile Likes']].sort_values('Num of Profile Likes')\n",
    "correlation_matrix"
   ]
  },
  {
   "cell_type": "code",
   "execution_count": 69,
   "metadata": {
    "execution": {
     "iopub.execute_input": "2020-12-14T16:29:36.322263Z",
     "iopub.status.busy": "2020-12-14T16:29:36.321170Z",
     "iopub.status.idle": "2020-12-14T16:29:38.229000Z",
     "shell.execute_reply": "2020-12-14T16:29:38.229590Z"
    },
    "papermill": {
     "duration": 2.031098,
     "end_time": "2020-12-14T16:29:38.229744",
     "exception": false,
     "start_time": "2020-12-14T16:29:36.198646",
     "status": "completed"
    },
    "tags": []
   },
   "outputs": [
    {
     "data": {
      "image/png": "[encoded data removed]",
      "text/plain": [
       "<Figure size 864x720 with 2 Axes>"
      ]
     },
     "metadata": {
      "needs_background": "light"
     },
     "output_type": "display_data"
    }
   ],
   "source": [
    "#Plot correlation coefficients\n",
    "plt.figure(figsize=(12,10))\n",
    "sns.heatmap(df_train.drop('Num of Profile Likes',axis=1).corr(), vmax=0.6, square=True, annot=True)\n",
    "plt.show()"
   ]
  },
  {
   "cell_type": "markdown",
   "metadata": {
    "papermill": {
     "duration": 0.121492,
     "end_time": "2020-12-14T16:29:38.473817",
     "exception": false,
     "start_time": "2020-12-14T16:29:38.352325",
     "status": "completed"
    },
    "tags": []
   },
   "source": [
    "Now that we have cleaned our data, let's see where we are at regarding outliers."
   ]
  },
  {
   "cell_type": "code",
   "execution_count": 70,
   "metadata": {
    "execution": {
     "iopub.execute_input": "2020-12-14T16:29:38.722194Z",
     "iopub.status.busy": "2020-12-14T16:29:38.721396Z",
     "iopub.status.idle": "2020-12-14T16:29:38.724302Z",
     "shell.execute_reply": "2020-12-14T16:29:38.724853Z"
    },
    "papermill": {
     "duration": 0.12978,
     "end_time": "2020-12-14T16:29:38.725043",
     "exception": false,
     "start_time": "2020-12-14T16:29:38.595263",
     "status": "completed"
    },
    "tags": []
   },
   "outputs": [],
   "source": [
    "first_batch = ['Num of Followers', 'Num of People Following', 'Num of Status Updates', 'Num of Direct Messages', 'Avg Daily Profile Visit Duration in seconds', 'Avg Daily Profile Clicks', 'Months Since Profile Creation']"
   ]
  },
  {
   "cell_type": "code",
   "execution_count": 71,
   "metadata": {
    "execution": {
     "iopub.execute_input": "2020-12-14T16:29:38.976950Z",
     "iopub.status.busy": "2020-12-14T16:29:38.974750Z",
     "iopub.status.idle": "2020-12-14T16:29:39.289849Z",
     "shell.execute_reply": "2020-12-14T16:29:39.289169Z"
    },
    "papermill": {
     "duration": 0.442913,
     "end_time": "2020-12-14T16:29:39.289983",
     "exception": false,
     "start_time": "2020-12-14T16:29:38.847070",
     "status": "completed"
    },
    "tags": []
   },
   "outputs": [
    {
     "data": {
      "image/png": "[encoded data removed]",
      "text/plain": [
       "<Figure size 1440x1080 with 1 Axes>"
      ]
     },
     "metadata": {
      "needs_background": "light"
     },
     "output_type": "display_data"
    }
   ],
   "source": [
    "plt.figure(figsize=(20,15))\n",
    "sns.boxplot(data=df_train[first_batch])\n",
    "plt.show()"
   ]
  },
  {
   "cell_type": "markdown",
   "metadata": {
    "papermill": {
     "duration": 0.125485,
     "end_time": "2020-12-14T16:29:39.539075",
     "exception": false,
     "start_time": "2020-12-14T16:29:39.413590",
     "status": "completed"
    },
    "tags": []
   },
   "source": [
    "We thus see that some features contain a high number of outliers. We need to deal with some of them. "
   ]
  },
  {
   "cell_type": "code",
   "execution_count": 72,
   "metadata": {
    "execution": {
     "iopub.execute_input": "2020-12-14T16:29:39.791771Z",
     "iopub.status.busy": "2020-12-14T16:29:39.790921Z",
     "iopub.status.idle": "2020-12-14T16:29:40.964030Z",
     "shell.execute_reply": "2020-12-14T16:29:40.963385Z"
    },
    "papermill": {
     "duration": 1.303035,
     "end_time": "2020-12-14T16:29:40.964154",
     "exception": false,
     "start_time": "2020-12-14T16:29:39.661119",
     "status": "completed"
    },
    "tags": []
   },
   "outputs": [
    {
     "name": "stdout",
     "output_type": "stream",
     "text": [
      "Num of Followers                               16.447241\n",
      "Num of People Following                        11.362380\n",
      "Num of Status Updates                          21.345917\n",
      "Num of Direct Messages                         80.305365\n",
      "Avg Daily Profile Visit Duration in seconds     0.028476\n",
      "Avg Daily Profile Clicks                        1.910883\n",
      "Months Since Profile Creation                  -1.026044\n",
      "dtype: float64\n"
     ]
    },
    {
     "data": {
      "image/png": "[encoded data removed]",
      "text/plain": [
       "<Figure size 1080x432 with 8 Axes>"
      ]
     },
     "metadata": {
      "needs_background": "light"
     },
     "output_type": "display_data"
    }
   ],
   "source": [
    "print(df_train[first_batch].skew())\n",
    "df_train[first_batch].hist(bins=15, figsize=(15, 6), layout=(2, 4))\n",
    "plt.show()"
   ]
  },
  {
   "cell_type": "code",
   "execution_count": 73,
   "metadata": {
    "execution": {
     "iopub.execute_input": "2020-12-14T16:29:41.223807Z",
     "iopub.status.busy": "2020-12-14T16:29:41.222685Z",
     "iopub.status.idle": "2020-12-14T16:29:42.523063Z",
     "shell.execute_reply": "2020-12-14T16:29:42.522434Z"
    },
    "papermill": {
     "duration": 1.434642,
     "end_time": "2020-12-14T16:29:42.523203",
     "exception": false,
     "start_time": "2020-12-14T16:29:41.088561",
     "status": "completed"
    },
    "tags": []
   },
   "outputs": [
    {
     "name": "stdout",
     "output_type": "stream",
     "text": [
      "Num of Followers                                7.598866\n",
      "Num of People Following                        12.858043\n",
      "Num of Status Updates                          20.070271\n",
      "Num of Direct Messages                          8.787477\n",
      "Avg Daily Profile Visit Duration in seconds     0.046791\n",
      "Avg Daily Profile Clicks                        1.805910\n",
      "Months Since Profile Creation                  -1.113439\n",
      "dtype: float64\n"
     ]
    },
    {
     "data": {
      "image/png": "[encoded data removed]",
      "text/plain": [
       "<Figure size 1080x432 with 8 Axes>"
      ]
     },
     "metadata": {
      "needs_background": "light"
     },
     "output_type": "display_data"
    }
   ],
   "source": [
    "print(df_test[first_batch].skew())\n",
    "df_test[first_batch].hist(bins=15, figsize=(15, 6), layout=(2, 4))\n",
    "plt.show()"
   ]
  },
  {
   "cell_type": "markdown",
   "metadata": {
    "papermill": {
     "duration": 0.125678,
     "end_time": "2020-12-14T16:29:42.774747",
     "exception": false,
     "start_time": "2020-12-14T16:29:42.649069",
     "status": "completed"
    },
    "tags": []
   },
   "source": [
    "We see that 'Avg Daily Profile Visit Duration in seconds' is more or less normally distributed. Same goes for 'Months since profile creation' We therefore do not need to do much about it. The other features are however heavily skewed and we will need to deal with them."
   ]
  },
  {
   "cell_type": "code",
   "execution_count": 74,
   "metadata": {
    "execution": {
     "iopub.execute_input": "2020-12-14T16:29:43.032530Z",
     "iopub.status.busy": "2020-12-14T16:29:43.031480Z",
     "iopub.status.idle": "2020-12-14T16:29:43.035090Z",
     "shell.execute_reply": "2020-12-14T16:29:43.034314Z"
    },
    "papermill": {
     "duration": 0.134803,
     "end_time": "2020-12-14T16:29:43.035254",
     "exception": false,
     "start_time": "2020-12-14T16:29:42.900451",
     "status": "completed"
    },
    "tags": []
   },
   "outputs": [],
   "source": [
    "first_batch.remove('Avg Daily Profile Visit Duration in seconds')\n",
    "first_batch.remove('Months Since Profile Creation')"
   ]
  },
  {
   "cell_type": "markdown",
   "metadata": {
    "papermill": {
     "duration": 0.128308,
     "end_time": "2020-12-14T16:29:43.291886",
     "exception": false,
     "start_time": "2020-12-14T16:29:43.163578",
     "status": "completed"
    },
    "tags": []
   },
   "source": [
    "Let's complete a log transform of our skewed variables to see if we can minimize the skewness."
   ]
  },
  {
   "cell_type": "code",
   "execution_count": 75,
   "metadata": {
    "execution": {
     "iopub.execute_input": "2020-12-14T16:29:43.554308Z",
     "iopub.status.busy": "2020-12-14T16:29:43.553535Z",
     "iopub.status.idle": "2020-12-14T16:29:43.563568Z",
     "shell.execute_reply": "2020-12-14T16:29:43.562784Z"
    },
    "papermill": {
     "duration": 0.1447,
     "end_time": "2020-12-14T16:29:43.563697",
     "exception": false,
     "start_time": "2020-12-14T16:29:43.418997",
     "status": "completed"
    },
    "tags": []
   },
   "outputs": [],
   "source": [
    "df_train[first_batch] = np.log1p(df_train[first_batch])\n",
    "df_test[first_batch] = np.log1p(df_test[first_batch])"
   ]
  },
  {
   "cell_type": "markdown",
   "metadata": {
    "papermill": {
     "duration": 0.126154,
     "end_time": "2020-12-14T16:29:43.818170",
     "exception": false,
     "start_time": "2020-12-14T16:29:43.692016",
     "status": "completed"
    },
    "tags": []
   },
   "source": [
    "TRAIN after log transform"
   ]
  },
  {
   "cell_type": "code",
   "execution_count": 76,
   "metadata": {
    "execution": {
     "iopub.execute_input": "2020-12-14T16:29:44.080061Z",
     "iopub.status.busy": "2020-12-14T16:29:44.079281Z",
     "iopub.status.idle": "2020-12-14T16:29:45.214616Z",
     "shell.execute_reply": "2020-12-14T16:29:45.213941Z"
    },
    "papermill": {
     "duration": 1.270078,
     "end_time": "2020-12-14T16:29:45.214745",
     "exception": false,
     "start_time": "2020-12-14T16:29:43.944667",
     "status": "completed"
    },
    "tags": []
   },
   "outputs": [
    {
     "name": "stdout",
     "output_type": "stream",
     "text": [
      "Num of Followers           -0.454220\n",
      "Num of People Following     0.196607\n",
      "Num of Status Updates      -0.251608\n",
      "Num of Direct Messages     -0.320481\n",
      "Avg Daily Profile Clicks    0.307729\n",
      "dtype: float64\n"
     ]
    },
    {
     "data": {
      "image/png": "[encoded data removed]",
      "text/plain": [
       "<Figure size 1080x432 with 8 Axes>"
      ]
     },
     "metadata": {
      "needs_background": "light"
     },
     "output_type": "display_data"
    }
   ],
   "source": [
    "print(df_train[first_batch].skew())\n",
    "df_train[first_batch].hist(bins=15, figsize=(15, 6), layout=(2, 4))\n",
    "plt.show()"
   ]
  },
  {
   "cell_type": "code",
   "execution_count": 77,
   "metadata": {
    "execution": {
     "iopub.execute_input": "2020-12-14T16:29:45.481885Z",
     "iopub.status.busy": "2020-12-14T16:29:45.480759Z",
     "iopub.status.idle": "2020-12-14T16:29:46.375688Z",
     "shell.execute_reply": "2020-12-14T16:29:46.375081Z"
    },
    "papermill": {
     "duration": 1.030954,
     "end_time": "2020-12-14T16:29:46.375818",
     "exception": false,
     "start_time": "2020-12-14T16:29:45.344864",
     "status": "completed"
    },
    "tags": []
   },
   "outputs": [
    {
     "name": "stdout",
     "output_type": "stream",
     "text": [
      "Num of Followers           -0.504948\n",
      "Num of People Following     0.150684\n",
      "Num of Status Updates      -0.436475\n",
      "Num of Direct Messages     -0.307674\n",
      "Avg Daily Profile Clicks    0.323591\n",
      "dtype: float64\n"
     ]
    },
    {
     "data": {
      "image/png": "[encoded data removed]",
      "text/plain": [
       "<Figure size 1080x432 with 8 Axes>"
      ]
     },
     "metadata": {
      "needs_background": "light"
     },
     "output_type": "display_data"
    }
   ],
   "source": [
    "print(df_test[first_batch].skew())\n",
    "df_test[first_batch].hist(bins=15, figsize=(15, 6), layout=(2, 4))\n",
    "plt.show()"
   ]
  },
  {
   "cell_type": "code",
   "execution_count": 78,
   "metadata": {
    "execution": {
     "iopub.execute_input": "2020-12-14T16:29:46.651772Z",
     "iopub.status.busy": "2020-12-14T16:29:46.644273Z",
     "iopub.status.idle": "2020-12-14T16:29:46.921218Z",
     "shell.execute_reply": "2020-12-14T16:29:46.920498Z"
    },
    "papermill": {
     "duration": 0.415276,
     "end_time": "2020-12-14T16:29:46.921359",
     "exception": false,
     "start_time": "2020-12-14T16:29:46.506083",
     "status": "completed"
    },
    "scrolled": true,
    "tags": []
   },
   "outputs": [
    {
     "data": {
      "image/png": "[encoded data removed]",
      "text/plain": [
       "<Figure size 1440x1080 with 1 Axes>"
      ]
     },
     "metadata": {
      "needs_background": "light"
     },
     "output_type": "display_data"
    }
   ],
   "source": [
    "plt.figure(figsize=(20,15))\n",
    "sns.boxplot(data=df_train[first_batch])\n",
    "plt.show()"
   ]
  },
  {
   "cell_type": "code",
   "execution_count": 79,
   "metadata": {
    "execution": {
     "iopub.execute_input": "2020-12-14T16:29:47.195591Z",
     "iopub.status.busy": "2020-12-14T16:29:47.194811Z",
     "iopub.status.idle": "2020-12-14T16:29:47.805380Z",
     "shell.execute_reply": "2020-12-14T16:29:47.804629Z"
    },
    "papermill": {
     "duration": 0.749794,
     "end_time": "2020-12-14T16:29:47.805553",
     "exception": false,
     "start_time": "2020-12-14T16:29:47.055759",
     "status": "completed"
    },
    "tags": []
   },
   "outputs": [],
   "source": [
    "df_train.to_csv(\"../data/preprocessed_train_data.csv\", index=False)\n",
    "df_test.to_csv(\"../data/preprocessed_test_data.csv\", index=False)"
   ]
  }
 ],
 "metadata": {
  "kernelspec": {
   "display_name": "Python 3",
   "language": "python",
   "name": "python3"
  },
  "language_info": {
   "codemirror_mode": {
    "name": "ipython",
    "version": 3
   },
   "file_extension": ".py",
   "mimetype": "text/x-python",
   "name": "python",
   "nbconvert_exporter": "python",
   "pygments_lexer": "ipython3",
   "version": "3.9.0"
  },
  "papermill": {
   "duration": 48.051182,
   "end_time": "2020-12-14T16:29:48.046554",
   "environment_variables": {},
   "exception": null,
   "input_path": "__notebook__.ipynb",
   "output_path": "__notebook__.ipynb",
   "parameters": {},
   "start_time": "2020-12-14T16:28:59.995372",
   "version": "2.1.0"
  }
 },
 "nbformat": 4,
 "nbformat_minor": 4
}