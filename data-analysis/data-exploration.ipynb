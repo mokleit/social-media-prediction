{
 "cells": [
  {
   "cell_type": "code",
   "execution_count": 1,
   "metadata": {
    "_cell_guid": "b1076dfc-b9ad-4769-8c92-a6c4dae69d19",
    "_uuid": "8f2839f25d086af736a60e9eeb907d3b93b6e0e5",
    "execution": {
     "iopub.execute_input": "2020-12-14T16:29:05.208776Z",
     "iopub.status.busy": "2020-12-14T16:29:05.207981Z",
     "iopub.status.idle": "2020-12-14T16:29:12.633945Z",
     "shell.execute_reply": "2020-12-14T16:29:12.633196Z"
    },
    "papermill": {
     "duration": 7.512092,
     "end_time": "2020-12-14T16:29:12.634085",
     "exception": false,
     "start_time": "2020-12-14T16:29:05.121993",
     "status": "completed"
    },
    "tags": []
   },
   "outputs": [
    {
     "ename": "ModuleNotFoundError",
     "evalue": "No module named 'tensorflow'",
     "output_type": "error",
     "traceback": [
      "\u001B[0;31m---------------------------------------------------------------------------\u001B[0m",
      "\u001B[0;31mModuleNotFoundError\u001B[0m                       Traceback (most recent call last)",
      "\u001B[0;32m<ipython-input-1-f715b82ebb68>\u001B[0m in \u001B[0;36m<module>\u001B[0;34m\u001B[0m\n\u001B[1;32m      1\u001B[0m \u001B[0;31m# Imports\u001B[0m\u001B[0;34m\u001B[0m\u001B[0;34m\u001B[0m\u001B[0;34m\u001B[0m\u001B[0m\n\u001B[1;32m      2\u001B[0m \u001B[0;32mimport\u001B[0m \u001B[0mos\u001B[0m\u001B[0;34m\u001B[0m\u001B[0;34m\u001B[0m\u001B[0m\n\u001B[0;32m----> 3\u001B[0;31m \u001B[0;32mimport\u001B[0m \u001B[0mtensorflow\u001B[0m \u001B[0;32mas\u001B[0m \u001B[0mtf\u001B[0m\u001B[0;34m\u001B[0m\u001B[0;34m\u001B[0m\u001B[0m\n\u001B[0m\u001B[1;32m      4\u001B[0m \u001B[0;32mimport\u001B[0m \u001B[0mnumpy\u001B[0m \u001B[0;32mas\u001B[0m \u001B[0mnp\u001B[0m\u001B[0;34m\u001B[0m\u001B[0;34m\u001B[0m\u001B[0m\n\u001B[1;32m      5\u001B[0m \u001B[0;32mimport\u001B[0m \u001B[0mrandom\u001B[0m\u001B[0;34m\u001B[0m\u001B[0;34m\u001B[0m\u001B[0m\n",
      "\u001B[0;31mModuleNotFoundError\u001B[0m: No module named 'tensorflow'"
     ]
    }
   ],
   "source": [
    "# Imports\n",
    "import os\n",
    "import tensorflow as tf\n",
    "import numpy as np\n",
    "import random\n",
    "import pandas as pd\n",
    "import matplotlib.pyplot as plt\n",
    "import seaborn as sns\n",
    "from sklearn.feature_selection import SelectKBest\n",
    "from sklearn.feature_selection import chi2\n",
    "from sklearn.impute import SimpleImputer\n",
    "from sklearn.preprocessing import MinMaxScaler\n",
    "%matplotlib inline"
   ]
  },
  {
   "cell_type": "code",
   "execution_count": null,
   "metadata": {
    "_cell_guid": "79c7e3d0-c299-4dcb-8224-4455121ee9b0",
    "_uuid": "d629ff2d2480ee46fbb7e2d37f6b5fab8052498a",
    "execution": {
     "iopub.execute_input": "2020-12-14T16:29:12.790722Z",
     "iopub.status.busy": "2020-12-14T16:29:12.789664Z",
     "iopub.status.idle": "2020-12-14T16:29:12.792870Z",
     "shell.execute_reply": "2020-12-14T16:29:12.792143Z"
    },
    "papermill": {
     "duration": 0.083729,
     "end_time": "2020-12-14T16:29:12.793000",
     "exception": false,
     "start_time": "2020-12-14T16:29:12.709271",
     "status": "completed"
    },
    "tags": []
   },
   "outputs": [],
   "source": [
    "# Set random seeds (for reproducibility requirement)\n",
    "os.environ['PYTHONHASHSEED']=str(1)\n",
    "tf.random.set_seed(1)\n",
    "np.random.seed(1)\n",
    "random.seed(1)"
   ]
  },
  {
   "cell_type": "code",
   "execution_count": null,
   "metadata": {
    "execution": {
     "iopub.execute_input": "2020-12-14T16:29:12.952200Z",
     "iopub.status.busy": "2020-12-14T16:29:12.951421Z",
     "iopub.status.idle": "2020-12-14T16:29:13.134196Z",
     "shell.execute_reply": "2020-12-14T16:29:13.133565Z"
    },
    "papermill": {
     "duration": 0.265875,
     "end_time": "2020-12-14T16:29:13.134322",
     "exception": false,
     "start_time": "2020-12-14T16:29:12.868447",
     "status": "completed"
    },
    "tags": []
   },
   "outputs": [],
   "source": [
    "df_train = pd.read_csv('/kaggle/input/ift6758-a20/train.csv')\n",
    "df_test = pd.read_csv('/kaggle/input/ift6758-a20/test.csv')\n",
    "df_train.head()"
   ]
  },
  {
   "cell_type": "markdown",
   "metadata": {
    "papermill": {
     "duration": 0.078725,
     "end_time": "2020-12-14T16:29:13.290503",
     "exception": false,
     "start_time": "2020-12-14T16:29:13.211778",
     "status": "completed"
    },
    "tags": []
   },
   "source": [
    "As seen in the matrix below, we see that all numerical features are only slightly correlated with our target variable, we can therefore keep them all for now."
   ]
  },
  {
   "cell_type": "code",
   "execution_count": null,
   "metadata": {
    "execution": {
     "iopub.execute_input": "2020-12-14T16:29:13.448865Z",
     "iopub.status.busy": "2020-12-14T16:29:13.448030Z",
     "iopub.status.idle": "2020-12-14T16:29:13.467217Z",
     "shell.execute_reply": "2020-12-14T16:29:13.467783Z"
    },
    "papermill": {
     "duration": 0.101394,
     "end_time": "2020-12-14T16:29:13.467944",
     "exception": false,
     "start_time": "2020-12-14T16:29:13.366550",
     "status": "completed"
    },
    "tags": []
   },
   "outputs": [],
   "source": [
    "#Check which features ar ehighly correlated with the target variable\n",
    "correlation_matrix = df_train.corr()[['Num of Profile Likes']].sort_values('Num of Profile Likes')\n",
    "correlation_matrix"
   ]
  },
  {
   "cell_type": "markdown",
   "metadata": {
    "papermill": {
     "duration": 0.076298,
     "end_time": "2020-12-14T16:29:13.621794",
     "exception": false,
     "start_time": "2020-12-14T16:29:13.545496",
     "status": "completed"
    },
    "tags": []
   },
   "source": [
    "Let's see the distribution of our target variable: Number of Profile Likes. Before that, let's make sure that there are no NaN values."
   ]
  },
  {
   "cell_type": "code",
   "execution_count": null,
   "metadata": {
    "execution": {
     "iopub.execute_input": "2020-12-14T16:29:13.782165Z",
     "iopub.status.busy": "2020-12-14T16:29:13.781310Z",
     "iopub.status.idle": "2020-12-14T16:29:13.785989Z",
     "shell.execute_reply": "2020-12-14T16:29:13.785235Z"
    },
    "papermill": {
     "duration": 0.08785,
     "end_time": "2020-12-14T16:29:13.786114",
     "exception": false,
     "start_time": "2020-12-14T16:29:13.698264",
     "status": "completed"
    },
    "tags": []
   },
   "outputs": [],
   "source": [
    "df_train['Num of Profile Likes'].isnull().sum()"
   ]
  },
  {
   "cell_type": "markdown",
   "metadata": {
    "papermill": {
     "duration": 0.077345,
     "end_time": "2020-12-14T16:29:13.941083",
     "exception": false,
     "start_time": "2020-12-14T16:29:13.863738",
     "status": "completed"
    },
    "tags": []
   },
   "source": [
    "There are no missing values for our target variables. Let's keep going."
   ]
  },
  {
   "cell_type": "code",
   "execution_count": null,
   "metadata": {
    "execution": {
     "iopub.execute_input": "2020-12-14T16:29:14.105315Z",
     "iopub.status.busy": "2020-12-14T16:29:14.104536Z",
     "iopub.status.idle": "2020-12-14T16:29:14.359123Z",
     "shell.execute_reply": "2020-12-14T16:29:14.358280Z"
    },
    "papermill": {
     "duration": 0.339214,
     "end_time": "2020-12-14T16:29:14.359267",
     "exception": false,
     "start_time": "2020-12-14T16:29:14.020053",
     "status": "completed"
    },
    "tags": []
   },
   "outputs": [],
   "source": [
    "sns.distplot(df_train['Num of Profile Likes'], bins=10, kde=True)\n",
    "plt.ylabel('Count')\n",
    "plt.title('Profile Likes Distribution')\n",
    "plt.show()"
   ]
  },
  {
   "cell_type": "markdown",
   "metadata": {
    "papermill": {
     "duration": 0.0787,
     "end_time": "2020-12-14T16:29:14.518716",
     "exception": false,
     "start_time": "2020-12-14T16:29:14.440016",
     "status": "completed"
    },
    "tags": []
   },
   "source": [
    "We can see that our target variable is heavily right skewed. This usually indicates that there are some outliers. Let's detect those outliers."
   ]
  },
  {
   "cell_type": "code",
   "execution_count": null,
   "metadata": {
    "execution": {
     "iopub.execute_input": "2020-12-14T16:29:14.694448Z",
     "iopub.status.busy": "2020-12-14T16:29:14.690701Z",
     "iopub.status.idle": "2020-12-14T16:29:14.815218Z",
     "shell.execute_reply": "2020-12-14T16:29:14.814632Z"
    },
    "papermill": {
     "duration": 0.217903,
     "end_time": "2020-12-14T16:29:14.815369",
     "exception": false,
     "start_time": "2020-12-14T16:29:14.597466",
     "status": "completed"
    },
    "tags": []
   },
   "outputs": [],
   "source": [
    "#Print a boxplot for our target variable\n",
    "plt.figure(figsize=(10,5))\n",
    "sns.boxplot(x=df_train['Num of Profile Likes'])\n",
    "plt.show()"
   ]
  },
  {
   "cell_type": "markdown",
   "metadata": {
    "papermill": {
     "duration": 0.078834,
     "end_time": "2020-12-14T16:29:14.973560",
     "exception": false,
     "start_time": "2020-12-14T16:29:14.894726",
     "status": "completed"
    },
    "tags": []
   },
   "source": [
    "Let's understand our features a bit more with respect to the target variable"
   ]
  },
  {
   "cell_type": "code",
   "execution_count": null,
   "metadata": {
    "execution": {
     "iopub.execute_input": "2020-12-14T16:29:15.150134Z",
     "iopub.status.busy": "2020-12-14T16:29:15.142896Z",
     "iopub.status.idle": "2020-12-14T16:29:15.913980Z",
     "shell.execute_reply": "2020-12-14T16:29:15.913214Z"
    },
    "papermill": {
     "duration": 0.860173,
     "end_time": "2020-12-14T16:29:15.914114",
     "exception": false,
     "start_time": "2020-12-14T16:29:15.053941",
     "status": "completed"
    },
    "tags": []
   },
   "outputs": [],
   "source": [
    "fig, (ax1,ax2,ax3,ax4) = plt.subplots(1,4, figsize=(30,5))\n",
    "sns.scatterplot(x='Num of Followers', y='Num of Profile Likes', data=df_train, ax=ax1)\n",
    "sns.scatterplot(x='Num of Direct Messages', y='Num of Profile Likes', data=df_train, ax=ax2)\n",
    "sns.scatterplot(x='Avg Daily Profile Visit Duration in seconds', y='Num of Profile Likes', data=df_train, ax=ax3)\n",
    "sns.scatterplot(x='Avg Daily Profile Clicks', y='Num of Profile Likes', data=df_train, ax=ax4)\n",
    "plt.show()"
   ]
  },
  {
   "cell_type": "code",
   "execution_count": null,
   "metadata": {
    "execution": {
     "iopub.execute_input": "2020-12-14T16:29:16.093308Z",
     "iopub.status.busy": "2020-12-14T16:29:16.087223Z",
     "iopub.status.idle": "2020-12-14T16:29:16.649809Z",
     "shell.execute_reply": "2020-12-14T16:29:16.650447Z"
    },
    "papermill": {
     "duration": 0.654879,
     "end_time": "2020-12-14T16:29:16.650608",
     "exception": false,
     "start_time": "2020-12-14T16:29:15.995729",
     "status": "completed"
    },
    "tags": []
   },
   "outputs": [],
   "source": [
    "fig, (ax1,ax2,ax3) = plt.subplots(1,3, figsize=(30,5))\n",
    "sns.scatterplot(x='Num of People Following', y='Num of Profile Likes', data=df_train, ax=ax1)\n",
    "sns.scatterplot(x='UTC Offset', y='Num of Profile Likes', data=df_train, ax=ax2)\n",
    "sns.scatterplot(x='Num of Status Updates', y='Num of Profile Likes', data=df_train, ax=ax3)\n",
    "plt.show()"
   ]
  },
  {
   "cell_type": "markdown",
   "metadata": {
    "papermill": {
     "duration": 0.08259,
     "end_time": "2020-12-14T16:29:16.822412",
     "exception": false,
     "start_time": "2020-12-14T16:29:16.739822",
     "status": "completed"
    },
    "tags": []
   },
   "source": [
    "Looking at the scatter plot above, it seems like there is no obvious relationship between the features and the target variables. However, we notice that the values of our target variables are condensed below 200000 likes. We can thus use that as a threshold for the outliers. We also notice that we can remove some outliers regarding the other features."
   ]
  },
  {
   "cell_type": "code",
   "execution_count": null,
   "metadata": {
    "execution": {
     "iopub.execute_input": "2020-12-14T16:29:16.996599Z",
     "iopub.status.busy": "2020-12-14T16:29:16.995769Z",
     "iopub.status.idle": "2020-12-14T16:29:17.007008Z",
     "shell.execute_reply": "2020-12-14T16:29:17.006238Z"
    },
    "papermill": {
     "duration": 0.101606,
     "end_time": "2020-12-14T16:29:17.007140",
     "exception": false,
     "start_time": "2020-12-14T16:29:16.905534",
     "status": "completed"
    },
    "tags": []
   },
   "outputs": [],
   "source": [
    "df_train = df_train.drop(df_train[df_train['Num of Profile Likes']>200000].index)\n",
    "df_train = df_train.drop(df_train[df_train['Num of Profile Likes']<1].index)"
   ]
  },
  {
   "cell_type": "markdown",
   "metadata": {
    "papermill": {
     "duration": 0.083859,
     "end_time": "2020-12-14T16:29:17.176914",
     "exception": false,
     "start_time": "2020-12-14T16:29:17.093055",
     "status": "completed"
    },
    "tags": []
   },
   "source": [
    "Let's see how many observations we have left."
   ]
  },
  {
   "cell_type": "code",
   "execution_count": null,
   "metadata": {
    "execution": {
     "iopub.execute_input": "2020-12-14T16:29:17.350758Z",
     "iopub.status.busy": "2020-12-14T16:29:17.349883Z",
     "iopub.status.idle": "2020-12-14T16:29:17.354503Z",
     "shell.execute_reply": "2020-12-14T16:29:17.355062Z"
    },
    "papermill": {
     "duration": 0.093924,
     "end_time": "2020-12-14T16:29:17.355219",
     "exception": false,
     "start_time": "2020-12-14T16:29:17.261295",
     "status": "completed"
    },
    "tags": []
   },
   "outputs": [],
   "source": [
    "df_train.shape[0]"
   ]
  },
  {
   "cell_type": "code",
   "execution_count": null,
   "metadata": {
    "execution": {
     "iopub.execute_input": "2020-12-14T16:29:17.534984Z",
     "iopub.status.busy": "2020-12-14T16:29:17.529209Z",
     "iopub.status.idle": "2020-12-14T16:29:17.671939Z",
     "shell.execute_reply": "2020-12-14T16:29:17.671196Z"
    },
    "papermill": {
     "duration": 0.23293,
     "end_time": "2020-12-14T16:29:17.672080",
     "exception": false,
     "start_time": "2020-12-14T16:29:17.439150",
     "status": "completed"
    },
    "tags": []
   },
   "outputs": [],
   "source": [
    "#Print a boxplot for our target variable\n",
    "plt.figure(figsize=(10,5))\n",
    "sns.boxplot(x=df_train['Num of Profile Likes'])\n",
    "plt.show()"
   ]
  },
  {
   "cell_type": "code",
   "execution_count": null,
   "metadata": {
    "execution": {
     "iopub.execute_input": "2020-12-14T16:29:17.850486Z",
     "iopub.status.busy": "2020-12-14T16:29:17.849705Z",
     "iopub.status.idle": "2020-12-14T16:29:18.060051Z",
     "shell.execute_reply": "2020-12-14T16:29:18.059351Z"
    },
    "papermill": {
     "duration": 0.302662,
     "end_time": "2020-12-14T16:29:18.060180",
     "exception": false,
     "start_time": "2020-12-14T16:29:17.757518",
     "status": "completed"
    },
    "tags": []
   },
   "outputs": [],
   "source": [
    "sns.distplot(df_train['Num of Profile Likes'], bins=10, kde=True)\n",
    "plt.ylabel('Count')\n",
    "plt.title('Profile Likes Distribution')\n",
    "plt.show()"
   ]
  },
  {
   "cell_type": "markdown",
   "metadata": {
    "papermill": {
     "duration": 0.086005,
     "end_time": "2020-12-14T16:29:18.233958",
     "exception": false,
     "start_time": "2020-12-14T16:29:18.147953",
     "status": "completed"
    },
    "tags": []
   },
   "source": [
    "Our distribution already looks better. However, it is still heavily skewed to the right. Let's apply log transformation to reduce skewness of the data. "
   ]
  },
  {
   "cell_type": "code",
   "execution_count": null,
   "metadata": {
    "execution": {
     "iopub.execute_input": "2020-12-14T16:29:18.413672Z",
     "iopub.status.busy": "2020-12-14T16:29:18.412837Z",
     "iopub.status.idle": "2020-12-14T16:29:18.417060Z",
     "shell.execute_reply": "2020-12-14T16:29:18.417637Z"
    },
    "papermill": {
     "duration": 0.095751,
     "end_time": "2020-12-14T16:29:18.417802",
     "exception": false,
     "start_time": "2020-12-14T16:29:18.322051",
     "status": "completed"
    },
    "tags": []
   },
   "outputs": [],
   "source": [
    "#Log transform the target variable\n",
    "df_train['Num of Profile Likes'] = np.log1p(df_train['Num of Profile Likes'])"
   ]
  },
  {
   "cell_type": "code",
   "execution_count": null,
   "metadata": {
    "execution": {
     "iopub.execute_input": "2020-12-14T16:29:18.642878Z",
     "iopub.status.busy": "2020-12-14T16:29:18.636973Z",
     "iopub.status.idle": "2020-12-14T16:29:18.889430Z",
     "shell.execute_reply": "2020-12-14T16:29:18.888590Z"
    },
    "papermill": {
     "duration": 0.350391,
     "end_time": "2020-12-14T16:29:18.889565",
     "exception": false,
     "start_time": "2020-12-14T16:29:18.539174",
     "status": "completed"
    },
    "tags": []
   },
   "outputs": [],
   "source": [
    "sns.distplot(df_train['Num of Profile Likes'], bins=30, kde=True)\n",
    "plt.ylabel('Count')\n",
    "plt.title('Profile Likes Distribution')\n",
    "plt.show()"
   ]
  },
  {
   "cell_type": "code",
   "execution_count": null,
   "metadata": {
    "execution": {
     "iopub.execute_input": "2020-12-14T16:29:19.081562Z",
     "iopub.status.busy": "2020-12-14T16:29:19.078739Z",
     "iopub.status.idle": "2020-12-14T16:29:19.201151Z",
     "shell.execute_reply": "2020-12-14T16:29:19.201733Z"
    },
    "papermill": {
     "duration": 0.224582,
     "end_time": "2020-12-14T16:29:19.201897",
     "exception": false,
     "start_time": "2020-12-14T16:29:18.977315",
     "status": "completed"
    },
    "tags": []
   },
   "outputs": [],
   "source": [
    "#Print a boxplot for our target variable after log transforming\n",
    "plt.figure(figsize=(10,5))\n",
    "sns.boxplot(x=df_train['Num of Profile Likes'])\n",
    "plt.show()"
   ]
  },
  {
   "cell_type": "markdown",
   "metadata": {
    "papermill": {
     "duration": 0.088301,
     "end_time": "2020-12-14T16:29:19.379491",
     "exception": false,
     "start_time": "2020-12-14T16:29:19.291190",
     "status": "completed"
    },
    "tags": []
   },
   "source": [
    "Let's now look at our independent variables (features)."
   ]
  },
  {
   "cell_type": "code",
   "execution_count": null,
   "metadata": {
    "execution": {
     "iopub.execute_input": "2020-12-14T16:29:19.581565Z",
     "iopub.status.busy": "2020-12-14T16:29:19.580492Z",
     "iopub.status.idle": "2020-12-14T16:29:19.588384Z",
     "shell.execute_reply": "2020-12-14T16:29:19.587777Z"
    },
    "papermill": {
     "duration": 0.120509,
     "end_time": "2020-12-14T16:29:19.588524",
     "exception": false,
     "start_time": "2020-12-14T16:29:19.468015",
     "status": "completed"
    },
    "tags": []
   },
   "outputs": [],
   "source": [
    "df_train.isnull().sum()"
   ]
  },
  {
   "cell_type": "markdown",
   "metadata": {
    "papermill": {
     "duration": 0.088311,
     "end_time": "2020-12-14T16:29:19.765803",
     "exception": false,
     "start_time": "2020-12-14T16:29:19.677492",
     "status": "completed"
    },
    "tags": []
   },
   "source": [
    "For columns that contain a lot of NaN values, we will replace their values by 1 when present and 0 otherwise."
   ]
  },
  {
   "cell_type": "code",
   "execution_count": null,
   "metadata": {
    "execution": {
     "iopub.execute_input": "2020-12-14T16:29:19.959307Z",
     "iopub.status.busy": "2020-12-14T16:29:19.957465Z",
     "iopub.status.idle": "2020-12-14T16:29:19.963600Z",
     "shell.execute_reply": "2020-12-14T16:29:19.962987Z"
    },
    "papermill": {
     "duration": 0.109345,
     "end_time": "2020-12-14T16:29:19.963735",
     "exception": false,
     "start_time": "2020-12-14T16:29:19.854390",
     "status": "completed"
    },
    "tags": []
   },
   "outputs": [],
   "source": [
    "df_train['Personal URL'] = df_train['Personal URL'].notnull().astype(int)\n",
    "df_train['Location'] = df_train['Location'].notnull().astype(int)\n",
    "df_test['Personal URL'] = df_test['Personal URL'].notnull().astype(int)\n",
    "df_test['Location'] = df_test['Location'].notnull().astype(int)"
   ]
  },
  {
   "cell_type": "code",
   "execution_count": null,
   "metadata": {
    "execution": {
     "iopub.execute_input": "2020-12-14T16:29:20.162731Z",
     "iopub.status.busy": "2020-12-14T16:29:20.161890Z",
     "iopub.status.idle": "2020-12-14T16:29:20.170429Z",
     "shell.execute_reply": "2020-12-14T16:29:20.169690Z"
    },
    "papermill": {
     "duration": 0.116665,
     "end_time": "2020-12-14T16:29:20.170594",
     "exception": false,
     "start_time": "2020-12-14T16:29:20.053929",
     "status": "completed"
    },
    "tags": []
   },
   "outputs": [],
   "source": [
    "df_train.isnull().sum()"
   ]
  },
  {
   "cell_type": "code",
   "execution_count": null,
   "metadata": {
    "execution": {
     "iopub.execute_input": "2020-12-14T16:29:20.362111Z",
     "iopub.status.busy": "2020-12-14T16:29:20.361301Z",
     "iopub.status.idle": "2020-12-14T16:29:20.380630Z",
     "shell.execute_reply": "2020-12-14T16:29:20.379981Z"
    },
    "papermill": {
     "duration": 0.119277,
     "end_time": "2020-12-14T16:29:20.380770",
     "exception": false,
     "start_time": "2020-12-14T16:29:20.261493",
     "status": "completed"
    },
    "tags": []
   },
   "outputs": [],
   "source": [
    "#Turn column Profile Cover Image Status into binary variable.\n",
    "def update_profile_image_status(X):\n",
    "    X.loc[X['Profile Cover Image Status'] == \"Set\", 'Profile Cover Image Status'] = 1\n",
    "    X.loc[X['Profile Cover Image Status'] == \"Not set\", 'Profile Cover Image Status'] = 0\n",
    "    X['Profile Cover Image Status'] = X['Profile Cover Image Status'].fillna(0)\n",
    "    return X\n",
    "\n",
    "df_train = update_profile_image_status(df_train)\n",
    "df_test = update_profile_image_status(df_test)"
   ]
  },
  {
   "cell_type": "markdown",
   "metadata": {
    "papermill": {
     "duration": 0.111361,
     "end_time": "2020-12-14T16:29:20.582428",
     "exception": false,
     "start_time": "2020-12-14T16:29:20.471067",
     "status": "completed"
    },
    "tags": []
   },
   "source": [
    "For non numerical features, let's see how many unique values they each contain."
   ]
  },
  {
   "cell_type": "code",
   "execution_count": null,
   "metadata": {
    "execution": {
     "iopub.execute_input": "2020-12-14T16:29:20.782352Z",
     "iopub.status.busy": "2020-12-14T16:29:20.781262Z",
     "iopub.status.idle": "2020-12-14T16:29:20.800471Z",
     "shell.execute_reply": "2020-12-14T16:29:20.801050Z"
    },
    "papermill": {
     "duration": 0.122279,
     "end_time": "2020-12-14T16:29:20.801214",
     "exception": false,
     "start_time": "2020-12-14T16:29:20.678935",
     "status": "completed"
    },
    "tags": []
   },
   "outputs": [],
   "source": [
    "print(\"Number of unique values for Profile Text Color\", df_train['Profile Text Color'].value_counts().nunique())\n",
    "print(\"Number of unique values for Profile Page Color\", df_train['Profile Page Color'].value_counts().nunique())\n",
    "print(\"Number of unique values for Profile Theme Color\", df_train['Profile Theme Color'].value_counts().nunique())\n",
    "print(\"Number of unique values for UTC Offset\", df_train['UTC Offset'].value_counts().nunique())\n",
    "print(\"Number of unique values for User Time Zone\", df_train['User Time Zone'].value_counts().nunique())"
   ]
  },
  {
   "cell_type": "markdown",
   "metadata": {
    "papermill": {
     "duration": 0.090167,
     "end_time": "2020-12-14T16:29:20.981799",
     "exception": false,
     "start_time": "2020-12-14T16:29:20.891632",
     "status": "completed"
    },
    "tags": []
   },
   "source": [
    "Considering we have a lot of different unique values in each of the features above, we can use frequency encoding for these variables. However, they also contain some NaN values that we will need to fill the missing values. We will fill in the missing values with the most frequent elements. "
   ]
  },
  {
   "cell_type": "code",
   "execution_count": null,
   "metadata": {
    "execution": {
     "iopub.execute_input": "2020-12-14T16:29:21.180366Z",
     "iopub.status.busy": "2020-12-14T16:29:21.179574Z",
     "iopub.status.idle": "2020-12-14T16:29:21.215621Z",
     "shell.execute_reply": "2020-12-14T16:29:21.214799Z"
    },
    "papermill": {
     "duration": 0.135144,
     "end_time": "2020-12-14T16:29:21.215750",
     "exception": false,
     "start_time": "2020-12-14T16:29:21.080606",
     "status": "completed"
    },
    "tags": []
   },
   "outputs": [],
   "source": [
    "categorical_features_to_impute = ['Profile Text Color', 'Profile Page Color', 'Profile Theme Color', 'UTC Offset', 'User Time Zone']\n",
    "df_train[categorical_features_to_impute] = df_train[categorical_features_to_impute].fillna(df_train[categorical_features_to_impute].mode().iloc[0])\n",
    "df_test[categorical_features_to_impute] = df_test[categorical_features_to_impute].fillna(df_test[categorical_features_to_impute].mode().iloc[0])"
   ]
  },
  {
   "cell_type": "code",
   "execution_count": null,
   "metadata": {
    "execution": {
     "iopub.execute_input": "2020-12-14T16:29:21.413236Z",
     "iopub.status.busy": "2020-12-14T16:29:21.402748Z",
     "iopub.status.idle": "2020-12-14T16:29:21.420962Z",
     "shell.execute_reply": "2020-12-14T16:29:21.420251Z"
    },
    "papermill": {
     "duration": 0.113837,
     "end_time": "2020-12-14T16:29:21.421095",
     "exception": false,
     "start_time": "2020-12-14T16:29:21.307258",
     "status": "completed"
    },
    "tags": []
   },
   "outputs": [],
   "source": [
    "df_train.isnull().sum()"
   ]
  },
  {
   "cell_type": "markdown",
   "metadata": {
    "papermill": {
     "duration": 0.092786,
     "end_time": "2020-12-14T16:29:21.615808",
     "exception": false,
     "start_time": "2020-12-14T16:29:21.523022",
     "status": "completed"
    },
    "tags": []
   },
   "source": [
    "Now that we have replaced NaNs with the most frequent element in each column. We will encode those categorical variables with their frequencies."
   ]
  },
  {
   "cell_type": "code",
   "execution_count": null,
   "metadata": {
    "execution": {
     "iopub.execute_input": "2020-12-14T16:29:21.807301Z",
     "iopub.status.busy": "2020-12-14T16:29:21.806166Z",
     "iopub.status.idle": "2020-12-14T16:29:21.809687Z",
     "shell.execute_reply": "2020-12-14T16:29:21.809078Z"
    },
    "papermill": {
     "duration": 0.102272,
     "end_time": "2020-12-14T16:29:21.809822",
     "exception": false,
     "start_time": "2020-12-14T16:29:21.707550",
     "status": "completed"
    },
    "tags": []
   },
   "outputs": [],
   "source": [
    "#Define function for frequency encoding\n",
    "def encode_frequency_feature(X, feature):\n",
    "    encode = X.groupby(feature).size() / len(X)\n",
    "    X[feature] = X[feature].apply(lambda x: encode[x])\n",
    "    return X"
   ]
  },
  {
   "cell_type": "code",
   "execution_count": null,
   "metadata": {
    "execution": {
     "iopub.execute_input": "2020-12-14T16:29:21.999495Z",
     "iopub.status.busy": "2020-12-14T16:29:21.998718Z",
     "iopub.status.idle": "2020-12-14T16:29:22.441153Z",
     "shell.execute_reply": "2020-12-14T16:29:22.440390Z"
    },
    "papermill": {
     "duration": 0.540178,
     "end_time": "2020-12-14T16:29:22.441286",
     "exception": false,
     "start_time": "2020-12-14T16:29:21.901108",
     "status": "completed"
    },
    "tags": []
   },
   "outputs": [],
   "source": [
    "categorical_features_to_encode = categorical_features_to_impute\n",
    "for idx,feature in enumerate(categorical_features_to_encode):\n",
    "    df_train = encode_frequency_feature(df_train, feature)\n",
    "    df_test = encode_frequency_feature(df_test, feature)"
   ]
  },
  {
   "cell_type": "markdown",
   "metadata": {
    "papermill": {
     "duration": 0.091981,
     "end_time": "2020-12-14T16:29:22.627378",
     "exception": false,
     "start_time": "2020-12-14T16:29:22.535397",
     "status": "completed"
    },
    "tags": []
   },
   "source": [
    "We have encoded our categorical features using their frequency."
   ]
  },
  {
   "cell_type": "code",
   "execution_count": null,
   "metadata": {
    "execution": {
     "iopub.execute_input": "2020-12-14T16:29:22.818919Z",
     "iopub.status.busy": "2020-12-14T16:29:22.818027Z",
     "iopub.status.idle": "2020-12-14T16:29:22.838267Z",
     "shell.execute_reply": "2020-12-14T16:29:22.837617Z"
    },
    "papermill": {
     "duration": 0.119479,
     "end_time": "2020-12-14T16:29:22.838427",
     "exception": false,
     "start_time": "2020-12-14T16:29:22.718948",
     "status": "completed"
    },
    "tags": []
   },
   "outputs": [],
   "source": [
    "df_train[categorical_features_to_encode]"
   ]
  },
  {
   "cell_type": "markdown",
   "metadata": {
    "papermill": {
     "duration": 0.094274,
     "end_time": "2020-12-14T16:29:23.026365",
     "exception": false,
     "start_time": "2020-12-14T16:29:22.932091",
     "status": "completed"
    },
    "tags": []
   },
   "source": [
    "Let's see what is left for us to do."
   ]
  },
  {
   "cell_type": "code",
   "execution_count": null,
   "metadata": {
    "execution": {
     "iopub.execute_input": "2020-12-14T16:29:23.230728Z",
     "iopub.status.busy": "2020-12-14T16:29:23.229827Z",
     "iopub.status.idle": "2020-12-14T16:29:23.237309Z",
     "shell.execute_reply": "2020-12-14T16:29:23.236679Z"
    },
    "papermill": {
     "duration": 0.112563,
     "end_time": "2020-12-14T16:29:23.237461",
     "exception": false,
     "start_time": "2020-12-14T16:29:23.124898",
     "status": "completed"
    },
    "tags": []
   },
   "outputs": [],
   "source": [
    "df_train.isnull().sum()"
   ]
  },
  {
   "cell_type": "markdown",
   "metadata": {
    "papermill": {
     "duration": 0.093268,
     "end_time": "2020-12-14T16:29:23.424443",
     "exception": false,
     "start_time": "2020-12-14T16:29:23.331175",
     "status": "completed"
    },
    "tags": []
   },
   "source": [
    "We have some numerical features that contain NaNs. We could either fill those NaNs with the mean of the column or the median. In order to determine which is more appropriate, let's see if there are outliers for eahc column using boxplots."
   ]
  },
  {
   "cell_type": "code",
   "execution_count": null,
   "metadata": {
    "execution": {
     "iopub.execute_input": "2020-12-14T16:29:23.634798Z",
     "iopub.status.busy": "2020-12-14T16:29:23.633989Z",
     "iopub.status.idle": "2020-12-14T16:29:23.782381Z",
     "shell.execute_reply": "2020-12-14T16:29:23.781655Z"
    },
    "papermill": {
     "duration": 0.257226,
     "end_time": "2020-12-14T16:29:23.782508",
     "exception": false,
     "start_time": "2020-12-14T16:29:23.525282",
     "status": "completed"
    },
    "tags": []
   },
   "outputs": [],
   "source": [
    "sns.boxplot(x='variable', y='value', data=pd.melt(df_train[['Avg Daily Profile Visit Duration in seconds', 'Avg Daily Profile Clicks']]))\n",
    "plt.show()"
   ]
  },
  {
   "cell_type": "markdown",
   "metadata": {
    "papermill": {
     "duration": 0.095362,
     "end_time": "2020-12-14T16:29:23.976491",
     "exception": false,
     "start_time": "2020-12-14T16:29:23.881129",
     "status": "completed"
    },
    "tags": []
   },
   "source": [
    "We notice that the 'Avg Daily Profile Visit Duration in seconds' variable does not present any outliers. We can thus replace the missing values with the mean of the column."
   ]
  },
  {
   "cell_type": "code",
   "execution_count": null,
   "metadata": {
    "execution": {
     "iopub.execute_input": "2020-12-14T16:29:24.176107Z",
     "iopub.status.busy": "2020-12-14T16:29:24.175247Z",
     "iopub.status.idle": "2020-12-14T16:29:24.180363Z",
     "shell.execute_reply": "2020-12-14T16:29:24.181025Z"
    },
    "papermill": {
     "duration": 0.108734,
     "end_time": "2020-12-14T16:29:24.181238",
     "exception": false,
     "start_time": "2020-12-14T16:29:24.072504",
     "status": "completed"
    },
    "tags": []
   },
   "outputs": [],
   "source": [
    "mean_imputer = SimpleImputer(missing_values=np.nan, strategy='mean')\n",
    "column_to_impute = np.array(df_train['Avg Daily Profile Visit Duration in seconds']).reshape(-1,1)\n",
    "mean_imputer.fit(column_to_impute)\n",
    "df_train['Avg Daily Profile Visit Duration in seconds'] = mean_imputer.transform(column_to_impute)"
   ]
  },
  {
   "cell_type": "code",
   "execution_count": null,
   "metadata": {
    "execution": {
     "iopub.execute_input": "2020-12-14T16:29:24.378948Z",
     "iopub.status.busy": "2020-12-14T16:29:24.377934Z",
     "iopub.status.idle": "2020-12-14T16:29:24.382710Z",
     "shell.execute_reply": "2020-12-14T16:29:24.381939Z"
    },
    "papermill": {
     "duration": 0.106277,
     "end_time": "2020-12-14T16:29:24.382843",
     "exception": false,
     "start_time": "2020-12-14T16:29:24.276566",
     "status": "completed"
    },
    "tags": []
   },
   "outputs": [],
   "source": [
    "test_column_to_impute = np.array(df_test['Avg Daily Profile Visit Duration in seconds']).reshape(-1,1)\n",
    "mean_imputer.fit(test_column_to_impute)\n",
    "df_test['Avg Daily Profile Visit Duration in seconds'] = mean_imputer.transform(test_column_to_impute)"
   ]
  },
  {
   "cell_type": "markdown",
   "metadata": {
    "papermill": {
     "duration": 0.096808,
     "end_time": "2020-12-14T16:29:24.575063",
     "exception": false,
     "start_time": "2020-12-14T16:29:24.478255",
     "status": "completed"
    },
    "tags": []
   },
   "source": [
    "We don't have any missing values anymore for'Avg Daily Profile Visit Duration in seconds' feature."
   ]
  },
  {
   "cell_type": "code",
   "execution_count": null,
   "metadata": {
    "execution": {
     "iopub.execute_input": "2020-12-14T16:29:24.770919Z",
     "iopub.status.busy": "2020-12-14T16:29:24.769837Z",
     "iopub.status.idle": "2020-12-14T16:29:24.774309Z",
     "shell.execute_reply": "2020-12-14T16:29:24.773742Z"
    },
    "papermill": {
     "duration": 0.105044,
     "end_time": "2020-12-14T16:29:24.774496",
     "exception": false,
     "start_time": "2020-12-14T16:29:24.669452",
     "status": "completed"
    },
    "tags": []
   },
   "outputs": [],
   "source": [
    "df_train['Avg Daily Profile Visit Duration in seconds'].isnull().sum()"
   ]
  },
  {
   "cell_type": "markdown",
   "metadata": {
    "papermill": {
     "duration": 0.09551,
     "end_time": "2020-12-14T16:29:24.967451",
     "exception": false,
     "start_time": "2020-12-14T16:29:24.871941",
     "status": "completed"
    },
    "tags": []
   },
   "source": [
    "Now, what to do with feature 'Avg Daily Profile Clicks' which has many outliers? Since there are many of them, we can impute missing values with the median since the mean is very sensitive to outliers."
   ]
  },
  {
   "cell_type": "code",
   "execution_count": null,
   "metadata": {
    "execution": {
     "iopub.execute_input": "2020-12-14T16:29:25.169536Z",
     "iopub.status.busy": "2020-12-14T16:29:25.168375Z",
     "iopub.status.idle": "2020-12-14T16:29:25.174044Z",
     "shell.execute_reply": "2020-12-14T16:29:25.173290Z"
    },
    "papermill": {
     "duration": 0.111501,
     "end_time": "2020-12-14T16:29:25.174167",
     "exception": false,
     "start_time": "2020-12-14T16:29:25.062666",
     "status": "completed"
    },
    "tags": []
   },
   "outputs": [],
   "source": [
    "median_imputer = SimpleImputer(missing_values=np.nan, strategy='median')\n",
    "column_to_impute = np.array(df_train['Avg Daily Profile Clicks']).reshape(-1,1)\n",
    "median_imputer = median_imputer.fit(column_to_impute)\n",
    "df_train['Avg Daily Profile Clicks'] = median_imputer.transform(column_to_impute)"
   ]
  },
  {
   "cell_type": "code",
   "execution_count": null,
   "metadata": {
    "execution": {
     "iopub.execute_input": "2020-12-14T16:29:25.373508Z",
     "iopub.status.busy": "2020-12-14T16:29:25.372756Z",
     "iopub.status.idle": "2020-12-14T16:29:25.377120Z",
     "shell.execute_reply": "2020-12-14T16:29:25.377679Z"
    },
    "papermill": {
     "duration": 0.107119,
     "end_time": "2020-12-14T16:29:25.377841",
     "exception": false,
     "start_time": "2020-12-14T16:29:25.270722",
     "status": "completed"
    },
    "tags": []
   },
   "outputs": [],
   "source": [
    "test_column_to_impute = np.array(df_test['Avg Daily Profile Clicks']).reshape(-1,1)\n",
    "median_imputer = median_imputer.fit(test_column_to_impute)\n",
    "df_test['Avg Daily Profile Clicks'] = median_imputer.transform(test_column_to_impute)"
   ]
  },
  {
   "cell_type": "code",
   "execution_count": null,
   "metadata": {
    "execution": {
     "iopub.execute_input": "2020-12-14T16:29:25.590697Z",
     "iopub.status.busy": "2020-12-14T16:29:25.589752Z",
     "iopub.status.idle": "2020-12-14T16:29:25.594644Z",
     "shell.execute_reply": "2020-12-14T16:29:25.593875Z"
    },
    "papermill": {
     "duration": 0.12039,
     "end_time": "2020-12-14T16:29:25.594773",
     "exception": false,
     "start_time": "2020-12-14T16:29:25.474383",
     "status": "completed"
    },
    "tags": []
   },
   "outputs": [],
   "source": [
    "df_train['Avg Daily Profile Clicks'].isnull().sum()"
   ]
  },
  {
   "cell_type": "code",
   "execution_count": null,
   "metadata": {
    "execution": {
     "iopub.execute_input": "2020-12-14T16:29:25.800692Z",
     "iopub.status.busy": "2020-12-14T16:29:25.799919Z",
     "iopub.status.idle": "2020-12-14T16:29:25.816170Z",
     "shell.execute_reply": "2020-12-14T16:29:25.815270Z"
    },
    "papermill": {
     "duration": 0.125446,
     "end_time": "2020-12-14T16:29:25.816321",
     "exception": false,
     "start_time": "2020-12-14T16:29:25.690875",
     "status": "completed"
    },
    "tags": []
   },
   "outputs": [],
   "source": [
    "df_train.info()"
   ]
  },
  {
   "cell_type": "markdown",
   "metadata": {
    "papermill": {
     "duration": 0.099542,
     "end_time": "2020-12-14T16:29:26.013579",
     "exception": false,
     "start_time": "2020-12-14T16:29:25.914037",
     "status": "completed"
    },
    "tags": []
   },
   "source": [
    "We still have a few objects features. Let's see what to do with them."
   ]
  },
  {
   "cell_type": "code",
   "execution_count": null,
   "metadata": {
    "execution": {
     "iopub.execute_input": "2020-12-14T16:29:26.233653Z",
     "iopub.status.busy": "2020-12-14T16:29:26.232669Z",
     "iopub.status.idle": "2020-12-14T16:29:26.237626Z",
     "shell.execute_reply": "2020-12-14T16:29:26.236977Z"
    },
    "papermill": {
     "duration": 0.120512,
     "end_time": "2020-12-14T16:29:26.237756",
     "exception": false,
     "start_time": "2020-12-14T16:29:26.117244",
     "status": "completed"
    },
    "tags": []
   },
   "outputs": [],
   "source": [
    "df_train[['Id', 'User Name', 'Profile Verification Status', 'User Language', 'Location Public Visibility', 'Profile Creation Timestamp', 'Profile Category', 'Profile Image']].head()"
   ]
  },
  {
   "cell_type": "code",
   "execution_count": null,
   "metadata": {
    "execution": {
     "iopub.execute_input": "2020-12-14T16:29:26.444322Z",
     "iopub.status.busy": "2020-12-14T16:29:26.441897Z",
     "iopub.status.idle": "2020-12-14T16:29:26.477657Z",
     "shell.execute_reply": "2020-12-14T16:29:26.476886Z"
    },
    "papermill": {
     "duration": 0.141411,
     "end_time": "2020-12-14T16:29:26.477784",
     "exception": false,
     "start_time": "2020-12-14T16:29:26.336373",
     "status": "completed"
    },
    "tags": []
   },
   "outputs": [],
   "source": [
    "df_train = df_train.drop(columns=['Id', 'User Name'])\n",
    "df_test = df_test.drop(columns=['User Name'])\n",
    "\n",
    "df_train.head()"
   ]
  },
  {
   "cell_type": "markdown",
   "metadata": {
    "papermill": {
     "duration": 0.102902,
     "end_time": "2020-12-14T16:29:26.681257",
     "exception": false,
     "start_time": "2020-12-14T16:29:26.578355",
     "status": "completed"
    },
    "tags": []
   },
   "source": [
    "Let's continue exploring our categorical features."
   ]
  },
  {
   "cell_type": "code",
   "execution_count": null,
   "metadata": {
    "execution": {
     "iopub.execute_input": "2020-12-14T16:29:26.890726Z",
     "iopub.status.busy": "2020-12-14T16:29:26.889656Z",
     "iopub.status.idle": "2020-12-14T16:29:26.894571Z",
     "shell.execute_reply": "2020-12-14T16:29:26.893958Z"
    },
    "papermill": {
     "duration": 0.113293,
     "end_time": "2020-12-14T16:29:26.894704",
     "exception": false,
     "start_time": "2020-12-14T16:29:26.781411",
     "status": "completed"
    },
    "tags": []
   },
   "outputs": [],
   "source": [
    "df_train['Profile Verification Status'].value_counts()"
   ]
  },
  {
   "cell_type": "markdown",
   "metadata": {
    "papermill": {
     "duration": 0.101014,
     "end_time": "2020-12-14T16:29:27.095865",
     "exception": false,
     "start_time": "2020-12-14T16:29:26.994851",
     "status": "completed"
    },
    "tags": []
   },
   "source": [
    "Considering 'Pending' status is not yet verified, we can merge pending and not verified together and turn our feature into a binary feature."
   ]
  },
  {
   "cell_type": "code",
   "execution_count": null,
   "metadata": {
    "execution": {
     "iopub.execute_input": "2020-12-14T16:29:27.311225Z",
     "iopub.status.busy": "2020-12-14T16:29:27.310303Z",
     "iopub.status.idle": "2020-12-14T16:29:27.315607Z",
     "shell.execute_reply": "2020-12-14T16:29:27.314973Z"
    },
    "papermill": {
     "duration": 0.117292,
     "end_time": "2020-12-14T16:29:27.315740",
     "exception": false,
     "start_time": "2020-12-14T16:29:27.198448",
     "status": "completed"
    },
    "tags": []
   },
   "outputs": [],
   "source": [
    "df_train['Profile Verification Status'].unique()"
   ]
  },
  {
   "cell_type": "code",
   "execution_count": null,
   "metadata": {
    "execution": {
     "iopub.execute_input": "2020-12-14T16:29:27.531250Z",
     "iopub.status.busy": "2020-12-14T16:29:27.528897Z",
     "iopub.status.idle": "2020-12-14T16:29:27.534110Z",
     "shell.execute_reply": "2020-12-14T16:29:27.534953Z"
    },
    "papermill": {
     "duration": 0.11742,
     "end_time": "2020-12-14T16:29:27.535182",
     "exception": false,
     "start_time": "2020-12-14T16:29:27.417762",
     "status": "completed"
    },
    "tags": []
   },
   "outputs": [],
   "source": [
    "df_train['Profile Verification Status'] = np.where(df_train['Profile Verification Status'] == 'Verified', 1, 0)\n",
    "df_test['Profile Verification Status'] = np.where(df_test['Profile Verification Status'] == 'Verified', 1, 0)"
   ]
  },
  {
   "cell_type": "code",
   "execution_count": null,
   "metadata": {
    "execution": {
     "iopub.execute_input": "2020-12-14T16:29:27.748527Z",
     "iopub.status.busy": "2020-12-14T16:29:27.747684Z",
     "iopub.status.idle": "2020-12-14T16:29:27.752065Z",
     "shell.execute_reply": "2020-12-14T16:29:27.751368Z"
    },
    "papermill": {
     "duration": 0.110428,
     "end_time": "2020-12-14T16:29:27.752188",
     "exception": false,
     "start_time": "2020-12-14T16:29:27.641760",
     "status": "completed"
    },
    "tags": []
   },
   "outputs": [],
   "source": [
    "df_train['Profile Verification Status'].unique()"
   ]
  },
  {
   "cell_type": "code",
   "execution_count": null,
   "metadata": {
    "execution": {
     "iopub.execute_input": "2020-12-14T16:29:27.985274Z",
     "iopub.status.busy": "2020-12-14T16:29:27.976464Z",
     "iopub.status.idle": "2020-12-14T16:29:27.990645Z",
     "shell.execute_reply": "2020-12-14T16:29:27.989995Z"
    },
    "papermill": {
     "duration": 0.137924,
     "end_time": "2020-12-14T16:29:27.990787",
     "exception": false,
     "start_time": "2020-12-14T16:29:27.852863",
     "status": "completed"
    },
    "tags": []
   },
   "outputs": [],
   "source": [
    "df_train.head()"
   ]
  },
  {
   "cell_type": "markdown",
   "metadata": {
    "papermill": {
     "duration": 0.102603,
     "end_time": "2020-12-14T16:29:28.198210",
     "exception": false,
     "start_time": "2020-12-14T16:29:28.095607",
     "status": "completed"
    },
    "tags": []
   },
   "source": [
    "We convert our boolean feature to int."
   ]
  },
  {
   "cell_type": "code",
   "execution_count": null,
   "metadata": {
    "execution": {
     "iopub.execute_input": "2020-12-14T16:29:28.417418Z",
     "iopub.status.busy": "2020-12-14T16:29:28.416456Z",
     "iopub.status.idle": "2020-12-14T16:29:28.420173Z",
     "shell.execute_reply": "2020-12-14T16:29:28.419384Z"
    },
    "papermill": {
     "duration": 0.117731,
     "end_time": "2020-12-14T16:29:28.420303",
     "exception": false,
     "start_time": "2020-12-14T16:29:28.302572",
     "status": "completed"
    },
    "tags": []
   },
   "outputs": [],
   "source": [
    "df_train['Is Profile View Size Customized?'] = df_train['Is Profile View Size Customized?'].astype(int)\n",
    "df_test['Is Profile View Size Customized?'] = df_test['Is Profile View Size Customized?'].astype(int)"
   ]
  },
  {
   "cell_type": "code",
   "execution_count": null,
   "metadata": {
    "execution": {
     "iopub.execute_input": "2020-12-14T16:29:28.637627Z",
     "iopub.status.busy": "2020-12-14T16:29:28.636757Z",
     "iopub.status.idle": "2020-12-14T16:29:28.641354Z",
     "shell.execute_reply": "2020-12-14T16:29:28.640625Z"
    },
    "papermill": {
     "duration": 0.117231,
     "end_time": "2020-12-14T16:29:28.641479",
     "exception": false,
     "start_time": "2020-12-14T16:29:28.524248",
     "status": "completed"
    },
    "tags": []
   },
   "outputs": [],
   "source": [
    "df_train['Location Public Visibility'].value_counts()"
   ]
  },
  {
   "cell_type": "markdown",
   "metadata": {
    "papermill": {
     "duration": 0.10162,
     "end_time": "2020-12-14T16:29:28.845554",
     "exception": false,
     "start_time": "2020-12-14T16:29:28.743934",
     "status": "completed"
    },
    "tags": []
   },
   "source": [
    "Let's combine some of the values in this feature."
   ]
  },
  {
   "cell_type": "code",
   "execution_count": null,
   "metadata": {
    "execution": {
     "iopub.execute_input": "2020-12-14T16:29:29.060321Z",
     "iopub.status.busy": "2020-12-14T16:29:29.059224Z",
     "iopub.status.idle": "2020-12-14T16:29:29.074080Z",
     "shell.execute_reply": "2020-12-14T16:29:29.073397Z"
    },
    "papermill": {
     "duration": 0.126675,
     "end_time": "2020-12-14T16:29:29.074212",
     "exception": false,
     "start_time": "2020-12-14T16:29:28.947537",
     "status": "completed"
    },
    "tags": []
   },
   "outputs": [],
   "source": [
    "df_train.loc[df_train['Location Public Visibility'] == '??', 'Location Public Visibility'] = 'unknown'\n",
    "df_train['Location Public Visibility'] = df_train['Location Public Visibility'].str.lower()\n",
    "df_test.loc[df_test['Location Public Visibility'] == '??', 'Location Public Visibility'] = 'unknown'\n",
    "df_test['Location Public Visibility'] = df_test['Location Public Visibility'].str.lower()"
   ]
  },
  {
   "cell_type": "code",
   "execution_count": null,
   "metadata": {
    "execution": {
     "iopub.execute_input": "2020-12-14T16:29:29.289394Z",
     "iopub.status.busy": "2020-12-14T16:29:29.288044Z",
     "iopub.status.idle": "2020-12-14T16:29:29.294217Z",
     "shell.execute_reply": "2020-12-14T16:29:29.293585Z"
    },
    "papermill": {
     "duration": 0.116531,
     "end_time": "2020-12-14T16:29:29.294371",
     "exception": false,
     "start_time": "2020-12-14T16:29:29.177840",
     "status": "completed"
    },
    "tags": []
   },
   "outputs": [],
   "source": [
    "df_train['Location Public Visibility'].unique()"
   ]
  },
  {
   "cell_type": "code",
   "execution_count": null,
   "metadata": {
    "execution": {
     "iopub.execute_input": "2020-12-14T16:29:29.508668Z",
     "iopub.status.busy": "2020-12-14T16:29:29.507880Z",
     "iopub.status.idle": "2020-12-14T16:29:29.591717Z",
     "shell.execute_reply": "2020-12-14T16:29:29.592439Z"
    },
    "papermill": {
     "duration": 0.194822,
     "end_time": "2020-12-14T16:29:29.592601",
     "exception": false,
     "start_time": "2020-12-14T16:29:29.397779",
     "status": "completed"
    },
    "tags": []
   },
   "outputs": [],
   "source": [
    "df_train = encode_frequency_feature(df_train, 'Location Public Visibility')\n",
    "df_test = encode_frequency_feature(df_test, 'Location Public Visibility')"
   ]
  },
  {
   "cell_type": "code",
   "execution_count": null,
   "metadata": {
    "execution": {
     "iopub.execute_input": "2020-12-14T16:29:29.809174Z",
     "iopub.status.busy": "2020-12-14T16:29:29.808021Z",
     "iopub.status.idle": "2020-12-14T16:29:29.812865Z",
     "shell.execute_reply": "2020-12-14T16:29:29.812278Z"
    },
    "papermill": {
     "duration": 0.115749,
     "end_time": "2020-12-14T16:29:29.812999",
     "exception": false,
     "start_time": "2020-12-14T16:29:29.697250",
     "status": "completed"
    },
    "tags": []
   },
   "outputs": [],
   "source": [
    "df_train['Location Public Visibility'].value_counts()"
   ]
  },
  {
   "cell_type": "code",
   "execution_count": null,
   "metadata": {
    "execution": {
     "iopub.execute_input": "2020-12-14T16:29:30.027203Z",
     "iopub.status.busy": "2020-12-14T16:29:30.026436Z",
     "iopub.status.idle": "2020-12-14T16:29:30.045554Z",
     "shell.execute_reply": "2020-12-14T16:29:30.044757Z"
    },
    "papermill": {
     "duration": 0.128732,
     "end_time": "2020-12-14T16:29:30.045713",
     "exception": false,
     "start_time": "2020-12-14T16:29:29.916981",
     "status": "completed"
    },
    "tags": []
   },
   "outputs": [],
   "source": [
    "df_train.info()"
   ]
  },
  {
   "cell_type": "markdown",
   "metadata": {
    "papermill": {
     "duration": 0.104751,
     "end_time": "2020-12-14T16:29:30.257172",
     "exception": false,
     "start_time": "2020-12-14T16:29:30.152421",
     "status": "completed"
    },
    "tags": []
   },
   "source": [
    "Let's study User Language."
   ]
  },
  {
   "cell_type": "code",
   "execution_count": null,
   "metadata": {
    "execution": {
     "iopub.execute_input": "2020-12-14T16:29:30.478998Z",
     "iopub.status.busy": "2020-12-14T16:29:30.478117Z",
     "iopub.status.idle": "2020-12-14T16:29:30.482709Z",
     "shell.execute_reply": "2020-12-14T16:29:30.482107Z"
    },
    "papermill": {
     "duration": 0.119124,
     "end_time": "2020-12-14T16:29:30.482845",
     "exception": false,
     "start_time": "2020-12-14T16:29:30.363721",
     "status": "completed"
    },
    "tags": []
   },
   "outputs": [],
   "source": [
    "df_train['User Language'].value_counts()"
   ]
  },
  {
   "cell_type": "code",
   "execution_count": null,
   "metadata": {
    "execution": {
     "iopub.execute_input": "2020-12-14T16:29:30.726769Z",
     "iopub.status.busy": "2020-12-14T16:29:30.725933Z",
     "iopub.status.idle": "2020-12-14T16:29:30.868461Z",
     "shell.execute_reply": "2020-12-14T16:29:30.867711Z"
    },
    "papermill": {
     "duration": 0.279699,
     "end_time": "2020-12-14T16:29:30.868589",
     "exception": false,
     "start_time": "2020-12-14T16:29:30.588890",
     "status": "completed"
    },
    "tags": []
   },
   "outputs": [],
   "source": [
    "sns.boxplot(x=df_train['User Language'].value_counts())\n",
    "plt.show()"
   ]
  },
  {
   "cell_type": "markdown",
   "metadata": {
    "papermill": {
     "duration": 0.108362,
     "end_time": "2020-12-14T16:29:31.084082",
     "exception": false,
     "start_time": "2020-12-14T16:29:30.975720",
     "status": "completed"
    },
    "tags": []
   },
   "source": [
    "Merge english and british english."
   ]
  },
  {
   "cell_type": "code",
   "execution_count": null,
   "metadata": {
    "execution": {
     "iopub.execute_input": "2020-12-14T16:29:31.318352Z",
     "iopub.status.busy": "2020-12-14T16:29:31.317289Z",
     "iopub.status.idle": "2020-12-14T16:29:31.320731Z",
     "shell.execute_reply": "2020-12-14T16:29:31.320067Z"
    },
    "papermill": {
     "duration": 0.129198,
     "end_time": "2020-12-14T16:29:31.320857",
     "exception": false,
     "start_time": "2020-12-14T16:29:31.191659",
     "status": "completed"
    },
    "tags": []
   },
   "outputs": [],
   "source": [
    "df_train.loc[df_train['User Language'] == 'en-gb', 'User Language'] = 'en'\n",
    "df_train.loc[df_train['User Language'] == 'zh-cn', 'User Language'] = 'zh'\n",
    "df_train.loc[df_train['User Language'] == 'zh-TW', 'User Language'] = 'zh'\n",
    "df_test.loc[df_test['User Language'] == 'en-gb', 'User Language'] = 'en'\n",
    "df_test.loc[df_test['User Language'] == 'zh-cn', 'User Language'] = 'zh'\n",
    "df_test.loc[df_test['User Language'] == 'zh-TW', 'User Language'] = 'zh'"
   ]
  },
  {
   "cell_type": "code",
   "execution_count": null,
   "metadata": {
    "execution": {
     "iopub.execute_input": "2020-12-14T16:29:31.545052Z",
     "iopub.status.busy": "2020-12-14T16:29:31.543973Z",
     "iopub.status.idle": "2020-12-14T16:29:31.547737Z",
     "shell.execute_reply": "2020-12-14T16:29:31.548505Z"
    },
    "papermill": {
     "duration": 0.121259,
     "end_time": "2020-12-14T16:29:31.548663",
     "exception": false,
     "start_time": "2020-12-14T16:29:31.427404",
     "status": "completed"
    },
    "tags": []
   },
   "outputs": [],
   "source": [
    "df_train['User Language'].value_counts()"
   ]
  },
  {
   "cell_type": "markdown",
   "metadata": {
    "papermill": {
     "duration": 0.107339,
     "end_time": "2020-12-14T16:29:31.763264",
     "exception": false,
     "start_time": "2020-12-14T16:29:31.655925",
     "status": "completed"
    },
    "tags": []
   },
   "source": [
    "We now use frequency encoding to encode our feature."
   ]
  },
  {
   "cell_type": "code",
   "execution_count": null,
   "metadata": {
    "execution": {
     "iopub.execute_input": "2020-12-14T16:29:31.983464Z",
     "iopub.status.busy": "2020-12-14T16:29:31.982669Z",
     "iopub.status.idle": "2020-12-14T16:29:32.064298Z",
     "shell.execute_reply": "2020-12-14T16:29:32.063504Z"
    },
    "papermill": {
     "duration": 0.194518,
     "end_time": "2020-12-14T16:29:32.064449",
     "exception": false,
     "start_time": "2020-12-14T16:29:31.869931",
     "status": "completed"
    },
    "tags": []
   },
   "outputs": [],
   "source": [
    "df_train = encode_frequency_feature(df_train, 'User Language')\n",
    "df_test = encode_frequency_feature(df_test, 'User Language')"
   ]
  },
  {
   "cell_type": "code",
   "execution_count": null,
   "metadata": {
    "execution": {
     "iopub.execute_input": "2020-12-14T16:29:32.332803Z",
     "iopub.status.busy": "2020-12-14T16:29:32.331781Z",
     "iopub.status.idle": "2020-12-14T16:29:32.353372Z",
     "shell.execute_reply": "2020-12-14T16:29:32.352721Z"
    },
    "papermill": {
     "duration": 0.180685,
     "end_time": "2020-12-14T16:29:32.353511",
     "exception": false,
     "start_time": "2020-12-14T16:29:32.172826",
     "status": "completed"
    },
    "tags": []
   },
   "outputs": [],
   "source": [
    "df_train.info()"
   ]
  },
  {
   "cell_type": "markdown",
   "metadata": {
    "papermill": {
     "duration": 0.107883,
     "end_time": "2020-12-14T16:29:32.570798",
     "exception": false,
     "start_time": "2020-12-14T16:29:32.462915",
     "status": "completed"
    },
    "tags": []
   },
   "source": [
    "Let's drop the profile image."
   ]
  },
  {
   "cell_type": "code",
   "execution_count": null,
   "metadata": {
    "execution": {
     "iopub.execute_input": "2020-12-14T16:29:32.792447Z",
     "iopub.status.busy": "2020-12-14T16:29:32.791573Z",
     "iopub.status.idle": "2020-12-14T16:29:32.796155Z",
     "shell.execute_reply": "2020-12-14T16:29:32.795578Z"
    },
    "papermill": {
     "duration": 0.117919,
     "end_time": "2020-12-14T16:29:32.796281",
     "exception": false,
     "start_time": "2020-12-14T16:29:32.678362",
     "status": "completed"
    },
    "tags": []
   },
   "outputs": [],
   "source": [
    "df_test.columns"
   ]
  },
  {
   "cell_type": "code",
   "execution_count": null,
   "metadata": {
    "execution": {
     "iopub.execute_input": "2020-12-14T16:29:33.027170Z",
     "iopub.status.busy": "2020-12-14T16:29:33.025580Z",
     "iopub.status.idle": "2020-12-14T16:29:33.029898Z",
     "shell.execute_reply": "2020-12-14T16:29:33.030472Z"
    },
    "papermill": {
     "duration": 0.123484,
     "end_time": "2020-12-14T16:29:33.030643",
     "exception": false,
     "start_time": "2020-12-14T16:29:32.907159",
     "status": "completed"
    },
    "tags": []
   },
   "outputs": [],
   "source": [
    "df_train = df_train.drop(columns=['Profile Image'])\n",
    "df_test = df_test.drop(columns=['Profile Image'])"
   ]
  },
  {
   "cell_type": "code",
   "execution_count": null,
   "metadata": {
    "execution": {
     "iopub.execute_input": "2020-12-14T16:29:33.258776Z",
     "iopub.status.busy": "2020-12-14T16:29:33.257796Z",
     "iopub.status.idle": "2020-12-14T16:29:33.263627Z",
     "shell.execute_reply": "2020-12-14T16:29:33.262893Z"
    },
    "papermill": {
     "duration": 0.122768,
     "end_time": "2020-12-14T16:29:33.263755",
     "exception": false,
     "start_time": "2020-12-14T16:29:33.140987",
     "status": "completed"
    },
    "tags": []
   },
   "outputs": [],
   "source": [
    "df_train['Profile Category'].unique()"
   ]
  },
  {
   "cell_type": "code",
   "execution_count": null,
   "metadata": {
    "execution": {
     "iopub.execute_input": "2020-12-14T16:29:33.498831Z",
     "iopub.status.busy": "2020-12-14T16:29:33.497830Z",
     "iopub.status.idle": "2020-12-14T16:29:33.500434Z",
     "shell.execute_reply": "2020-12-14T16:29:33.501105Z"
    },
    "papermill": {
     "duration": 0.128221,
     "end_time": "2020-12-14T16:29:33.501264",
     "exception": false,
     "start_time": "2020-12-14T16:29:33.373043",
     "status": "completed"
    },
    "tags": []
   },
   "outputs": [],
   "source": [
    "df_train.loc[df_train['Profile Category'] == ' ', 'Profile Category'] = 'unknown'\n",
    "df_test.loc[df_test['Profile Category'] == ' ', 'Profile Category'] = 'unknown'"
   ]
  },
  {
   "cell_type": "code",
   "execution_count": null,
   "metadata": {
    "execution": {
     "iopub.execute_input": "2020-12-14T16:29:33.728942Z",
     "iopub.status.busy": "2020-12-14T16:29:33.728133Z",
     "iopub.status.idle": "2020-12-14T16:29:33.733443Z",
     "shell.execute_reply": "2020-12-14T16:29:33.732812Z"
    },
    "papermill": {
     "duration": 0.121126,
     "end_time": "2020-12-14T16:29:33.733570",
     "exception": false,
     "start_time": "2020-12-14T16:29:33.612444",
     "status": "completed"
    },
    "tags": []
   },
   "outputs": [],
   "source": [
    "df_train['Profile Category'].unique()"
   ]
  },
  {
   "cell_type": "markdown",
   "metadata": {
    "papermill": {
     "duration": 0.110714,
     "end_time": "2020-12-14T16:29:33.954882",
     "exception": false,
     "start_time": "2020-12-14T16:29:33.844168",
     "status": "completed"
    },
    "tags": []
   },
   "source": [
    "We know encode by frequency the feature 'Profile Category'"
   ]
  },
  {
   "cell_type": "code",
   "execution_count": null,
   "metadata": {
    "execution": {
     "iopub.execute_input": "2020-12-14T16:29:34.185795Z",
     "iopub.status.busy": "2020-12-14T16:29:34.184998Z",
     "iopub.status.idle": "2020-12-14T16:29:34.266236Z",
     "shell.execute_reply": "2020-12-14T16:29:34.265569Z"
    },
    "papermill": {
     "duration": 0.199527,
     "end_time": "2020-12-14T16:29:34.266376",
     "exception": false,
     "start_time": "2020-12-14T16:29:34.066849",
     "status": "completed"
    },
    "tags": []
   },
   "outputs": [],
   "source": [
    "df_train = encode_frequency_feature(df_train, 'Profile Category')\n",
    "df_test = encode_frequency_feature(df_test, 'Profile Category')"
   ]
  },
  {
   "cell_type": "code",
   "execution_count": null,
   "metadata": {
    "execution": {
     "iopub.execute_input": "2020-12-14T16:29:34.495167Z",
     "iopub.status.busy": "2020-12-14T16:29:34.494170Z",
     "iopub.status.idle": "2020-12-14T16:29:34.498821Z",
     "shell.execute_reply": "2020-12-14T16:29:34.498093Z"
    },
    "papermill": {
     "duration": 0.121725,
     "end_time": "2020-12-14T16:29:34.498952",
     "exception": false,
     "start_time": "2020-12-14T16:29:34.377227",
     "status": "completed"
    },
    "tags": []
   },
   "outputs": [],
   "source": [
    "df_train['Profile Category'].unique()"
   ]
  },
  {
   "cell_type": "code",
   "execution_count": null,
   "metadata": {
    "execution": {
     "iopub.execute_input": "2020-12-14T16:29:34.727214Z",
     "iopub.status.busy": "2020-12-14T16:29:34.726500Z",
     "iopub.status.idle": "2020-12-14T16:29:34.741617Z",
     "shell.execute_reply": "2020-12-14T16:29:34.740611Z"
    },
    "papermill": {
     "duration": 0.131562,
     "end_time": "2020-12-14T16:29:34.741778",
     "exception": false,
     "start_time": "2020-12-14T16:29:34.610216",
     "status": "completed"
    },
    "tags": []
   },
   "outputs": [],
   "source": [
    "df_train.info()"
   ]
  },
  {
   "cell_type": "code",
   "execution_count": null,
   "metadata": {
    "execution": {
     "iopub.execute_input": "2020-12-14T16:29:34.977670Z",
     "iopub.status.busy": "2020-12-14T16:29:34.974289Z",
     "iopub.status.idle": "2020-12-14T16:29:34.980498Z",
     "shell.execute_reply": "2020-12-14T16:29:34.981021Z"
    },
    "papermill": {
     "duration": 0.127358,
     "end_time": "2020-12-14T16:29:34.981176",
     "exception": false,
     "start_time": "2020-12-14T16:29:34.853818",
     "status": "completed"
    },
    "tags": []
   },
   "outputs": [],
   "source": [
    "def transform_timestamp(X):\n",
    "    #Get Year and Month information\n",
    "    df_year = X['Profile Creation Timestamp'].str.split(\" \", expand=True)[5]\n",
    "    df_month = X['Profile Creation Timestamp'].str.split(\" \", expand=True)[1]  \n",
    "    #Map month string to numerical value\n",
    "    months = {'Jan': 1, 'Feb': 2, 'Mar': 3, 'Apr': 4, 'May': 5, 'Jun': 6, 'Jul': 7, 'Aug': 8, 'Sep': 9, 'Oct': 10, 'Nov': 11, 'Dec': 12}\n",
    "    df_month = df_month.map(months)\n",
    "    #Subtract months\n",
    "    df_duration = df_year.apply(lambda x: (2020-int(x))*24)\n",
    "    df_duration = df_duration - df_month\n",
    "    #Rename column, add to df_train and drop timestamp\n",
    "    df_duration = df_duration.astype(int)\n",
    "    df_duration.rename('Months Since Profile Creation')\n",
    "    X['Months Since Profile Creation'] = df_duration\n",
    "    X = X.drop(columns='Profile Creation Timestamp', axis=1)\n",
    "    return X"
   ]
  },
  {
   "cell_type": "code",
   "execution_count": null,
   "metadata": {
    "execution": {
     "iopub.execute_input": "2020-12-14T16:29:35.231983Z",
     "iopub.status.busy": "2020-12-14T16:29:35.211868Z",
     "iopub.status.idle": "2020-12-14T16:29:35.310189Z",
     "shell.execute_reply": "2020-12-14T16:29:35.309358Z"
    },
    "papermill": {
     "duration": 0.216203,
     "end_time": "2020-12-14T16:29:35.310328",
     "exception": false,
     "start_time": "2020-12-14T16:29:35.094125",
     "status": "completed"
    },
    "tags": []
   },
   "outputs": [],
   "source": [
    "df_train = transform_timestamp(df_train)\n",
    "df_test = transform_timestamp(df_test)"
   ]
  },
  {
   "cell_type": "code",
   "execution_count": null,
   "metadata": {
    "execution": {
     "iopub.execute_input": "2020-12-14T16:29:35.565394Z",
     "iopub.status.busy": "2020-12-14T16:29:35.564357Z",
     "iopub.status.idle": "2020-12-14T16:29:35.568998Z",
     "shell.execute_reply": "2020-12-14T16:29:35.569548Z"
    },
    "papermill": {
     "duration": 0.146541,
     "end_time": "2020-12-14T16:29:35.569713",
     "exception": false,
     "start_time": "2020-12-14T16:29:35.423172",
     "status": "completed"
    },
    "tags": []
   },
   "outputs": [],
   "source": [
    "df_train.head(5)"
   ]
  },
  {
   "cell_type": "code",
   "execution_count": null,
   "metadata": {
    "execution": {
     "iopub.execute_input": "2020-12-14T16:29:35.825802Z",
     "iopub.status.busy": "2020-12-14T16:29:35.824916Z",
     "iopub.status.idle": "2020-12-14T16:29:35.828904Z",
     "shell.execute_reply": "2020-12-14T16:29:35.829454Z"
    },
    "papermill": {
     "duration": 0.147001,
     "end_time": "2020-12-14T16:29:35.829617",
     "exception": false,
     "start_time": "2020-12-14T16:29:35.682616",
     "status": "completed"
    },
    "tags": []
   },
   "outputs": [],
   "source": [
    "df_test.head(5)"
   ]
  },
  {
   "cell_type": "code",
   "execution_count": null,
   "metadata": {
    "execution": {
     "iopub.execute_input": "2020-12-14T16:29:36.063707Z",
     "iopub.status.busy": "2020-12-14T16:29:36.062896Z",
     "iopub.status.idle": "2020-12-14T16:29:36.083965Z",
     "shell.execute_reply": "2020-12-14T16:29:36.083204Z"
    },
    "papermill": {
     "duration": 0.140493,
     "end_time": "2020-12-14T16:29:36.084091",
     "exception": false,
     "start_time": "2020-12-14T16:29:35.943598",
     "status": "completed"
    },
    "tags": []
   },
   "outputs": [],
   "source": [
    "#Check which features ar ehighly correlated with the target variable\n",
    "correlation_matrix = df_train.corr()[['Num of Profile Likes']].sort_values('Num of Profile Likes')\n",
    "correlation_matrix"
   ]
  },
  {
   "cell_type": "code",
   "execution_count": null,
   "metadata": {
    "execution": {
     "iopub.execute_input": "2020-12-14T16:29:36.322263Z",
     "iopub.status.busy": "2020-12-14T16:29:36.321170Z",
     "iopub.status.idle": "2020-12-14T16:29:38.229000Z",
     "shell.execute_reply": "2020-12-14T16:29:38.229590Z"
    },
    "papermill": {
     "duration": 2.031098,
     "end_time": "2020-12-14T16:29:38.229744",
     "exception": false,
     "start_time": "2020-12-14T16:29:36.198646",
     "status": "completed"
    },
    "tags": []
   },
   "outputs": [],
   "source": [
    "#Plot correlation coefficients\n",
    "plt.figure(figsize=(12,10))\n",
    "sns.heatmap(df_train.drop('Num of Profile Likes',axis=1).corr(), vmax=0.6, square=True, annot=True)\n",
    "plt.show()"
   ]
  },
  {
   "cell_type": "markdown",
   "metadata": {
    "papermill": {
     "duration": 0.121492,
     "end_time": "2020-12-14T16:29:38.473817",
     "exception": false,
     "start_time": "2020-12-14T16:29:38.352325",
     "status": "completed"
    },
    "tags": []
   },
   "source": [
    "Now that we have cleaned our data, let's see where we are at regarding outliers."
   ]
  },
  {
   "cell_type": "code",
   "execution_count": null,
   "metadata": {
    "execution": {
     "iopub.execute_input": "2020-12-14T16:29:38.722194Z",
     "iopub.status.busy": "2020-12-14T16:29:38.721396Z",
     "iopub.status.idle": "2020-12-14T16:29:38.724302Z",
     "shell.execute_reply": "2020-12-14T16:29:38.724853Z"
    },
    "papermill": {
     "duration": 0.12978,
     "end_time": "2020-12-14T16:29:38.725043",
     "exception": false,
     "start_time": "2020-12-14T16:29:38.595263",
     "status": "completed"
    },
    "tags": []
   },
   "outputs": [],
   "source": [
    "first_batch = ['Num of Followers', 'Num of People Following', 'Num of Status Updates', 'Num of Direct Messages', 'Avg Daily Profile Visit Duration in seconds', 'Avg Daily Profile Clicks', 'Months Since Profile Creation']"
   ]
  },
  {
   "cell_type": "code",
   "execution_count": null,
   "metadata": {
    "execution": {
     "iopub.execute_input": "2020-12-14T16:29:38.976950Z",
     "iopub.status.busy": "2020-12-14T16:29:38.974750Z",
     "iopub.status.idle": "2020-12-14T16:29:39.289849Z",
     "shell.execute_reply": "2020-12-14T16:29:39.289169Z"
    },
    "papermill": {
     "duration": 0.442913,
     "end_time": "2020-12-14T16:29:39.289983",
     "exception": false,
     "start_time": "2020-12-14T16:29:38.847070",
     "status": "completed"
    },
    "tags": []
   },
   "outputs": [],
   "source": [
    "plt.figure(figsize=(20,15))\n",
    "sns.boxplot(data=df_train[first_batch])\n",
    "plt.show()"
   ]
  },
  {
   "cell_type": "markdown",
   "metadata": {
    "papermill": {
     "duration": 0.125485,
     "end_time": "2020-12-14T16:29:39.539075",
     "exception": false,
     "start_time": "2020-12-14T16:29:39.413590",
     "status": "completed"
    },
    "tags": []
   },
   "source": [
    "We thus see that some features contain a high number of outliers. We need to deal with some of them. "
   ]
  },
  {
   "cell_type": "code",
   "execution_count": null,
   "metadata": {
    "execution": {
     "iopub.execute_input": "2020-12-14T16:29:39.791771Z",
     "iopub.status.busy": "2020-12-14T16:29:39.790921Z",
     "iopub.status.idle": "2020-12-14T16:29:40.964030Z",
     "shell.execute_reply": "2020-12-14T16:29:40.963385Z"
    },
    "papermill": {
     "duration": 1.303035,
     "end_time": "2020-12-14T16:29:40.964154",
     "exception": false,
     "start_time": "2020-12-14T16:29:39.661119",
     "status": "completed"
    },
    "tags": []
   },
   "outputs": [],
   "source": [
    "print(df_train[first_batch].skew())\n",
    "df_train[first_batch].hist(bins=15, figsize=(15, 6), layout=(2, 4))\n",
    "plt.show()"
   ]
  },
  {
   "cell_type": "code",
   "execution_count": null,
   "metadata": {
    "execution": {
     "iopub.execute_input": "2020-12-14T16:29:41.223807Z",
     "iopub.status.busy": "2020-12-14T16:29:41.222685Z",
     "iopub.status.idle": "2020-12-14T16:29:42.523063Z",
     "shell.execute_reply": "2020-12-14T16:29:42.522434Z"
    },
    "papermill": {
     "duration": 1.434642,
     "end_time": "2020-12-14T16:29:42.523203",
     "exception": false,
     "start_time": "2020-12-14T16:29:41.088561",
     "status": "completed"
    },
    "tags": []
   },
   "outputs": [],
   "source": [
    "print(df_test[first_batch].skew())\n",
    "df_test[first_batch].hist(bins=15, figsize=(15, 6), layout=(2, 4))\n",
    "plt.show()"
   ]
  },
  {
   "cell_type": "markdown",
   "metadata": {
    "papermill": {
     "duration": 0.125678,
     "end_time": "2020-12-14T16:29:42.774747",
     "exception": false,
     "start_time": "2020-12-14T16:29:42.649069",
     "status": "completed"
    },
    "tags": []
   },
   "source": [
    "We see that 'Avg Daily Profile Visit Duration in seconds' is more or less normally distributed. Same goes for 'Months since profile creation' We therefore do not need to do much about it. The other features are however heavily skewed and we will need to deal with them."
   ]
  },
  {
   "cell_type": "code",
   "execution_count": null,
   "metadata": {
    "execution": {
     "iopub.execute_input": "2020-12-14T16:29:43.032530Z",
     "iopub.status.busy": "2020-12-14T16:29:43.031480Z",
     "iopub.status.idle": "2020-12-14T16:29:43.035090Z",
     "shell.execute_reply": "2020-12-14T16:29:43.034314Z"
    },
    "papermill": {
     "duration": 0.134803,
     "end_time": "2020-12-14T16:29:43.035254",
     "exception": false,
     "start_time": "2020-12-14T16:29:42.900451",
     "status": "completed"
    },
    "tags": []
   },
   "outputs": [],
   "source": [
    "first_batch.remove('Avg Daily Profile Visit Duration in seconds')\n",
    "first_batch.remove('Months Since Profile Creation')"
   ]
  },
  {
   "cell_type": "markdown",
   "metadata": {
    "papermill": {
     "duration": 0.128308,
     "end_time": "2020-12-14T16:29:43.291886",
     "exception": false,
     "start_time": "2020-12-14T16:29:43.163578",
     "status": "completed"
    },
    "tags": []
   },
   "source": [
    "Let's complete a log transform of our skewed variables to see if we can minimize the skewness."
   ]
  },
  {
   "cell_type": "code",
   "execution_count": null,
   "metadata": {
    "execution": {
     "iopub.execute_input": "2020-12-14T16:29:43.554308Z",
     "iopub.status.busy": "2020-12-14T16:29:43.553535Z",
     "iopub.status.idle": "2020-12-14T16:29:43.563568Z",
     "shell.execute_reply": "2020-12-14T16:29:43.562784Z"
    },
    "papermill": {
     "duration": 0.1447,
     "end_time": "2020-12-14T16:29:43.563697",
     "exception": false,
     "start_time": "2020-12-14T16:29:43.418997",
     "status": "completed"
    },
    "tags": []
   },
   "outputs": [],
   "source": [
    "df_train[first_batch] = np.log1p(df_train[first_batch])\n",
    "df_test[first_batch] = np.log1p(df_test[first_batch])"
   ]
  },
  {
   "cell_type": "markdown",
   "metadata": {
    "papermill": {
     "duration": 0.126154,
     "end_time": "2020-12-14T16:29:43.818170",
     "exception": false,
     "start_time": "2020-12-14T16:29:43.692016",
     "status": "completed"
    },
    "tags": []
   },
   "source": [
    "TRAIN after log transform"
   ]
  },
  {
   "cell_type": "code",
   "execution_count": null,
   "metadata": {
    "execution": {
     "iopub.execute_input": "2020-12-14T16:29:44.080061Z",
     "iopub.status.busy": "2020-12-14T16:29:44.079281Z",
     "iopub.status.idle": "2020-12-14T16:29:45.214616Z",
     "shell.execute_reply": "2020-12-14T16:29:45.213941Z"
    },
    "papermill": {
     "duration": 1.270078,
     "end_time": "2020-12-14T16:29:45.214745",
     "exception": false,
     "start_time": "2020-12-14T16:29:43.944667",
     "status": "completed"
    },
    "tags": []
   },
   "outputs": [],
   "source": [
    "print(df_train[first_batch].skew())\n",
    "df_train[first_batch].hist(bins=15, figsize=(15, 6), layout=(2, 4))\n",
    "plt.show()"
   ]
  },
  {
   "cell_type": "code",
   "execution_count": null,
   "metadata": {
    "execution": {
     "iopub.execute_input": "2020-12-14T16:29:45.481885Z",
     "iopub.status.busy": "2020-12-14T16:29:45.480759Z",
     "iopub.status.idle": "2020-12-14T16:29:46.375688Z",
     "shell.execute_reply": "2020-12-14T16:29:46.375081Z"
    },
    "papermill": {
     "duration": 1.030954,
     "end_time": "2020-12-14T16:29:46.375818",
     "exception": false,
     "start_time": "2020-12-14T16:29:45.344864",
     "status": "completed"
    },
    "tags": []
   },
   "outputs": [],
   "source": [
    "print(df_test[first_batch].skew())\n",
    "df_test[first_batch].hist(bins=15, figsize=(15, 6), layout=(2, 4))\n",
    "plt.show()"
   ]
  },
  {
   "cell_type": "code",
   "execution_count": null,
   "metadata": {
    "execution": {
     "iopub.execute_input": "2020-12-14T16:29:46.651772Z",
     "iopub.status.busy": "2020-12-14T16:29:46.644273Z",
     "iopub.status.idle": "2020-12-14T16:29:46.921218Z",
     "shell.execute_reply": "2020-12-14T16:29:46.920498Z"
    },
    "papermill": {
     "duration": 0.415276,
     "end_time": "2020-12-14T16:29:46.921359",
     "exception": false,
     "start_time": "2020-12-14T16:29:46.506083",
     "status": "completed"
    },
    "tags": []
   },
   "outputs": [],
   "source": [
    "plt.figure(figsize=(20,15))\n",
    "sns.boxplot(data=df_train[first_batch])\n",
    "plt.show()"
   ]
  },
  {
   "cell_type": "code",
   "execution_count": null,
   "metadata": {
    "execution": {
     "iopub.execute_input": "2020-12-14T16:29:47.195591Z",
     "iopub.status.busy": "2020-12-14T16:29:47.194811Z",
     "iopub.status.idle": "2020-12-14T16:29:47.805380Z",
     "shell.execute_reply": "2020-12-14T16:29:47.804629Z"
    },
    "papermill": {
     "duration": 0.749794,
     "end_time": "2020-12-14T16:29:47.805553",
     "exception": false,
     "start_time": "2020-12-14T16:29:47.055759",
     "status": "completed"
    },
    "tags": []
   },
   "outputs": [],
   "source": [
    "df_train.to_csv(\"/kaggle/working/preprocessed_train_data.csv\", index=False)\n",
    "df_test.to_csv(\"/kaggle/working/preprocessed_test_data.csv\", index=False)"
   ]
  }
 ],
 "metadata": {
  "kernelspec": {
   "display_name": "Python 3",
   "language": "python",
   "name": "python3"
  },
  "language_info": {
   "codemirror_mode": {
    "name": "ipython",
    "version": 3
   },
   "file_extension": ".py",
   "mimetype": "text/x-python",
   "name": "python",
   "nbconvert_exporter": "python",
   "pygments_lexer": "ipython3",
   "version": "3.7.6"
  },
  "papermill": {
   "duration": 48.051182,
   "end_time": "2020-12-14T16:29:48.046554",
   "environment_variables": {},
   "exception": null,
   "input_path": "__notebook__.ipynb",
   "output_path": "__notebook__.ipynb",
   "parameters": {},
   "start_time": "2020-12-14T16:28:59.995372",
   "version": "2.1.0"
  }
 },
 "nbformat": 4,
 "nbformat_minor": 4
}